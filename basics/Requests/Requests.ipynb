{
 "cells": [
  {
   "cell_type": "markdown",
   "id": "6bb366d6-47a9-41b2-b197-c67ea173f14e",
   "metadata": {},
   "source": [
    "# Exercicios"
   ]
  },
  {
   "cell_type": "markdown",
   "id": "9f013518-b73e-42db-b3b7-0e2e3e9506d6",
   "metadata": {},
   "source": [
    "##### Escreva um programa Python para encontrar a versão do módulo Requests, licença, informações de direitos autorais, autor, e-mail do autor, url do documento, título e descrição."
   ]
  },
  {
   "cell_type": "code",
   "execution_count": null,
   "id": "6adfa49c-1735-47e3-948b-d3b779d8cc64",
   "metadata": {},
   "outputs": [],
   "source": []
  },
  {
   "cell_type": "markdown",
   "id": "e342bd71-33fc-4676-b708-7c320b209d84",
   "metadata": {},
   "source": [
    "##### Escreva um programa Python para enviar uma solicitação a uma página da Web e imprima o valor JSON da resposta. Imprima cada valor de chave na resposta."
   ]
  },
  {
   "cell_type": "code",
   "execution_count": null,
   "id": "2f74a912-4dfc-4dc1-a384-65c74d0abf9e",
   "metadata": {},
   "outputs": [],
   "source": []
  },
  {
   "cell_type": "markdown",
   "id": "f312bd4c-9cb9-4171-9453-d7986de89b21",
   "metadata": {},
   "source": [
    "##### Escreva um programa Python para enviar uma solicitação a uma página da Web e parar de esperar por uma resposta após um determinado número de segundos. Se uma solicitação atingir o tempo limite, gere uma exceção Timeout."
   ]
  },
  {
   "cell_type": "code",
   "execution_count": null,
   "id": "834c7d84-137b-4902-8e91-453c911e577a",
   "metadata": {},
   "outputs": [],
   "source": []
  },
  {
   "cell_type": "markdown",
   "id": "e7e4935e-48a3-4925-a564-a0069cfd9e6e",
   "metadata": {},
   "source": [
    "##### Escreva um programa Python para enviar algum tipo de dado na string de consulta da URL."
   ]
  },
  {
   "cell_type": "code",
   "execution_count": null,
   "id": "eebf3c77-65f0-409f-a871-6b213eebcd5e",
   "metadata": {},
   "outputs": [],
   "source": []
  },
  {
   "cell_type": "markdown",
   "id": "5c4f1d59-960e-44d6-b9c1-77abbf30fed6",
   "metadata": {},
   "source": [
    "##### Escreva um programa Python para verificar o certificado SSL de um site certificado."
   ]
  },
  {
   "cell_type": "code",
   "execution_count": null,
   "id": "ca650359-3aba-45a1-9502-c5b094c7bf91",
   "metadata": {},
   "outputs": [],
   "source": []
  },
  {
   "cell_type": "code",
   "execution_count": null,
   "id": "1ecf43ab-8f97-4c11-9138-08683eaff7c1",
   "metadata": {},
   "outputs": [],
   "source": []
  }
 ],
 "metadata": {
  "kernelspec": {
   "display_name": "Python 3 (ipykernel)",
   "language": "python",
   "name": "python3"
  },
  "language_info": {
   "codemirror_mode": {
    "name": "ipython",
    "version": 3
   },
   "file_extension": ".py",
   "mimetype": "text/x-python",
   "name": "python",
   "nbconvert_exporter": "python",
   "pygments_lexer": "ipython3",
   "version": "3.9.0"
  }
 },
 "nbformat": 4,
 "nbformat_minor": 5
}
