{
 "cells": [
  {
   "cell_type": "markdown",
   "id": "cfbdea89-24cc-43e4-ba20-7c2f9b7a2693",
   "metadata": {},
   "source": [
    "# Exercicios"
   ]
  },
  {
   "cell_type": "markdown",
   "id": "388f78e1-8fbf-416b-a36d-1116e0d78802",
   "metadata": {},
   "source": [
    "##### Escreva um programa Python para remover todas as duplicatas de uma determinada lista de strings e retornar uma lista de strings únicas.  "
   ]
  },
  {
   "cell_type": "code",
   "execution_count": 3,
   "id": "9f65df61-79fb-48c6-8f2f-2f0ad1631bf1",
   "metadata": {},
   "outputs": [],
   "source": [
    "string_list = list('ola mundo tudo bem?')"
   ]
  },
  {
   "cell_type": "code",
   "execution_count": 5,
   "id": "7f509ffe-5229-4cd3-9653-e1a23db34f52",
   "metadata": {
    "tags": []
   },
   "outputs": [
    {
     "data": {
      "text/plain": [
       "['l', 'm', 'u', 'n', 't', '?', 'o', 'b', 'a', 'd', 'e', ' ']"
      ]
     },
     "execution_count": 5,
     "metadata": {},
     "output_type": "execute_result"
    }
   ],
   "source": [
    "[x for x in set(string_list)]"
   ]
  },
  {
   "cell_type": "markdown",
   "id": "ed0fe73f-61c6-440d-9191-908b0d9074c1",
   "metadata": {},
   "source": [
    "##### Dados dois conjuntos de números, escreva um programa em Python para encontrar os números que faltam no segundo conjunto em comparação com o primeiro e vice-versa.   "
   ]
  },
  {
   "cell_type": "code",
   "execution_count": 7,
   "id": "dee80610-6b4d-4263-a410-3f46e346bccb",
   "metadata": {},
   "outputs": [],
   "source": [
    "primeiro_conjunto = set((1,2,3,4,5,6))\n",
    "segundo_conjunto = set((4,5,6,7,8,9,10,11,12))"
   ]
  },
  {
   "cell_type": "code",
   "execution_count": 8,
   "id": "ab99809f-2970-4010-a393-c652eb0d08c0",
   "metadata": {
    "tags": []
   },
   "outputs": [
    {
     "data": {
      "text/plain": [
       "{1, 2, 3}"
      ]
     },
     "execution_count": 8,
     "metadata": {},
     "output_type": "execute_result"
    }
   ],
   "source": [
    "primeiro_conjunto - segundo_co\n",
    "njunto"
   ]
  },
  {
   "cell_type": "code",
   "execution_count": 9,
   "id": "640d1a52-39da-422d-afbd-fe8869d2363f",
   "metadata": {
    "tags": []
   },
   "outputs": [
    {
     "data": {
      "text/plain": [
       "{7, 8, 9, 10, 11, 12}"
      ]
     },
     "execution_count": 9,
     "metadata": {},
     "output_type": "execute_result"
    }
   ],
   "source": [
    "segundo_conjunto - primeiro_conjunto"
   ]
  },
  {
   "cell_type": "markdown",
   "id": "1eb2d846-a6a2-492d-9dd1-181f50f1db87",
   "metadata": {},
   "source": [
    "##### Escreva um programa Python para verificar se dois conjuntos dados não possuem elementos em comum."
   ]
  },
  {
   "cell_type": "code",
   "execution_count": 10,
   "id": "8e7ced98-43b0-4697-81e3-353521a10775",
   "metadata": {},
   "outputs": [],
   "source": [
    "primeiro_conjunto = set((1,2,3,4,5,6))\n",
    "segundo_conjunto = set((4,5,6,7,8,9,10,11,12))"
   ]
  },
  {
   "cell_type": "code",
   "execution_count": 17,
   "id": "f5c7acbf-93d6-4b01-9c6c-6e527b32c052",
   "metadata": {
    "tags": []
   },
   "outputs": [
    {
     "data": {
      "text/plain": [
       "{4, 5, 6}"
      ]
     },
     "execution_count": 17,
     "metadata": {},
     "output_type": "execute_result"
    }
   ],
   "source": [
    "primeiro_conjunto & segundo_conjunto"
   ]
  },
  {
   "cell_type": "code",
   "execution_count": 11,
   "id": "9e65a4d5-3876-47bb-b78b-40beb5e922d4",
   "metadata": {
    "tags": []
   },
   "outputs": [
    {
     "data": {
      "text/plain": [
       "{4, 5, 6}"
      ]
     },
     "execution_count": 11,
     "metadata": {},
     "output_type": "execute_result"
    }
   ],
   "source": [
    "primeiro_conjunto.intersection(segundo_conjunto)"
   ]
  },
  {
   "cell_type": "code",
   "execution_count": 12,
   "id": "bcf30938-81b4-466b-b2fc-889c113e2dbe",
   "metadata": {
    "tags": []
   },
   "outputs": [
    {
     "data": {
      "text/plain": [
       "{4, 5, 6}"
      ]
     },
     "execution_count": 12,
     "metadata": {},
     "output_type": "execute_result"
    }
   ],
   "source": [
    "segundo_conjunto.intersection(primeiro_conjunto)"
   ]
  },
  {
   "cell_type": "markdown",
   "id": "569ced31-6be1-48a6-acf4-5cb190d3d070",
   "metadata": {},
   "source": [
    "##### Escreva um programa Python para verificar se um conjunto é um subconjunto de outro conjunto."
   ]
  },
  {
   "cell_type": "code",
   "execution_count": 13,
   "id": "889bb1ae-bfb8-4ac4-812f-a81b7fc39da4",
   "metadata": {},
   "outputs": [],
   "source": [
    "primeiro_conjunto = set((4,5,6))\n",
    "segundo_conjunto = set((4,5,6,7,8,9,10,11,12))"
   ]
  },
  {
   "cell_type": "code",
   "execution_count": 15,
   "id": "c5f2726c-0ea6-4f7c-af8d-ca6faf6874d2",
   "metadata": {
    "tags": []
   },
   "outputs": [
    {
     "data": {
      "text/plain": [
       "True"
      ]
     },
     "execution_count": 15,
     "metadata": {},
     "output_type": "execute_result"
    }
   ],
   "source": [
    "primeiro_conjunto.issubset(segundo_conjunto)"
   ]
  },
  {
   "cell_type": "code",
   "execution_count": 16,
   "id": "58a6f047-fdf5-48f7-b5a2-e621fe57a84e",
   "metadata": {
    "tags": []
   },
   "outputs": [
    {
     "data": {
      "text/plain": [
       "True"
      ]
     },
     "execution_count": 16,
     "metadata": {},
     "output_type": "execute_result"
    }
   ],
   "source": [
    "segundo_conjunto.issuperset(primeiro_conjunto)"
   ]
  },
  {
   "cell_type": "markdown",
   "id": "5839fa9e-36cd-4083-be1b-9aef613abe65",
   "metadata": {},
   "source": [
    "##### Escreva um programa Python para criar uma diferença simétrica."
   ]
  },
  {
   "cell_type": "code",
   "execution_count": 24,
   "id": "c44c264c-d025-488c-9e93-23e966570d87",
   "metadata": {},
   "outputs": [],
   "source": [
    "primeiro_conjunto = set((1,2,3,4,5,6))\n",
    "segundo_conjunto = set((4,5,6,7,8,9,10,11,12))"
   ]
  },
  {
   "cell_type": "code",
   "execution_count": 25,
   "id": "d924845f-b42c-43fc-87eb-883456eec4a9",
   "metadata": {
    "tags": []
   },
   "outputs": [
    {
     "data": {
      "text/plain": [
       "{1, 2, 3, 7, 8, 9, 10, 11, 12}"
      ]
     },
     "execution_count": 25,
     "metadata": {},
     "output_type": "execute_result"
    }
   ],
   "source": [
    "primeiro_conjunto.symmetric_difference(segundo_conjunto)"
   ]
  },
  {
   "cell_type": "code",
   "execution_count": 26,
   "id": "6df65d22-ca2f-4cfc-952d-3e426e396c1d",
   "metadata": {
    "tags": []
   },
   "outputs": [
    {
     "data": {
      "text/plain": [
       "{1, 2, 3, 7, 8, 9, 10, 11, 12}"
      ]
     },
     "execution_count": 26,
     "metadata": {},
     "output_type": "execute_result"
    }
   ],
   "source": [
    "primeiro_conjunto ^ segundo_conjunto"
   ]
  },
  {
   "cell_type": "markdown",
   "id": "8ecbab54-3f6c-472c-a869-024a52acdf26",
   "metadata": {},
   "source": [
    "##### Escreva um programa Python para criar diferenças de conjuntos."
   ]
  },
  {
   "cell_type": "code",
   "execution_count": 27,
   "id": "4a80a75e-3551-4674-b1db-d04c93e16ee9",
   "metadata": {},
   "outputs": [],
   "source": [
    "primeiro_conjunto = set((1,2,3,4,5,6))\n",
    "segundo_conjunto = set((4,5,6,7,8,9,10,11,12))"
   ]
  },
  {
   "cell_type": "code",
   "execution_count": 28,
   "id": "2d93f6f5-404a-46b7-894c-cffe8d45c751",
   "metadata": {
    "tags": []
   },
   "outputs": [
    {
     "data": {
      "text/plain": [
       "{1, 2, 3}"
      ]
     },
     "execution_count": 28,
     "metadata": {},
     "output_type": "execute_result"
    }
   ],
   "source": [
    "primeiro_conjunto.difference(segundo_conjunto)"
   ]
  },
  {
   "cell_type": "code",
   "execution_count": 29,
   "id": "29996e44-8819-4e7c-8603-43d0d87deba3",
   "metadata": {
    "tags": []
   },
   "outputs": [
    {
     "data": {
      "text/plain": [
       "{1, 2, 3}"
      ]
     },
     "execution_count": 29,
     "metadata": {},
     "output_type": "execute_result"
    }
   ],
   "source": [
    "primeiro_conjunto - segundo_conjunto"
   ]
  },
  {
   "cell_type": "markdown",
   "id": "a0325689-7d99-43f0-8f2b-1ebc08e0ace3",
   "metadata": {},
   "source": [
    "##### Escreva um programa Python para criar uma união de conjuntos."
   ]
  },
  {
   "cell_type": "code",
   "execution_count": 18,
   "id": "baa34ce7-1219-4bfd-88d6-f2035c6bb82f",
   "metadata": {},
   "outputs": [],
   "source": [
    "primeiro_conjunto = set((1,2,3,4,5,6))\n",
    "segundo_conjunto = set((4,5,6,7,8,9,10,11,12))"
   ]
  },
  {
   "cell_type": "code",
   "execution_count": 19,
   "id": "cdd80bbf-0469-4116-86d6-06c0767b0d99",
   "metadata": {
    "tags": []
   },
   "outputs": [
    {
     "data": {
      "text/plain": [
       "{1, 2, 3, 4, 5, 6, 7, 8, 9, 10, 11, 12}"
      ]
     },
     "execution_count": 19,
     "metadata": {},
     "output_type": "execute_result"
    }
   ],
   "source": [
    "primeiro_conjunto | segundo_conjunto"
   ]
  },
  {
   "cell_type": "code",
   "execution_count": 20,
   "id": "f6683e7c-5b5f-4e23-b3e5-8bc28fa450d0",
   "metadata": {
    "tags": []
   },
   "outputs": [
    {
     "data": {
      "text/plain": [
       "{1, 2, 3, 4, 5, 6, 7, 8, 9, 10, 11, 12}"
      ]
     },
     "execution_count": 20,
     "metadata": {},
     "output_type": "execute_result"
    }
   ],
   "source": [
    "primeiro_conjunto.union(segundo_conjunto)"
   ]
  },
  {
   "cell_type": "markdown",
   "id": "9f26c597-5c22-47fb-9207-8a585d28133f",
   "metadata": {},
   "source": [
    "##### Escreva um programa Python para criar uma interseção de conjuntos."
   ]
  },
  {
   "cell_type": "code",
   "execution_count": 23,
   "id": "37c47d8a-82ab-419c-b8cc-8528a780b71d",
   "metadata": {
    "tags": []
   },
   "outputs": [],
   "source": [
    "primeiro_conjunto = set((1,2,3,4,5,6))\n",
    "segundo_conjunto = set((4,5,6,7,8,9,10,11,12))"
   ]
  },
  {
   "cell_type": "code",
   "execution_count": 21,
   "id": "1013b927-4ee7-441a-b23b-300cbfdd5315",
   "metadata": {},
   "outputs": [
    {
     "data": {
      "text/plain": [
       "{4, 5, 6}"
      ]
     },
     "execution_count": 21,
     "metadata": {},
     "output_type": "execute_result"
    }
   ],
   "source": [
    "primeiro_conjunto & segundo_conjunto"
   ]
  },
  {
   "cell_type": "code",
   "execution_count": 22,
   "id": "3cf8141b-5635-4676-bca7-07f02ef6cdd0",
   "metadata": {},
   "outputs": [
    {
     "data": {
      "text/plain": [
       "{4, 5, 6}"
      ]
     },
     "execution_count": 22,
     "metadata": {},
     "output_type": "execute_result"
    }
   ],
   "source": [
    "primeiro_conjunto.intersection(segundo_conjunto)"
   ]
  },
  {
   "cell_type": "code",
   "execution_count": null,
   "id": "67702e98-7d1e-4124-92b3-2ecc6e7554e6",
   "metadata": {},
   "outputs": [],
   "source": []
  }
 ],
 "metadata": {
  "kernelspec": {
   "display_name": "Python 3 (ipykernel)",
   "language": "python",
   "name": "python3"
  },
  "language_info": {
   "codemirror_mode": {
    "name": "ipython",
    "version": 3
   },
   "file_extension": ".py",
   "mimetype": "text/x-python",
   "name": "python",
   "nbconvert_exporter": "python",
   "pygments_lexer": "ipython3",
   "version": "3.9.0"
  }
 },
 "nbformat": 4,
 "nbformat_minor": 5
}
