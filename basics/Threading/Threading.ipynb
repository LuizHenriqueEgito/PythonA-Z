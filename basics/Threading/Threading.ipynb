{
 "cells": [
  {
   "cell_type": "markdown",
   "id": "82573b3c-6b97-458d-9219-14cc5c09238b",
   "metadata": {},
   "source": [
    "# Exercicios"
   ]
  },
  {
   "cell_type": "markdown",
   "id": "ecb571c0-eb2e-4252-b5cf-0e634968a7f6",
   "metadata": {},
   "source": [
    "##### Escreva um programa Python para criar vários threads e imprimir seus nomes."
   ]
  },
  {
   "cell_type": "code",
   "execution_count": 1,
   "id": "56534599-80cc-417f-b375-1e115376155e",
   "metadata": {
    "tags": []
   },
   "outputs": [
    {
     "name": "stdout",
     "output_type": "stream",
     "text": [
      "Current thread name: Thread-5\n",
      "Current thread name: Thread-6\n",
      "Current thread name: Thread-7\n",
      "Current thread name: Thread-8\n",
      "Current thread name: Thread-9\n",
      "Current thread name: Thread-10\n",
      "Current thread name: Thread-11\n"
     ]
    }
   ],
   "source": [
    "import threading\n",
    "def print_thread_names():\n",
    "    print(\"Current thread name:\", threading.current_thread().name)\n",
    "# Create multiple threads\n",
    "threads = []\n",
    "for i in range(7):\n",
    "    thread = threading.Thread(target=print_thread_names)\n",
    "    threads.append(thread)\n",
    "    thread.start()\n",
    "\n",
    "# Wait for all threads to complete\n",
    "for thread in threads:\n",
    "    thread.join()"
   ]
  },
  {
   "cell_type": "markdown",
   "id": "15940701-897b-407c-82bb-4b24589e3cc8",
   "metadata": {
    "tags": []
   },
   "source": [
    "##### Escreva um programa Python para baixar vários arquivos simultaneamente usando threads."
   ]
  },
  {
   "cell_type": "code",
   "execution_count": null,
   "id": "403983ec-1b18-4059-8a8d-67ed439705bc",
   "metadata": {},
   "outputs": [],
   "source": []
  },
  {
   "cell_type": "markdown",
   "id": "4bf1420f-9fb9-4b0d-a345-5cd9140ca1d2",
   "metadata": {},
   "source": [
    "##### Escreva um programa Python que crie dois threads para encontrar e imprimir números pares e ímpares de 30 a 50."
   ]
  },
  {
   "cell_type": "code",
   "execution_count": null,
   "id": "2183368a-7ed8-4761-9039-cfdf6e3a0249",
   "metadata": {},
   "outputs": [],
   "source": []
  },
  {
   "cell_type": "markdown",
   "id": "ad5dfd8b-cee1-47ae-8d25-ba19d4fdb038",
   "metadata": {},
   "source": [
    "#####  Escreva um programa Python para calcular o fatorial de um número usando vários threads."
   ]
  },
  {
   "cell_type": "code",
   "execution_count": null,
   "id": "2dd4c535-cbac-4633-9b48-05600f1a9b4f",
   "metadata": {},
   "outputs": [],
   "source": []
  },
  {
   "cell_type": "markdown",
   "id": "5d5bbbd3-a126-4ae8-b0c6-e96d393c1e2b",
   "metadata": {},
   "source": [
    "##### Escreva um programa Python para implementar um algoritmo de classificação por mesclagem multithread."
   ]
  },
  {
   "cell_type": "code",
   "execution_count": null,
   "id": "4d72e07b-1f61-4c23-a616-2369a9ccfbea",
   "metadata": {},
   "outputs": [],
   "source": []
  },
  {
   "cell_type": "markdown",
   "id": "0fff3310-0a19-4d1d-adb1-9d98b4756546",
   "metadata": {},
   "source": [
    "##### Escreva um programa em Python para implementar um algoritmo de classificação rápida multiencadeado."
   ]
  },
  {
   "cell_type": "code",
   "execution_count": null,
   "id": "333880f5-f110-46e3-a0ad-bb53afb673d7",
   "metadata": {},
   "outputs": [],
   "source": []
  },
  {
   "cell_type": "markdown",
   "id": "100da0cb-18b6-4df6-9477-aed755f5a41f",
   "metadata": {},
   "source": [
    "##### Escreva um programa Python que execute solicitações HTTP simultâneas usando threads."
   ]
  },
  {
   "cell_type": "code",
   "execution_count": null,
   "id": "c9723190-1960-46c0-88fb-e2f4a208968c",
   "metadata": {},
   "outputs": [],
   "source": []
  }
 ],
 "metadata": {
  "kernelspec": {
   "display_name": "Python 3 (ipykernel)",
   "language": "python",
   "name": "python3"
  },
  "language_info": {
   "codemirror_mode": {
    "name": "ipython",
    "version": 3
   },
   "file_extension": ".py",
   "mimetype": "text/x-python",
   "name": "python",
   "nbconvert_exporter": "python",
   "pygments_lexer": "ipython3",
   "version": "3.8.2"
  }
 },
 "nbformat": 4,
 "nbformat_minor": 5
}
