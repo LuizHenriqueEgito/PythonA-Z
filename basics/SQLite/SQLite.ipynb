{
 "cells": [
  {
   "cell_type": "code",
   "execution_count": 5,
   "id": "22ca6a90-9899-49b4-abce-d89b068f2272",
   "metadata": {
    "tags": []
   },
   "outputs": [],
   "source": [
    "import sqlite3"
   ]
  },
  {
   "cell_type": "markdown",
   "id": "f51919f0-bb87-48ea-9a22-a3b66875f3f8",
   "metadata": {},
   "source": [
    "# Exercicios"
   ]
  },
  {
   "cell_type": "markdown",
   "id": "a3aa7ec6-9a96-4e80-b162-ad13a3788679",
   "metadata": {},
   "source": [
    "##### Escreva um programa Python para criar um banco de dados SQLite e conectar-se ao banco de dados e imprimir a versão do banco de dados SQLite."
   ]
  },
  {
   "cell_type": "code",
   "execution_count": 11,
   "id": "80fd1800-586c-4cb4-8d4b-355dbfca62a6",
   "metadata": {},
   "outputs": [],
   "source": [
    "def criar_conexao_banco_dados(nome_banco_dados):\n",
    "    # Cria uma conexão com o banco de dados\n",
    "    conexao = sqlite3.connect(nome_banco_dados)\n",
    "    return conexao"
   ]
  },
  {
   "cell_type": "code",
   "execution_count": 34,
   "id": "2d84fad1-e241-424e-82fe-8639158ecdd2",
   "metadata": {
    "tags": []
   },
   "outputs": [],
   "source": [
    "conn = criar_conexao_banco_dados('banco_teste.db')"
   ]
  },
  {
   "cell_type": "code",
   "execution_count": 35,
   "id": "ed6e0f0d-91a9-4948-ae4e-5bd75f4b9fea",
   "metadata": {
    "tags": []
   },
   "outputs": [
    {
     "name": "stdout",
     "output_type": "stream",
     "text": [
      "Versão do SQLite: 3.32.3\n"
     ]
    }
   ],
   "source": [
    "def imprimir_versao_sqlite(conexao):\n",
    "    # Obtém um cursor para executar comandos SQL\n",
    "    cursor = conexao.cursor()\n",
    "    # Executa uma consulta para obter a versão do SQLite\n",
    "    cursor.execute(\"SELECT SQLITE_VERSION()\")\n",
    "    # Recupera o resultado da consulta\n",
    "    versao_sqlite = cursor.fetchone()[0]\n",
    "    # Imprime a versão do SQLite\n",
    "    print(\"Versão do SQLite:\", versao_sqlite)\n",
    "    # Fecha o cursor e a conexão\n",
    "    cursor.close()\n",
    "    conexao.close()\n",
    "    \n",
    "imprimir_versao_sqlite(conn)"
   ]
  },
  {
   "cell_type": "markdown",
   "id": "dfb7b69e-461c-4837-941b-d3b40608953e",
   "metadata": {},
   "source": [
    "##### Escreva um programa Python para listar as tabelas de um determinado arquivo de banco de dados SQLite."
   ]
  },
  {
   "cell_type": "code",
   "execution_count": 46,
   "id": "549e8a54-0796-4131-a237-e82bc8449695",
   "metadata": {
    "tags": []
   },
   "outputs": [
    {
     "name": "stdout",
     "output_type": "stream",
     "text": [
      "Tabelas no banco de dados:\n",
      "usuarios\n",
      "users\n"
     ]
    }
   ],
   "source": [
    "def listar_tabelas(nome_banco_dados):\n",
    "    # Cria uma conexão com o banco de dados\n",
    "    conexao = sqlite3.connect(nome_banco_dados)\n",
    "\n",
    "    # Cria um objeto cursor para executar comandos SQL\n",
    "    cursor = conexao.cursor()\n",
    "\n",
    "    # Comando SQL para listar as tabelas no banco de dados\n",
    "    comando_sql = \"SELECT name FROM sqlite_master WHERE type='table';\"\n",
    "\n",
    "    # Executa o comando SQL para listar as tabelas\n",
    "    cursor.execute(comando_sql)\n",
    "\n",
    "    # Recupera o resultado da consulta\n",
    "    tabelas = cursor.fetchall()\n",
    "\n",
    "    # Imprime as tabelas\n",
    "    print(\"Tabelas no banco de dados:\")\n",
    "    for tabela in tabelas:\n",
    "        print(tabela[0])\n",
    "\n",
    "    # Fecha o cursor e a conexão\n",
    "    cursor.close()\n",
    "    conexao.close()\n",
    "\n",
    "def main():\n",
    "    # Nome do arquivo do banco de dados\n",
    "    nome_banco_dados = \"banco_teste.db\"\n",
    "\n",
    "    # Lista as tabelas do banco de dados\n",
    "    listar_tabelas(nome_banco_dados)\n",
    "\n",
    "\n",
    "main()"
   ]
  },
  {
   "cell_type": "markdown",
   "id": "ed43f412-9cdd-4e5a-9fb3-d6d3cfa435c5",
   "metadata": {},
   "source": [
    "##### Escreva um programa Python para criar uma tabela e inserir alguns registros nessa tabela. Finalmente seleciona todas as linhas da tabela e exibe os registros."
   ]
  },
  {
   "cell_type": "code",
   "execution_count": 37,
   "id": "409eb2a2-f620-490e-9d76-dd3b69df3702",
   "metadata": {},
   "outputs": [
    {
     "name": "stdout",
     "output_type": "stream",
     "text": [
      "Registros na tabela:\n",
      "(1, 'Alice', 30)\n",
      "(2, 'Bob', 25)\n",
      "(3, 'Carol', 35)\n"
     ]
    }
   ],
   "source": [
    "def criar_tabela(conexao):\n",
    "    # Cria um objeto cursor para executar comandos SQL\n",
    "    cursor = conexao.cursor()\n",
    "\n",
    "    # Comando SQL para criar a tabela\n",
    "    comando_sql = \"\"\"\n",
    "        CREATE TABLE IF NOT EXISTS usuarios (\n",
    "            id INTEGER PRIMARY KEY,\n",
    "            nome TEXT NOT NULL,\n",
    "            idade INTEGER\n",
    "        )\n",
    "    \"\"\"\n",
    "\n",
    "    # Executa o comando SQL para criar a tabela\n",
    "    cursor.execute(comando_sql)\n",
    "\n",
    "    # Salva as alterações no banco de dados\n",
    "    conexao.commit()\n",
    "\n",
    "    # Fecha o cursor\n",
    "    cursor.close()\n",
    "\n",
    "def inserir_registros(conexao):\n",
    "    # Cria um objeto cursor para executar comandos SQL\n",
    "    cursor = conexao.cursor()\n",
    "\n",
    "    # Comando SQL para inserir registros na tabela\n",
    "    comando_sql = \"\"\"\n",
    "        INSERT INTO usuarios (nome, idade) VALUES\n",
    "        ('Alice', 30),\n",
    "        ('Bob', 25),\n",
    "        ('Carol', 35)\n",
    "    \"\"\"\n",
    "\n",
    "    # Executa o comando SQL para inserir registros\n",
    "    cursor.execute(comando_sql)\n",
    "\n",
    "    # Salva as alterações no banco de dados\n",
    "    conexao.commit()\n",
    "\n",
    "    # Fecha o cursor\n",
    "    cursor.close()\n",
    "\n",
    "def selecionar_registros(conexao):\n",
    "    # Cria um objeto cursor para executar comandos SQL\n",
    "    cursor = conexao.cursor()\n",
    "\n",
    "    # Comando SQL para selecionar todas as linhas da tabela\n",
    "    comando_sql = \"SELECT * FROM usuarios\"\n",
    "\n",
    "    # Executa o comando SQL para selecionar os registros\n",
    "    cursor.execute(comando_sql)\n",
    "\n",
    "    # Recupera o resultado da consulta\n",
    "    registros = cursor.fetchall()\n",
    "\n",
    "    # Imprime os registros\n",
    "    print(\"Registros na tabela:\")\n",
    "    for registro in registros:\n",
    "        print(registro)\n",
    "\n",
    "    # Fecha o cursor\n",
    "    cursor.close()\n",
    "\n",
    "def main():\n",
    "    # Cria uma conexão com o banco de dados SQLite (pode ser na memória ou em arquivo)\n",
    "    conexao = sqlite3.connect(\"banco_teste.db\")\n",
    "\n",
    "    # Cria a tabela no banco de dados\n",
    "    criar_tabela(conexao)\n",
    "\n",
    "    # Insere registros na tabela\n",
    "    inserir_registros(conexao)\n",
    "\n",
    "    # Seleciona e exibe os registros da tabela\n",
    "    selecionar_registros(conexao)\n",
    "\n",
    "    # Fecha a conexão com o banco de dados\n",
    "    conexao.close()\n",
    "\n",
    "\n",
    "main()"
   ]
  },
  {
   "cell_type": "markdown",
   "id": "8a0dfdb8-5c13-48fe-98a6-0e4896c54e2a",
   "metadata": {},
   "source": [
    "##### Escreva um programa Python para inserir uma lista de registros em uma determinada tabela SQLite."
   ]
  },
  {
   "cell_type": "code",
   "execution_count": 43,
   "id": "b50e7291-4e67-43f6-b354-45b901ab1f9a",
   "metadata": {},
   "outputs": [],
   "source": [
    "# criando a tabela+\n",
    "conn = criar_conexao_banco_dados('banco_teste.db')\n",
    "def criar_tabela(conexao, comando_sql: str):\n",
    "    # Cria um objeto cursor para executar comandos SQL\n",
    "    cursor = conexao.cursor()\n",
    "\n",
    "    print(comando_sql)\n",
    "    # Executa o comando SQL para criar a tabela\n",
    "    cursor.execute(comando_sql)\n",
    "\n",
    "    # Salva as alterações no banco de dados\n",
    "    conexao.commit()\n",
    "\n",
    "    # Fecha o cursor\n",
    "    cursor.close()"
   ]
  },
  {
   "cell_type": "code",
   "execution_count": 44,
   "id": "1fc7f1c9-eb16-41f1-bf93-50e2cebe96de",
   "metadata": {
    "tags": []
   },
   "outputs": [],
   "source": [
    "comando_sql = \"\"\"\n",
    "    CREATE TABLE IF NOT EXISTS users (\n",
    "        id INTEGER PRIMARY KEY,\n",
    "        nome TEXT NOT NULL,\n",
    "        idade INTEGER\n",
    "    )\n",
    "\"\"\""
   ]
  },
  {
   "cell_type": "code",
   "execution_count": 45,
   "id": "1dc019a8-be3a-484b-9fc6-011fb4d5f2eb",
   "metadata": {
    "tags": []
   },
   "outputs": [
    {
     "name": "stdout",
     "output_type": "stream",
     "text": [
      "\n",
      "    CREATE TABLE IF NOT EXISTS users (\n",
      "        id INTEGER PRIMARY KEY,\n",
      "        nome TEXT NOT NULL,\n",
      "        idade INTEGER\n",
      "    )\n",
      "\n"
     ]
    }
   ],
   "source": [
    "criar_tabela(conn, comando_sql=comando_sql)"
   ]
  },
  {
   "cell_type": "code",
   "execution_count": 47,
   "id": "37c8289f-4d89-4e0f-aee8-eb7553aeab04",
   "metadata": {
    "tags": []
   },
   "outputs": [],
   "source": [
    "def inserir_registros(conexao, comando_sql: str):\n",
    "    # Cria um objeto cursor para executar comandos SQL\n",
    "    cursor = conexao.cursor()\n",
    "    # Executa o comando SQL para inserir registros\n",
    "    cursor.execute(comando_sql)\n",
    "    # Salva as alterações no banco de dados\n",
    "    conexao.commit()\n",
    "    # Fecha o cursor\n",
    "    cursor.close()"
   ]
  },
  {
   "cell_type": "code",
   "execution_count": 50,
   "id": "82f2f07b-1728-49d9-8700-361b057414e3",
   "metadata": {
    "tags": []
   },
   "outputs": [],
   "source": [
    "comando_sql = \"\"\"\n",
    "    INSERT INTO users (nome, idade) VALUES\n",
    "    ('Alice', 30),\n",
    "    ('Bob', 25),\n",
    "    ('Carol', 35)\n",
    "\"\"\""
   ]
  },
  {
   "cell_type": "code",
   "execution_count": 51,
   "id": "338208ad-9379-4115-a160-a44477c5bbdd",
   "metadata": {
    "tags": []
   },
   "outputs": [],
   "source": [
    "inserir_registros(conn, comando_sql=comando_sql)"
   ]
  },
  {
   "cell_type": "code",
   "execution_count": 54,
   "id": "5032212d-3f13-4645-b02b-7f0847042d59",
   "metadata": {
    "tags": []
   },
   "outputs": [],
   "source": [
    "def selecionar_registros(conexao):\n",
    "    # Cria um objeto cursor para executar comandos SQL\n",
    "    cursor = conexao.cursor()\n",
    "\n",
    "    # Comando SQL para selecionar todas as linhas da tabela\n",
    "    comando_sql = \"SELECT * FROM users\"\n",
    "\n",
    "    # Executa o comando SQL para selecionar os registros\n",
    "    cursor.execute(comando_sql)\n",
    "    # Recupera os nomes das colunas\n",
    "    colunas = [desc[0] for desc in cursor.description]\n",
    "\n",
    "    # Imprime os nomes das colunas\n",
    "    print(\"Colunas da tabela:\")\n",
    "    for coluna in colunas:\n",
    "        print(coluna)\n",
    "    # Recupera o resultado da consulta\n",
    "    registros = cursor.fetchall()\n",
    "\n",
    "    # Imprime os registros\n",
    "    print(\"Registros na tabela:\")\n",
    "    for registro in registros:\n",
    "        print(registro)\n",
    "\n",
    "    # Fecha o cursor\n",
    "    cursor.close()"
   ]
  },
  {
   "cell_type": "code",
   "execution_count": 55,
   "id": "83084101-2c78-4619-86f9-23470a0f73b9",
   "metadata": {
    "tags": []
   },
   "outputs": [
    {
     "name": "stdout",
     "output_type": "stream",
     "text": [
      "Colunas da tabela:\n",
      "id\n",
      "nome\n",
      "idade\n",
      "Registros na tabela:\n",
      "(1, 'Alice', 30)\n",
      "(2, 'Bob', 25)\n",
      "(3, 'Carol', 35)\n"
     ]
    }
   ],
   "source": [
    "selecionar_registros(conn)"
   ]
  },
  {
   "cell_type": "markdown",
   "id": "eb601b67-2da1-4ad7-bfde-25fa636ad65d",
   "metadata": {},
   "source": [
    "##### Escreva um programa Python para atualizar um valor de coluna específico de uma determinada tabela e selecione todas as linhas antes e depois de atualizar a referida tabela."
   ]
  },
  {
   "cell_type": "code",
   "execution_count": null,
   "id": "3913b2ef-6c02-49d0-bff7-45db75c46b91",
   "metadata": {},
   "outputs": [],
   "source": []
  },
  {
   "cell_type": "markdown",
   "id": "d9233997-608f-4b8c-83d8-53375fbfcd48",
   "metadata": {},
   "source": [
    "##### Escreva um programa Python para excluir uma linha específica de uma determinada tabela SQLite."
   ]
  },
  {
   "cell_type": "code",
   "execution_count": null,
   "id": "a7352c41-c179-42b2-b5ef-3a321d7bacba",
   "metadata": {},
   "outputs": [],
   "source": []
  },
  {
   "cell_type": "markdown",
   "id": "db71c981-037e-45c0-af2f-9e707e33b26f",
   "metadata": {},
   "source": [
    "##### Escreva um programa Python para criar um backup de um banco de dados SQLite."
   ]
  },
  {
   "cell_type": "code",
   "execution_count": null,
   "id": "adc0005c-d9ed-4091-b497-5a52a0d0b5fa",
   "metadata": {},
   "outputs": [],
   "source": []
  },
  {
   "cell_type": "code",
   "execution_count": null,
   "id": "220cb4dc-c31e-49eb-8887-68a971a68369",
   "metadata": {},
   "outputs": [],
   "source": []
  }
 ],
 "metadata": {
  "kernelspec": {
   "display_name": "Python 3 (ipykernel)",
   "language": "python",
   "name": "python3"
  },
  "language_info": {
   "codemirror_mode": {
    "name": "ipython",
    "version": 3
   },
   "file_extension": ".py",
   "mimetype": "text/x-python",
   "name": "python",
   "nbconvert_exporter": "python",
   "pygments_lexer": "ipython3",
   "version": "3.8.2"
  }
 },
 "nbformat": 4,
 "nbformat_minor": 5
}
