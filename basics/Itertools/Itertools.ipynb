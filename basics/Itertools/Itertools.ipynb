{
 "cells": [
  {
   "cell_type": "code",
   "execution_count": 20,
   "id": "58d0a069-8816-48fb-9b6b-96cff483f902",
   "metadata": {
    "tags": []
   },
   "outputs": [],
   "source": [
    "from itertools import (\n",
    "    cycle, \n",
    "    product,\n",
    "    combinations,\n",
    "    combinations_with_replacement,\n",
    "    permutations,\n",
    "    chain,\n",
    "    groupby, \n",
    "    islice,\n",
    "    filterfalse,\n",
    "    accumulate,\n",
    "    takewhile,\n",
    "    dropwhile\n",
    ")\n",
    "from time import sleep"
   ]
  },
  {
   "cell_type": "markdown",
   "id": "bd387d62-3e71-47e1-81da-275ee525526a",
   "metadata": {},
   "source": [
    "# Exercicios"
   ]
  },
  {
   "cell_type": "markdown",
   "id": "73d486e4-203d-4822-b69c-141aec4dc41c",
   "metadata": {},
   "source": [
    "##### Crie um programa Python que escolha um número específico de cores de três cores diferentes e gere combinações exclusivas."
   ]
  },
  {
   "cell_type": "code",
   "execution_count": 5,
   "id": "958ecf1b-983b-4e3b-8f42-654e140b78ac",
   "metadata": {},
   "outputs": [
    {
     "data": {
      "text/plain": [
       "[('r', 'g'), ('r', 'b'), ('g', 'b')]"
      ]
     },
     "execution_count": 5,
     "metadata": {},
     "output_type": "execute_result"
    }
   ],
   "source": [
    "colors = ['r', 'g', 'b']\n",
    "list(combinations(colors, 2))"
   ]
  },
  {
   "cell_type": "markdown",
   "id": "4f26300d-2691-49ce-9cb6-be39797afc05",
   "metadata": {},
   "source": [
    "##### Crie uma lista com alguns números e use a função itertools.cycle() para criar um iterador infinito que repita essa lista indefinidamente."
   ]
  },
  {
   "cell_type": "code",
   "execution_count": 3,
   "id": "288e585d-ddde-48d4-925c-9b97005f49c8",
   "metadata": {},
   "outputs": [
    {
     "name": "stdout",
     "output_type": "stream",
     "text": [
      "verde\n",
      "amarelo\n",
      "vermelho\n",
      "verde\n",
      "amarelo\n",
      "vermelho\n",
      "verde\n",
      "amarelo\n",
      "vermelho\n",
      "verde\n"
     ]
    }
   ],
   "source": [
    "semaforo = ['verde', 'amarelo', 'vermelho']\n",
    "c = 0\n",
    "for sinal in cycle(semaforo):\n",
    "    sleep(2)\n",
    "    print(sinal)\n",
    "    c += 1\n",
    "    if c == 10:\n",
    "        break"
   ]
  },
  {
   "cell_type": "markdown",
   "id": "719c7e70-383f-48c3-b093-1e419557d161",
   "metadata": {},
   "source": [
    "##### Crie uma lista com alguns elementos e use a função itertools.chain() para concatenar várias listas em uma única lista."
   ]
  },
  {
   "cell_type": "code",
   "execution_count": 7,
   "id": "61ee3b87-4e21-46bf-8363-823460ba0690",
   "metadata": {},
   "outputs": [],
   "source": [
    "lista_1 = [1,2,3,4,5]\n",
    "lista_2 = [4,5,6,7,8]"
   ]
  },
  {
   "cell_type": "code",
   "execution_count": 10,
   "id": "d5ab27f9-5dc7-4580-b8e5-0e4a91977e2c",
   "metadata": {
    "tags": []
   },
   "outputs": [
    {
     "data": {
      "text/plain": [
       "[1, 2, 3, 4, 5, 4, 5, 6, 7, 8, 1, 2, 3, 4, 5]"
      ]
     },
     "execution_count": 10,
     "metadata": {},
     "output_type": "execute_result"
    }
   ],
   "source": [
    "list(chain(lista_1, lista_2, lista_1))"
   ]
  },
  {
   "cell_type": "markdown",
   "id": "8a6c0a30-9ebf-488b-9cb9-f2ffeb8c10fb",
   "metadata": {},
   "source": [
    "##### Crie uma lista com alguns números e use a função itertools.islice() para extrair uma parte específica da lista com base em índices."
   ]
  },
  {
   "cell_type": "code",
   "execution_count": 36,
   "id": "df653611-1074-4b51-8d5c-49d94a6367b7",
   "metadata": {},
   "outputs": [
    {
     "data": {
      "text/plain": [
       "[3, 6]"
      ]
     },
     "execution_count": 36,
     "metadata": {},
     "output_type": "execute_result"
    }
   ],
   "source": [
    "list_ = [1,2,3,4,5,6,7,8,9,10,11,12,13,14,15]\n",
    "list(islice(list_, 2, 6, 3))  # vai do item 2 até o item 6 pulando de 3 em 3"
   ]
  },
  {
   "cell_type": "markdown",
   "id": "11716256-c03e-4537-a4d1-6944bf45a61c",
   "metadata": {},
   "source": [
    "##### Crie uma lista com alguns números e use a função itertools.groupby() para agrupar os elementos da lista por um critério específico (por exemplo, par ou ímpar)."
   ]
  },
  {
   "cell_type": "code",
   "execution_count": 24,
   "id": "825b5fea-8fa6-4707-a94e-16a45343e404",
   "metadata": {},
   "outputs": [],
   "source": [
    "list_ = [1,2,3,4,5,6,7,8,9]\n",
    "grouped_numbers = groupby(list_, key=lambda x: x % 2 == 0)"
   ]
  },
  {
   "cell_type": "code",
   "execution_count": 25,
   "id": "8c03b0f8-ec18-4929-8cbd-150f4175d950",
   "metadata": {
    "tags": []
   },
   "outputs": [
    {
     "name": "stdout",
     "output_type": "stream",
     "text": [
      "Número ímpar: [1]\n",
      "Número par: [2]\n",
      "Número ímpar: [3]\n",
      "Número par: [4]\n",
      "Número ímpar: [5]\n",
      "Número par: [6]\n",
      "Número ímpar: [7]\n",
      "Número par: [8]\n",
      "Número ímpar: [9]\n"
     ]
    }
   ],
   "source": [
    "for key, group in grouped_numbers:\n",
    "    paridade = \"par\" if key else \"ímpar\"\n",
    "    numbero = list(group)\n",
    "    print(f\"Número {paridade}: {numbero}\")"
   ]
  },
  {
   "cell_type": "markdown",
   "id": "d970e3cb-e503-440e-a738-78c0469a87e1",
   "metadata": {},
   "source": [
    "##### Crie uma função que receba uma lista de números e retorne a soma de todas as combinações possíveis de elementos dessa lista, usando a função itertools.combinations() em conjunto com a função sum()."
   ]
  },
  {
   "cell_type": "code",
   "execution_count": 15,
   "id": "aca0abd1-d5b4-447c-a2b0-5939dff4f26c",
   "metadata": {},
   "outputs": [
    {
     "data": {
      "text/plain": [
       "[2, 3, 4, 5, 6, 3, 4, 5, 6, 7, 4, 5, 6, 7, 8, 5, 6, 7, 8, 9, 6, 7, 8, 9, 10]"
      ]
     },
     "execution_count": 15,
     "metadata": {},
     "output_type": "execute_result"
    }
   ],
   "source": [
    "list_ = [1,2,3,4,5]\n",
    "list(map(sum, list(product(list_, list_))))"
   ]
  },
  {
   "cell_type": "markdown",
   "id": "64db564a-8d84-4e17-ae2e-df92533b05df",
   "metadata": {},
   "source": [
    "##### Crie uma função chamada combinacoes_de_numeros que receba uma lista de números como parâmetro e utilize a função product do módulo itertools para retornar uma lista de todas as combinações possíveis de 2 números dessa lista."
   ]
  },
  {
   "cell_type": "code",
   "execution_count": 16,
   "id": "29bca854-8d56-4f75-8df1-50d30289e5da",
   "metadata": {
    "collapsed": true,
    "jupyter": {
     "outputs_hidden": true
    },
    "tags": []
   },
   "outputs": [
    {
     "data": {
      "text/plain": [
       "[(1, 1),\n",
       " (1, 2),\n",
       " (1, 3),\n",
       " (1, 4),\n",
       " (1, 5),\n",
       " (2, 1),\n",
       " (2, 2),\n",
       " (2, 3),\n",
       " (2, 4),\n",
       " (2, 5),\n",
       " (3, 1),\n",
       " (3, 2),\n",
       " (3, 3),\n",
       " (3, 4),\n",
       " (3, 5),\n",
       " (4, 1),\n",
       " (4, 2),\n",
       " (4, 3),\n",
       " (4, 4),\n",
       " (4, 5),\n",
       " (5, 1),\n",
       " (5, 2),\n",
       " (5, 3),\n",
       " (5, 4),\n",
       " (5, 5)]"
      ]
     },
     "execution_count": 16,
     "metadata": {},
     "output_type": "execute_result"
    }
   ],
   "source": [
    "list_ = [1,2,3,4,5]\n",
    "list(product(list_, list_))"
   ]
  },
  {
   "cell_type": "markdown",
   "id": "a05148f6-b192-45ae-89f7-d120215a9445",
   "metadata": {},
   "source": [
    "##### Crie uma função chamada anagramas_de_palavra que receba uma palavra como parâmetro e utilize a função permutations do módulo itertools para retornar uma lista de todos os anagramas possíveis dessa palavra."
   ]
  },
  {
   "cell_type": "code",
   "execution_count": 46,
   "id": "665fd0da-5bae-4550-9b60-13c22554255f",
   "metadata": {
    "collapsed": true,
    "jupyter": {
     "outputs_hidden": true
    },
    "tags": []
   },
   "outputs": [
    {
     "data": {
      "text/plain": [
       "['egito',\n",
       " 'egiot',\n",
       " 'egtio',\n",
       " 'egtoi',\n",
       " 'egoit',\n",
       " 'egoti',\n",
       " 'eigto',\n",
       " 'eigot',\n",
       " 'eitgo',\n",
       " 'eitog',\n",
       " 'eiogt',\n",
       " 'eiotg',\n",
       " 'etgio',\n",
       " 'etgoi',\n",
       " 'etigo',\n",
       " 'etiog',\n",
       " 'etogi',\n",
       " 'etoig',\n",
       " 'eogit',\n",
       " 'eogti',\n",
       " 'eoigt',\n",
       " 'eoitg',\n",
       " 'eotgi',\n",
       " 'eotig',\n",
       " 'geito',\n",
       " 'geiot',\n",
       " 'getio',\n",
       " 'getoi',\n",
       " 'geoit',\n",
       " 'geoti',\n",
       " 'gieto',\n",
       " 'gieot',\n",
       " 'giteo',\n",
       " 'gitoe',\n",
       " 'gioet',\n",
       " 'giote',\n",
       " 'gteio',\n",
       " 'gteoi',\n",
       " 'gtieo',\n",
       " 'gtioe',\n",
       " 'gtoei',\n",
       " 'gtoie',\n",
       " 'goeit',\n",
       " 'goeti',\n",
       " 'goiet',\n",
       " 'goite',\n",
       " 'gotei',\n",
       " 'gotie',\n",
       " 'iegto',\n",
       " 'iegot',\n",
       " 'ietgo',\n",
       " 'ietog',\n",
       " 'ieogt',\n",
       " 'ieotg',\n",
       " 'igeto',\n",
       " 'igeot',\n",
       " 'igteo',\n",
       " 'igtoe',\n",
       " 'igoet',\n",
       " 'igote',\n",
       " 'itego',\n",
       " 'iteog',\n",
       " 'itgeo',\n",
       " 'itgoe',\n",
       " 'itoeg',\n",
       " 'itoge',\n",
       " 'ioegt',\n",
       " 'ioetg',\n",
       " 'ioget',\n",
       " 'iogte',\n",
       " 'ioteg',\n",
       " 'iotge',\n",
       " 'tegio',\n",
       " 'tegoi',\n",
       " 'teigo',\n",
       " 'teiog',\n",
       " 'teogi',\n",
       " 'teoig',\n",
       " 'tgeio',\n",
       " 'tgeoi',\n",
       " 'tgieo',\n",
       " 'tgioe',\n",
       " 'tgoei',\n",
       " 'tgoie',\n",
       " 'tiego',\n",
       " 'tieog',\n",
       " 'tigeo',\n",
       " 'tigoe',\n",
       " 'tioeg',\n",
       " 'tioge',\n",
       " 'toegi',\n",
       " 'toeig',\n",
       " 'togei',\n",
       " 'togie',\n",
       " 'toieg',\n",
       " 'toige',\n",
       " 'oegit',\n",
       " 'oegti',\n",
       " 'oeigt',\n",
       " 'oeitg',\n",
       " 'oetgi',\n",
       " 'oetig',\n",
       " 'ogeit',\n",
       " 'ogeti',\n",
       " 'ogiet',\n",
       " 'ogite',\n",
       " 'ogtei',\n",
       " 'ogtie',\n",
       " 'oiegt',\n",
       " 'oietg',\n",
       " 'oiget',\n",
       " 'oigte',\n",
       " 'oiteg',\n",
       " 'oitge',\n",
       " 'otegi',\n",
       " 'oteig',\n",
       " 'otgei',\n",
       " 'otgie',\n",
       " 'otieg',\n",
       " 'otige']"
      ]
     },
     "execution_count": 46,
     "metadata": {},
     "output_type": "execute_result"
    }
   ],
   "source": [
    "palavra = 'egito'\n",
    "list(permutations(palavra))\n",
    "[''.join(x) for x in list(permutations(palavra))]"
   ]
  },
  {
   "cell_type": "markdown",
   "id": "1d76a433-d1a4-439b-a527-3015b74e8893",
   "metadata": {},
   "source": [
    "##### Crie uma função chamada subconjuntos que receba uma lista de elementos como parâmetro e utilize a função combinations do módulo itertools para retornar uma lista de todos os subconjuntos possíveis dessa lista."
   ]
  },
  {
   "cell_type": "code",
   "execution_count": 33,
   "id": "476501a5-1e0b-40c3-b647-378fc7539147",
   "metadata": {},
   "outputs": [
    {
     "data": {
      "text/plain": [
       "[('e', 'g', 'i'),\n",
       " ('e', 'g', 't'),\n",
       " ('e', 'g', 'o'),\n",
       " ('e', 'i', 't'),\n",
       " ('e', 'i', 'o'),\n",
       " ('e', 't', 'o'),\n",
       " ('g', 'i', 't'),\n",
       " ('g', 'i', 'o'),\n",
       " ('g', 't', 'o'),\n",
       " ('i', 't', 'o')]"
      ]
     },
     "execution_count": 33,
     "metadata": {},
     "output_type": "execute_result"
    }
   ],
   "source": [
    "palavra = 'egito'\n",
    "list(combinations(palavra, 3))"
   ]
  },
  {
   "cell_type": "markdown",
   "id": "12090bed-a870-49dd-a583-f9f38168a57a",
   "metadata": {},
   "source": [
    "##### Crie uma função chamada repetir_elementos que receba uma lista de elementos e um número inteiro n como parâmetros e utilize a função cycle do módulo itertools para retornar uma lista contendo os elementos da lista original repetidos n vezes."
   ]
  },
  {
   "cell_type": "code",
   "execution_count": 9,
   "id": "f5fd6ebe-c216-4b1f-b859-5f90d661db97",
   "metadata": {
    "tags": []
   },
   "outputs": [],
   "source": [
    "from typing import List, Any\n",
    "def n_repeats(list_: List[Any], n: int) -> List[Any]:\n",
    "    n_elements = n * len(list_)\n",
    "    list_out = []\n",
    "    for item in cycle(list_):\n",
    "        list_out.append(item)\n",
    "        if len(list_out) == n_elements:\n",
    "            break\n",
    "    return list_out"
   ]
  },
  {
   "cell_type": "code",
   "execution_count": 10,
   "id": "a9732705-30a6-4f4b-a3a4-018c63be962a",
   "metadata": {
    "tags": []
   },
   "outputs": [
    {
     "data": {
      "text/plain": [
       "[1, 2, 3, 4, 5, 1, 2, 3, 4, 5, 1, 2, 3, 4, 5, 1, 2, 3, 4, 5, 1, 2, 3, 4, 5]"
      ]
     },
     "execution_count": 10,
     "metadata": {},
     "output_type": "execute_result"
    }
   ],
   "source": [
    "n_repeats([1,2,3,4,5], 5)"
   ]
  },
  {
   "cell_type": "code",
   "execution_count": 11,
   "id": "acc27508-1d48-4723-92f7-536f1b6f6483",
   "metadata": {
    "tags": []
   },
   "outputs": [
    {
     "data": {
      "text/plain": [
       "25"
      ]
     },
     "execution_count": 11,
     "metadata": {},
     "output_type": "execute_result"
    }
   ],
   "source": [
    "len(n_repeats([1,2,3,4,5], 5))"
   ]
  },
  {
   "cell_type": "code",
   "execution_count": 12,
   "id": "ff1e5b4a-a10e-470c-8196-9738ba4f6413",
   "metadata": {
    "tags": []
   },
   "outputs": [],
   "source": [
    "# Mais pythonico\n",
    "from itertools import cycle, islice\n",
    "\n",
    "def n_repeats(list_: List[Any], n: int) -> List[Any]:\n",
    "    return list(islice(cycle(list_), n * len(list_)))"
   ]
  },
  {
   "cell_type": "code",
   "execution_count": 13,
   "id": "e842af6b-7a58-4151-923d-76fe1a5e21d1",
   "metadata": {
    "tags": []
   },
   "outputs": [
    {
     "data": {
      "text/plain": [
       "[1, 2, 3, 4, 5, 1, 2, 3, 4, 5, 1, 2, 3, 4, 5, 1, 2, 3, 4, 5, 1, 2, 3, 4, 5]"
      ]
     },
     "execution_count": 13,
     "metadata": {},
     "output_type": "execute_result"
    }
   ],
   "source": [
    "n_repeats([1,2,3,4,5], 5)"
   ]
  },
  {
   "cell_type": "markdown",
   "id": "3865b9dd-f009-4f02-9294-b686d174335c",
   "metadata": {},
   "source": [
    "##### Crie uma função chamada soma_acumulada que receba uma lista de números como parâmetro e utilize a função accumulate do módulo itertools para retornar uma lista com a soma acumulada dos elementos."
   ]
  },
  {
   "cell_type": "code",
   "execution_count": 19,
   "id": "e9d06063-8f56-4f6f-bf95-4990ce27da62",
   "metadata": {
    "tags": []
   },
   "outputs": [
    {
     "data": {
      "text/plain": [
       "[1, 2, 6, 24]"
      ]
     },
     "execution_count": 19,
     "metadata": {},
     "output_type": "execute_result"
    }
   ],
   "source": [
    "from operator import sub, mul\n",
    "list(accumulate([1,2,3,4], func=mul))"
   ]
  },
  {
   "cell_type": "markdown",
   "id": "f1b11da1-8d54-44bf-be4e-1c2269d145a6",
   "metadata": {},
   "source": [
    "##### Crie uma função chamada separar_elementos que receba uma lista de números como parâmetro e utilize as funções takewhile e dropwhile do módulo itertools para retornar duas listas: uma contendo os elementos enquanto eles forem menores que 5 e outra contendo os elementos a partir do momento em que o primeiro elemento maior ou igual a 5 é encontrado."
   ]
  },
  {
   "attachments": {
    "f61e7e76-a2fa-4a13-87c7-dc1cf8db54a0.png": {
     "image/png": "[encoded data removed]"
    }
   },
   "cell_type": "markdown",
   "id": "4a7041f1-5437-4d39-a39e-029e35b76a78",
   "metadata": {},
   "source": [
    "![image.png](attachment:f61e7e76-a2fa-4a13-87c7-dc1cf8db54a0.png)"
   ]
  },
  {
   "cell_type": "code",
   "execution_count": 30,
   "id": "32a17757-b95d-4a9e-9d31-8054492dae7b",
   "metadata": {
    "tags": []
   },
   "outputs": [
    {
     "data": {
      "text/plain": [
       "[1, 3, 4]"
      ]
     },
     "execution_count": 30,
     "metadata": {},
     "output_type": "execute_result"
    }
   ],
   "source": [
    "# usando takewhile e dropwhile\n",
    "list_ = [1,3,4,5,6,8,2,9,7]\n",
    "# vai pegadno os elementos até encontrar um maior que 5\n",
    "list(takewhile(lambda x: x < 5, list_))"
   ]
  },
  {
   "cell_type": "code",
   "execution_count": 31,
   "id": "6665f139-a7c7-44d6-9e3b-f056b624af44",
   "metadata": {
    "tags": []
   },
   "outputs": [
    {
     "data": {
      "text/plain": [
       "[6, 8, 2, 9, 7]"
      ]
     },
     "execution_count": 31,
     "metadata": {},
     "output_type": "execute_result"
    }
   ],
   "source": [
    "# vai pegando os elementos depois de achar um maior que 5\n",
    "list(dropwhile(lambda x: x <= 5, list_))"
   ]
  },
  {
   "cell_type": "markdown",
   "id": "b60b7576-8039-4284-a194-c7676f5bb51e",
   "metadata": {},
   "source": [
    "##### Usando filterfalse"
   ]
  },
  {
   "cell_type": "code",
   "execution_count": 42,
   "id": "9107c0cb-ca64-4571-950b-c509e13bade8",
   "metadata": {
    "tags": []
   },
   "outputs": [
    {
     "data": {
      "text/plain": [
       "[1, 5, 6, 7, 8, 9, 10]"
      ]
     },
     "execution_count": 42,
     "metadata": {},
     "output_type": "execute_result"
    }
   ],
   "source": [
    "list_ = [1, 2, 3, 4, 5, 6, 7, 8, 9, 10]\n",
    "list(filterfalse(lambda x: x in [2, 3, 4], list_))"
   ]
  },
  {
   "cell_type": "code",
   "execution_count": null,
   "id": "5540c5b1-2422-41b3-b0e3-4170e3139ab8",
   "metadata": {},
   "outputs": [],
   "source": []
  }
 ],
 "metadata": {
  "kernelspec": {
   "display_name": "Python 3 (ipykernel)",
   "language": "python",
   "name": "python3"
  },
  "language_info": {
   "codemirror_mode": {
    "name": "ipython",
    "version": 3
   },
   "file_extension": ".py",
   "mimetype": "text/x-python",
   "name": "python",
   "nbconvert_exporter": "python",
   "pygments_lexer": "ipython3",
   "version": "3.8.2"
  }
 },
 "nbformat": 4,
 "nbformat_minor": 5
}
