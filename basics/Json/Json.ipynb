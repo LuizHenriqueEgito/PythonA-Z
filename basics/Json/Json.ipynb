{
 "cells": [
  {
   "cell_type": "markdown",
   "id": "e51ce598-2e76-427e-a251-976a2dee5445",
   "metadata": {},
   "source": [
    "# Exercicios"
   ]
  },
  {
   "cell_type": "code",
   "execution_count": 1,
   "id": "9ca15149-ebee-48e3-a2fb-8145d986eef6",
   "metadata": {
    "tags": []
   },
   "outputs": [],
   "source": [
    "import json"
   ]
  },
  {
   "cell_type": "markdown",
   "id": "e6ee538f-3571-4cd0-a433-37614198e8b6",
   "metadata": {
    "tags": []
   },
   "source": [
    "##### Escreva um programa Python para converter dados Python em um JSON."
   ]
  },
  {
   "cell_type": "code",
   "execution_count": 16,
   "id": "51c866df-7527-4d2b-a34d-dea407339f58",
   "metadata": {
    "tags": []
   },
   "outputs": [],
   "source": [
    "dicionario_json = {\n",
    "    \"nome\": \"Luiz Henrique Souza Egito\",\n",
    "    \"idade\": 26,\n",
    "    \"time\": \"Galo Doido\",\n",
    "    \"profissao\": \"cientista de dados\"\n",
    "}"
   ]
  },
  {
   "cell_type": "code",
   "execution_count": 17,
   "id": "dd32d707-baec-42da-b75d-7ff117b429f9",
   "metadata": {
    "tags": []
   },
   "outputs": [],
   "source": [
    "with open('exemplo_json.json', 'w') as file:\n",
    "    json.dump(dicionario_json, file)"
   ]
  },
  {
   "cell_type": "markdown",
   "id": "f6a8ab4a-b0c4-4c63-b0b2-90e8b87be73e",
   "metadata": {},
   "source": [
    "##### Escreva um programa Python para converter dados JSON em objeto Python."
   ]
  },
  {
   "cell_type": "code",
   "execution_count": 7,
   "id": "aebdbae1-30d5-46c7-b914-fe6a6edcb124",
   "metadata": {},
   "outputs": [
    {
     "data": {
      "text/plain": [
       "{'nome': 'Luiz Henrique Souza Egito',\n",
       " 'idade': 26,\n",
       " 'time': 'Galo Doido',\n",
       " 'profissao': 'cientista de dados'}"
      ]
     },
     "execution_count": 7,
     "metadata": {},
     "output_type": "execute_result"
    }
   ],
   "source": [
    "with open('exemplo_json.json', 'r') as file:\n",
    "    dicio = json.load(file)\n",
    "\n",
    "dicio"
   ]
  },
  {
   "cell_type": "markdown",
   "id": "7dcae257-db23-4000-b5ac-f942d31cade4",
   "metadata": {},
   "source": [
    "##### Escreva um programa Python para converter o objeto Python em dados JSON."
   ]
  },
  {
   "cell_type": "code",
   "execution_count": 2,
   "id": "6e104af3-d830-4054-9bcf-f717625150d3",
   "metadata": {},
   "outputs": [
    {
     "data": {
      "text/plain": [
       "'{\"nome\": \"Luiz Henrique Souza Egito\", \"idade\": 26, \"time\": \"Galo Doido\", \"profissao\": \"cientista de dados\"}'"
      ]
     },
     "execution_count": 2,
     "metadata": {},
     "output_type": "execute_result"
    }
   ],
   "source": [
    "dicionario_json = {\n",
    "    \"nome\": \"Luiz Henrique Souza Egito\",\n",
    "    \"idade\": 26,\n",
    "    \"time\": \"Galo Doido\",\n",
    "    \"profissao\": \"cientista de dados\"\n",
    "}\n",
    "\n",
    "json.dumps(dicionario_json)"
   ]
  },
  {
   "cell_type": "code",
   "execution_count": 3,
   "id": "86379fcf-e602-4078-b62f-6f3773b91b8c",
   "metadata": {},
   "outputs": [
    {
     "data": {
      "text/plain": [
       "{'nome': 'Luiz Henrique Souza Egito',\n",
       " 'idade': 26,\n",
       " 'time': 'Galo Doido',\n",
       " 'profissao': 'cientista de dados'}"
      ]
     },
     "execution_count": 3,
     "metadata": {},
     "output_type": "execute_result"
    }
   ],
   "source": [
    "json.loads(json.dumps(dicionario_json))"
   ]
  },
  {
   "cell_type": "markdown",
   "id": "9ddb31f7-6598-4cd2-8481-6012a04b9cde",
   "metadata": {},
   "source": [
    "##### Escreva um programa Python para criar um novo arquivo JSON a partir de um arquivo JSON existente."
   ]
  },
  {
   "cell_type": "code",
   "execution_count": 18,
   "id": "b274406f-d3c6-4bd3-8591-9d4144ed2f3c",
   "metadata": {},
   "outputs": [],
   "source": [
    "with open('exemplo_json.json', 'r') as file:\n",
    "    dicio = json.load(file)\n",
    "\n",
    "dicio['nome'] = ['Luiz', 'Henrique']"
   ]
  },
  {
   "cell_type": "code",
   "execution_count": 19,
   "id": "dac1377c-3cae-4150-a4f1-4eda21a4cebb",
   "metadata": {
    "tags": []
   },
   "outputs": [
    {
     "data": {
      "text/plain": [
       "{'nome': ['Luiz', 'Henrique'],\n",
       " 'idade': 26,\n",
       " 'time': 'Galo Doido',\n",
       " 'profissao': 'cientista de dados'}"
      ]
     },
     "execution_count": 19,
     "metadata": {},
     "output_type": "execute_result"
    }
   ],
   "source": [
    "dicio"
   ]
  },
  {
   "cell_type": "code",
   "execution_count": 20,
   "id": "e04d4f55-5ef1-4e84-811c-565926d8b9ad",
   "metadata": {
    "tags": []
   },
   "outputs": [],
   "source": [
    "with open('exemplo_json.json', 'w') as file:\n",
    "    json.dump(dicio, file)"
   ]
  },
  {
   "cell_type": "code",
   "execution_count": null,
   "id": "6fad42b9-1821-4499-bc12-73b8f8b93203",
   "metadata": {},
   "outputs": [],
   "source": []
  }
 ],
 "metadata": {
  "kernelspec": {
   "display_name": "Python 3 (ipykernel)",
   "language": "python",
   "name": "python3"
  },
  "language_info": {
   "codemirror_mode": {
    "name": "ipython",
    "version": 3
   },
   "file_extension": ".py",
   "mimetype": "text/x-python",
   "name": "python",
   "nbconvert_exporter": "python",
   "pygments_lexer": "ipython3",
   "version": "3.8.2"
  }
 },
 "nbformat": 4,
 "nbformat_minor": 5
}
