{
 "cells": [
  {
   "cell_type": "markdown",
   "id": "54ae7976-d8b6-4990-9d37-08241abf3c45",
   "metadata": {},
   "source": [
    "# Exercicios"
   ]
  },
  {
   "cell_type": "code",
   "execution_count": 1,
   "id": "39d58a46-eb32-4647-8667-b7e31179c8e7",
   "metadata": {},
   "outputs": [],
   "source": [
    "from collections import Counter\n",
    "from collections import defaultdict"
   ]
  },
  {
   "cell_type": "markdown",
   "id": "fbec2e4f-205f-442b-a626-1f5dfed0e105",
   "metadata": {},
   "source": [
    "##### Crie uma função chamada contar_elementos_repetidos que receba uma lista de elementos como parâmetro e retorne um dicionário Counter com a contagem de quantas vezes cada elemento aparece na lista."
   ]
  },
  {
   "cell_type": "code",
   "execution_count": 3,
   "id": "9cbe0f2f-28d5-41f6-951f-9fbcac277b40",
   "metadata": {},
   "outputs": [
    {
     "data": {
      "text/plain": [
       "Counter({' ': 5,\n",
       "         'o': 5,\n",
       "         'e': 4,\n",
       "         'l': 2,\n",
       "         'n': 2,\n",
       "         'd': 2,\n",
       "         'r': 2,\n",
       "         'c': 2,\n",
       "         'i': 2,\n",
       "         'O': 1,\n",
       "         'á': 1,\n",
       "         'm': 1,\n",
       "         'u': 1,\n",
       "         ',': 1,\n",
       "         's': 1,\n",
       "         'v': 1,\n",
       "         'x': 1,\n",
       "         'I': 1,\n",
       "         '.': 1})"
      ]
     },
     "execution_count": 3,
     "metadata": {},
     "output_type": "execute_result"
    }
   ],
   "source": [
    "text = 'Olá mundo, resolvendo o exercicio I.'\n",
    "contar_elementos = Counter()\n",
    "\n",
    "contar_elementos.update(text)\n",
    "contar_elementos"
   ]
  },
  {
   "cell_type": "code",
   "execution_count": 4,
   "id": "2d92568e-fec7-4097-abc6-61535e5822f9",
   "metadata": {},
   "outputs": [
    {
     "data": {
      "text/plain": [
       "Counter({'Olá': 1,\n",
       "         'mundo,': 1,\n",
       "         'resolvendo': 1,\n",
       "         'o': 1,\n",
       "         'exercicio': 1,\n",
       "         'I.': 1})"
      ]
     },
     "execution_count": 4,
     "metadata": {},
     "output_type": "execute_result"
    }
   ],
   "source": [
    "text = 'Olá mundo, resolvendo o exercicio I.'\n",
    "contar_elementos = Counter()\n",
    "\n",
    "contar_elementos.update(text.split())\n",
    "contar_elementos"
   ]
  },
  {
   "cell_type": "markdown",
   "id": "620c2034-ae99-46f6-8423-fb81d5cef73d",
   "metadata": {},
   "source": [
    "##### Crie uma função chamada agrupar_palavras_por_tamanho que receba uma lista de palavras como parâmetro e retorne um defaultdict onde as chaves são os tamanhos das palavras e os valores são listas contendo as palavras de cada tamanho."
   ]
  },
  {
   "cell_type": "code",
   "execution_count": 15,
   "id": "b247611e-04d4-4247-bf05-8d021e5b38df",
   "metadata": {},
   "outputs": [
    {
     "data": {
      "text/plain": [
       "defaultdict(list,\n",
       "            {6: ['python'],\n",
       "             11: ['programacao'],\n",
       "             4: ['data'],\n",
       "             7: ['ciencia', 'analise']})"
      ]
     },
     "execution_count": 15,
     "metadata": {},
     "output_type": "execute_result"
    }
   ],
   "source": [
    "from collections import defaultdict\n",
    "\n",
    "def agrupar_palavras_por_tamanho(lista_palavras):\n",
    "    dicionario_tamanhos = defaultdict(list)\n",
    "    \n",
    "    for palavra in lista_palavras:\n",
    "        tamanho = len(palavra)\n",
    "        dicionario_tamanhos[tamanho].append(palavra)\n",
    "    \n",
    "    return dicionario_tamanhos\n",
    "\n",
    "# Exemplo de uso da função:\n",
    "lista_palavras = ['python', 'programacao', 'data', 'ciencia', 'analise']\n",
    "resultado = agrupar_palavras_por_tamanho(lista_palavras)\n",
    "resultado"
   ]
  },
  {
   "cell_type": "code",
   "execution_count": 11,
   "id": "d321bb41-5e5d-448c-8a35-f81b8466d56e",
   "metadata": {},
   "outputs": [],
   "source": [
    "def agrupar_palavras_por_tamanho(palavras):\n",
    "    agrupamento = defaultdict(list)\n",
    "    for palavra in palavras:\n",
    "        tamanho = len(palavra)\n",
    "        agrupamento[tamanho].append(palavra)\n",
    "    return agrupamento"
   ]
  },
  {
   "cell_type": "code",
   "execution_count": 14,
   "id": "603790b9-1cbe-4e80-af68-f878d1bfc81c",
   "metadata": {
    "tags": []
   },
   "outputs": [
    {
     "data": {
      "text/plain": [
       "defaultdict(list,\n",
       "            {6: ['python'],\n",
       "             11: ['programacao'],\n",
       "             4: ['data'],\n",
       "             7: ['ciencia', 'analise']})"
      ]
     },
     "execution_count": 14,
     "metadata": {},
     "output_type": "execute_result"
    }
   ],
   "source": [
    "agrupar_palavras_por_tamanho(lista_palavras)"
   ]
  },
  {
   "cell_type": "markdown",
   "id": "52c171ae-5d0f-4514-9151-25422d8e69b1",
   "metadata": {},
   "source": [
    "O `defaultdict` é uma classe do módulo collections em Python que fornece um dicionário com um valor padrão para chaves que não existem no dicionário. A principal vantagem de usar um defaultdict é evitar a necessidade de verificar se uma chave existe antes de acessá-la ou definir um valor para ela. É como um dicionario.get('chave', 'valor caso não exista')"
   ]
  },
  {
   "cell_type": "code",
   "execution_count": 96,
   "id": "a131ab95-c73a-4071-9341-03e22fa3acb2",
   "metadata": {
    "tags": []
   },
   "outputs": [],
   "source": [
    "# Mais sobre DefaultDict\n",
    "dicionario = defaultdict(str)"
   ]
  },
  {
   "cell_type": "code",
   "execution_count": 97,
   "id": "7aa7171a-8a4b-47dc-a33d-9ed10778bfd7",
   "metadata": {
    "tags": []
   },
   "outputs": [
    {
     "data": {
      "text/plain": [
       "''"
      ]
     },
     "execution_count": 97,
     "metadata": {},
     "output_type": "execute_result"
    }
   ],
   "source": [
    "dicionario['idade']"
   ]
  },
  {
   "cell_type": "markdown",
   "id": "6ca917e7-feb3-44cc-b27e-aeb1753f7d14",
   "metadata": {},
   "source": [
    "##### Crie uma função chamada historico_acoes que receba uma lista de ações (representadas por dicionários com chave \"data\" e valor correspondente à data da ação) como parâmetro e retorne um OrderedDict onde as chaves são as datas das ações e os valores são as próprias ações em ordem de ocorrência."
   ]
  },
  {
   "attachments": {
    "16e43096-40fa-4b0b-b31a-a0faa31c30c3.png": {
     "image/png": "[encoded data removed]"
    }
   },
   "cell_type": "markdown",
   "id": "c49995e4-dcde-4848-9190-50c0d6eb881f",
   "metadata": {},
   "source": [
    "![image.png](attachment:16e43096-40fa-4b0b-b31a-a0faa31c30c3.png)"
   ]
  },
  {
   "cell_type": "code",
   "execution_count": 98,
   "id": "502c3d9b-b993-48d5-834e-beba8a797713",
   "metadata": {
    "tags": []
   },
   "outputs": [],
   "source": [
    "from collections import OrderedDict"
   ]
  },
  {
   "cell_type": "markdown",
   "id": "88ca0520-cf3a-4bf4-be73-3022fefd7b2d",
   "metadata": {},
   "source": [
    "O `OrderedDict` é útil quando você precisa manter a ordem de inserção dos elementos em um dicionário. Em um dicionário padrão do Python (dicionário comum), a ordem dos elementos não é garantida e pode variar dependendo da implementação e de outros fatores. No entanto, em algumas situações, a ordem dos elementos é importante, e é aí que o OrderedDict entra em jogo."
   ]
  },
  {
   "cell_type": "code",
   "execution_count": 100,
   "id": "7771b5ee-ac5e-40be-a048-9189c2b6b7bd",
   "metadata": {
    "tags": []
   },
   "outputs": [],
   "source": [
    "acoes = [\n",
    "    {\"data\": \"2023-07-01\", \"valor\": 100},\n",
    "    {\"data\": \"2023-08-01\", \"valor\": 200},\n",
    "    {\"data\": \"2023-09-01\", \"valor\": 300},\n",
    "    {\"data\": \"2023-07-01\", \"valor\": 300}\n",
    "]"
   ]
  },
  {
   "cell_type": "code",
   "execution_count": 105,
   "id": "badc86a3-285f-48a9-9382-f585d5f022a2",
   "metadata": {
    "tags": []
   },
   "outputs": [],
   "source": [
    "def historico_acoes(lista_acoes):\n",
    "    ordered_dict = OrderedDict()\n",
    "    for acao in lista_acoes:\n",
    "        data = acao['data']\n",
    "        ordered_dict[data] = acao\n",
    "    return ordered_dict"
   ]
  },
  {
   "cell_type": "code",
   "execution_count": 106,
   "id": "43636cee-cb55-4377-b47a-56bff2999073",
   "metadata": {
    "tags": []
   },
   "outputs": [
    {
     "data": {
      "text/plain": [
       "OrderedDict([('2023-07-01', {'data': '2023-07-01', 'valor': 300}),\n",
       "             ('2023-08-01', {'data': '2023-08-01', 'valor': 200}),\n",
       "             ('2023-09-01', {'data': '2023-09-01', 'valor': 300})])"
      ]
     },
     "execution_count": 106,
     "metadata": {},
     "output_type": "execute_result"
    }
   ],
   "source": [
    "historico_acoes(acoes)"
   ]
  },
  {
   "cell_type": "markdown",
   "id": "53b82124-8cfc-4851-83dc-1cc31b3ae4df",
   "metadata": {},
   "source": [
    "##### Crie uma namedtuple chamada Pessoa com os campos \"nome\", \"idade\" e \"email\". Em seguida, crie uma função chamada cadastrar_pessoa que receba as informações de uma pessoa como parâmetro e retorne uma instância da namedtuple contendo essas informações."
   ]
  },
  {
   "cell_type": "code",
   "execution_count": 1,
   "id": "38403417-87cc-4a27-81a9-c2451726943a",
   "metadata": {},
   "outputs": [],
   "source": [
    "from typing import NamedTuple\n",
    "from collections import namedtuple\n",
    "\n",
    "Pessoa = namedtuple('Pessoa', ['nome', 'idade', 'email'])\n",
    "luiz_pessoa = Pessoa('Luiz Henrique', 26, 'luiz@email.com')"
   ]
  },
  {
   "cell_type": "code",
   "execution_count": 4,
   "id": "7e330a6c-86dc-403d-bdf1-57f6f7025707",
   "metadata": {
    "tags": []
   },
   "outputs": [],
   "source": [
    "def cadastrar_pessoa(nome: str, idade: int, email:str):\n",
    "    Pessoa = namedtuple('Pessoa', ['nome', 'idade', 'email'])\n",
    "    return Pessoa(nome, idade, email)"
   ]
  },
  {
   "cell_type": "code",
   "execution_count": 5,
   "id": "618c540e-0a19-4f46-8571-c6fa1a05c3fc",
   "metadata": {
    "tags": []
   },
   "outputs": [
    {
     "data": {
      "text/plain": [
       "Pessoa(nome='joao', idade=22, email='joao@email.com')"
      ]
     },
     "execution_count": 5,
     "metadata": {},
     "output_type": "execute_result"
    }
   ],
   "source": [
    "cadastrar_pessoa('joao', 22, 'joao@email.com')"
   ]
  },
  {
   "cell_type": "markdown",
   "id": "9693255e-7c18-4916-b736-51e50e3b1b8a",
   "metadata": {},
   "source": [
    "##### Crie uma função chamada fila_de_impressao que receba uma lista de documentos a serem impressos como parâmetro e utilize um deque para simular uma fila de impressão. A função deve imprimir cada documento da fila e remover da mesma até que não haja mais documentos a serem impressos."
   ]
  },
  {
   "cell_type": "code",
   "execution_count": 7,
   "id": "4bff1787-d0b1-4663-9896-f4bc02e53c3e",
   "metadata": {
    "tags": []
   },
   "outputs": [],
   "source": [
    "from typing import List\n",
    "from collections import deque"
   ]
  },
  {
   "cell_type": "code",
   "execution_count": 66,
   "id": "00e3b288-19d2-4ae2-a22a-dbca52097b35",
   "metadata": {
    "tags": []
   },
   "outputs": [],
   "source": [
    "class FilaImpressao:\n",
    "    def __init__(self, lista_documentos: List[str]):\n",
    "        self.lista_documentos = deque(lista_documentos)\n",
    "        self.idx = 0\n",
    "    \n",
    "    def adiciona_item(self, item: str):\n",
    "        return self.lista_documentos.append(item)\n",
    "    \n",
    "    def imprime_item(self):\n",
    "        \"Só imprime o ultimo item (primeiro a entrar).\"\n",
    "        item_impresso = self.lista_documentos.popleft()\n",
    "        return item_impresso\n",
    "    \n",
    "    def ver_fila(self):\n",
    "        return self.lista_documentos"
   ]
  },
  {
   "cell_type": "code",
   "execution_count": 67,
   "id": "145b7717-ecb3-49f0-a225-bcd8b8723b17",
   "metadata": {
    "tags": []
   },
   "outputs": [],
   "source": [
    "documentos = ['docA', 'docB', 'docC']\n",
    "fila_documentos = FilaImpressao(documentos)"
   ]
  },
  {
   "cell_type": "code",
   "execution_count": 68,
   "id": "f5081d05-9ad1-4ba2-92f0-02051023d327",
   "metadata": {
    "tags": []
   },
   "outputs": [
    {
     "data": {
      "text/plain": [
       "'docA'"
      ]
     },
     "execution_count": 68,
     "metadata": {},
     "output_type": "execute_result"
    }
   ],
   "source": [
    "fila_documentos.imprime_item()"
   ]
  },
  {
   "cell_type": "code",
   "execution_count": 69,
   "id": "be26473c-9a76-4d1d-8749-db7d55639f1a",
   "metadata": {
    "tags": []
   },
   "outputs": [
    {
     "data": {
      "text/plain": [
       "deque(['docB', 'docC'])"
      ]
     },
     "execution_count": 69,
     "metadata": {},
     "output_type": "execute_result"
    }
   ],
   "source": [
    "fila_documentos.ver_fila()"
   ]
  },
  {
   "cell_type": "code",
   "execution_count": 70,
   "id": "06992bd8-dd9a-4441-9709-6ce9a6da0d2d",
   "metadata": {
    "tags": []
   },
   "outputs": [],
   "source": [
    "fila_documentos.adiciona_item('docD')"
   ]
  },
  {
   "cell_type": "code",
   "execution_count": 71,
   "id": "6309a398-401e-4712-851c-0ae961e4d851",
   "metadata": {
    "tags": []
   },
   "outputs": [
    {
     "data": {
      "text/plain": [
       "deque(['docB', 'docC', 'docD'])"
      ]
     },
     "execution_count": 71,
     "metadata": {},
     "output_type": "execute_result"
    }
   ],
   "source": [
    "fila_documentos.ver_fila()"
   ]
  },
  {
   "cell_type": "code",
   "execution_count": 72,
   "id": "94411bf5-df27-4443-aa46-930bafe90775",
   "metadata": {
    "tags": []
   },
   "outputs": [],
   "source": [
    "fila_documentos.adiciona_item('docE')"
   ]
  },
  {
   "cell_type": "code",
   "execution_count": 73,
   "id": "8f999c14-e1c8-4788-be6b-17a591f9ff34",
   "metadata": {
    "tags": []
   },
   "outputs": [
    {
     "data": {
      "text/plain": [
       "deque(['docB', 'docC', 'docD', 'docE'])"
      ]
     },
     "execution_count": 73,
     "metadata": {},
     "output_type": "execute_result"
    }
   ],
   "source": [
    "fila_documentos.ver_fila()"
   ]
  },
  {
   "cell_type": "code",
   "execution_count": 74,
   "id": "417a26b4-157f-4439-aea4-ddfd062e5811",
   "metadata": {
    "tags": []
   },
   "outputs": [
    {
     "data": {
      "text/plain": [
       "'docB'"
      ]
     },
     "execution_count": 74,
     "metadata": {},
     "output_type": "execute_result"
    }
   ],
   "source": [
    "fila_documentos.imprime_item()"
   ]
  },
  {
   "cell_type": "code",
   "execution_count": 75,
   "id": "53876a3b-9df7-4724-958a-f98aa04bc5de",
   "metadata": {
    "tags": []
   },
   "outputs": [
    {
     "data": {
      "text/plain": [
       "'docC'"
      ]
     },
     "execution_count": 75,
     "metadata": {},
     "output_type": "execute_result"
    }
   ],
   "source": [
    "fila_documentos.imprime_item()"
   ]
  },
  {
   "cell_type": "code",
   "execution_count": 76,
   "id": "d156d007-101d-4877-8e26-8cd9dcdf9069",
   "metadata": {
    "tags": []
   },
   "outputs": [
    {
     "data": {
      "text/plain": [
       "'docD'"
      ]
     },
     "execution_count": 76,
     "metadata": {},
     "output_type": "execute_result"
    }
   ],
   "source": [
    "fila_documentos.imprime_item()"
   ]
  },
  {
   "cell_type": "code",
   "execution_count": 77,
   "id": "409eeec6-cb24-4039-8db7-f450f1c26163",
   "metadata": {
    "tags": []
   },
   "outputs": [
    {
     "data": {
      "text/plain": [
       "'docE'"
      ]
     },
     "execution_count": 77,
     "metadata": {},
     "output_type": "execute_result"
    }
   ],
   "source": [
    "fila_documentos.imprime_item()"
   ]
  },
  {
   "cell_type": "code",
   "execution_count": 78,
   "id": "6411b14f-209a-4050-9d9f-de6d86efeb74",
   "metadata": {
    "tags": []
   },
   "outputs": [
    {
     "data": {
      "text/plain": [
       "deque([])"
      ]
     },
     "execution_count": 78,
     "metadata": {},
     "output_type": "execute_result"
    }
   ],
   "source": [
    "fila_documentos.ver_fila()"
   ]
  },
  {
   "cell_type": "code",
   "execution_count": 79,
   "id": "7167b867-7dde-4f9e-ad26-a9fcc4c00391",
   "metadata": {
    "tags": []
   },
   "outputs": [],
   "source": [
    "fila_documentos.adiciona_item('docA')"
   ]
  },
  {
   "cell_type": "code",
   "execution_count": 80,
   "id": "f5643c4f-8378-47ae-9bef-d98a924393fd",
   "metadata": {
    "tags": []
   },
   "outputs": [
    {
     "data": {
      "text/plain": [
       "deque(['docA'])"
      ]
     },
     "execution_count": 80,
     "metadata": {},
     "output_type": "execute_result"
    }
   ],
   "source": [
    "fila_documentos.ver_fila()"
   ]
  },
  {
   "cell_type": "code",
   "execution_count": null,
   "id": "1841354e-9519-4244-b1c1-53340dbb8e8c",
   "metadata": {},
   "outputs": [],
   "source": []
  }
 ],
 "metadata": {
  "kernelspec": {
   "display_name": "Python 3 (ipykernel)",
   "language": "python",
   "name": "python3"
  },
  "language_info": {
   "codemirror_mode": {
    "name": "ipython",
    "version": 3
   },
   "file_extension": ".py",
   "mimetype": "text/x-python",
   "name": "python",
   "nbconvert_exporter": "python",
   "pygments_lexer": "ipython3",
   "version": "3.8.2"
  }
 },
 "nbformat": 4,
 "nbformat_minor": 5
}
