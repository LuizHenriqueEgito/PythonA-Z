{
 "cells": [
  {
   "cell_type": "markdown",
   "id": "5e1e3cb4-cc91-4521-8086-a7817725526d",
   "metadata": {},
   "source": [
    "# Exercicios"
   ]
  },
  {
   "cell_type": "markdown",
   "id": "ca26af90-1883-47db-8c25-ec071db1d67d",
   "metadata": {},
   "source": [
    "##### Escreva uma função Python para encontrar o máximo de três números."
   ]
  },
  {
   "cell_type": "code",
   "execution_count": 4,
   "id": "80f81aad-6244-4edb-be5f-8e8a22134db2",
   "metadata": {},
   "outputs": [],
   "source": [
    "from typing import List\n",
    "def find_max_value(list_values: List[int]) -> int:\n",
    "    max_value = list_values[0]\n",
    "    for value in list_values:\n",
    "        if value > max_value:\n",
    "            max_value = value\n",
    "    return max_value"
   ]
  },
  {
   "cell_type": "code",
   "execution_count": 5,
   "id": "f723bdf9-19d0-4b79-871e-60f467980036",
   "metadata": {
    "tags": []
   },
   "outputs": [
    {
     "data": {
      "text/plain": [
       "10"
      ]
     },
     "execution_count": 5,
     "metadata": {},
     "output_type": "execute_result"
    }
   ],
   "source": [
    "find_max_value([1,10,2,3])"
   ]
  },
  {
   "cell_type": "code",
   "execution_count": 6,
   "id": "596ce6f9-0a76-4fd8-80d3-015540c3eef0",
   "metadata": {
    "tags": []
   },
   "outputs": [],
   "source": [
    "# jeito mais facil\n",
    "def find_max_value(list_values: List[int]) -> int:\n",
    "    if list_values:\n",
    "        return max(list_values)\n",
    "    else:\n",
    "        return None"
   ]
  },
  {
   "cell_type": "code",
   "execution_count": 7,
   "id": "a5052170-a16f-4b17-90f2-50a04cfb15f1",
   "metadata": {
    "tags": []
   },
   "outputs": [
    {
     "data": {
      "text/plain": [
       "10"
      ]
     },
     "execution_count": 7,
     "metadata": {},
     "output_type": "execute_result"
    }
   ],
   "source": [
    "find_max_value([1,10,2,3])"
   ]
  },
  {
   "cell_type": "markdown",
   "id": "89fb93c8-7817-4256-88fa-5baaeeac191d",
   "metadata": {},
   "source": [
    "##### Escreva uma função Python que receba um número como parâmetro e verifique se o número é primo ou não."
   ]
  },
  {
   "cell_type": "code",
   "execution_count": 56,
   "id": "29218b58-c60d-4124-bcb7-f1765e574e76",
   "metadata": {},
   "outputs": [],
   "source": [
    "def is_prime_number(number: int) -> bool:\n",
    "    if number == 1 or number == 2:\n",
    "        return True\n",
    "    for denominador in range(3, number):\n",
    "        if number % denominador == 0:\n",
    "            return False\n",
    "    return True"
   ]
  },
  {
   "cell_type": "code",
   "execution_count": 63,
   "id": "d89f35f4-81b4-4a94-9033-06cffc93ddd8",
   "metadata": {
    "tags": []
   },
   "outputs": [
    {
     "data": {
      "text/plain": [
       "False"
      ]
     },
     "execution_count": 63,
     "metadata": {},
     "output_type": "execute_result"
    }
   ],
   "source": [
    "is_prime_number(111)"
   ]
  },
  {
   "cell_type": "markdown",
   "id": "25cabc75-2ed0-49d4-962b-728fdeba17db",
   "metadata": {},
   "source": [
    "##### Escreva uma função Python que imprima as primeiras n linhas do triângulo de Pascal."
   ]
  },
  {
   "cell_type": "code",
   "execution_count": 78,
   "id": "f7bba93e-d133-4b1e-b3ee-16e83a574945",
   "metadata": {},
   "outputs": [
    {
     "name": "stdout",
     "output_type": "stream",
     "text": [
      "desse cara item 1 [1, 1] esse cara 1\n",
      "desse cara item 2 [1, 1] esse cara 1\n",
      "desse cara item 1 [1, 2, 1] esse cara 1\n",
      "desse cara item 2 [1, 2, 1] esse cara 2\n",
      "desse cara item 1 [1, 2, 1] esse cara 2\n",
      "desse cara item 2 [1, 2, 1] esse cara 1\n",
      "desse cara item 1 [1, 3, 3, 1] esse cara 1\n",
      "desse cara item 2 [1, 3, 3, 1] esse cara 3\n",
      "desse cara item 1 [1, 3, 3, 1] esse cara 3\n",
      "desse cara item 2 [1, 3, 3, 1] esse cara 3\n",
      "desse cara item 1 [1, 3, 3, 1] esse cara 3\n",
      "desse cara item 2 [1, 3, 3, 1] esse cara 1\n",
      "1\n",
      "1 1\n",
      "1 2 1\n",
      "1 3 3 1\n",
      "1 4 6 4 1\n"
     ]
    }
   ],
   "source": [
    "def print_pascal(n):\n",
    "    if n <= 0:\n",
    "        return\n",
    "    \n",
    "    pascal = [[1]]\n",
    "    for i in range(1, n):\n",
    "        # print(f'aqui {i}')\n",
    "        row = [1]\n",
    "        for j in range(1, i):\n",
    "            print(f'desse cara item 1 {pascal[i - 1]} esse cara {pascal[i - 1][j - 1]}')\n",
    "            print(f'desse cara item 2 {pascal[i - 1]} esse cara {pascal[i - 1][j]}')\n",
    "            item_1 = pascal[i - 1][j - 1]\n",
    "            item_2 = pascal[i - 1][j]\n",
    "            row.append(item_1 + item_2)\n",
    "        row.append(1)\n",
    "        pascal.append(row)\n",
    "    \n",
    "    for row in pascal:\n",
    "        print(\" \".join(map(str, row)))\n",
    "\n",
    "# Teste a função com um valor de n\n",
    "print_pascal(5)"
   ]
  },
  {
   "cell_type": "code",
   "execution_count": 79,
   "id": "cd793bb6-07b5-443f-afd3-7db8a0f3bfae",
   "metadata": {},
   "outputs": [
    {
     "name": "stdout",
     "output_type": "stream",
     "text": [
      "1\n",
      "1 1\n",
      "1 2 1\n",
      "1 3 3 1\n",
      "1 4 6 4 1\n"
     ]
    }
   ],
   "source": [
    "# reveja até entender\n",
    "def print_pascal(n):\n",
    "    if n <= 0:\n",
    "        return\n",
    "    \n",
    "    pascal = [[1]]\n",
    "    for i in range(1, n):\n",
    "        row = [1]\n",
    "        for j in range(1, i):\n",
    "            row.append(pascal[i - 1][j - 1] + pascal[i - 1][j])\n",
    "        row.append(1)\n",
    "        pascal.append(row)\n",
    "    \n",
    "    for row in pascal:\n",
    "        print(\" \".join(map(str, row)))\n",
    "\n",
    "# Teste a função com um valor de n\n",
    "print_pascal(5)"
   ]
  },
  {
   "cell_type": "code",
   "execution_count": null,
   "id": "8ce8faf3-2076-4999-b178-3a5283a1e9a2",
   "metadata": {},
   "outputs": [],
   "source": []
  }
 ],
 "metadata": {
  "kernelspec": {
   "display_name": "Python 3 (ipykernel)",
   "language": "python",
   "name": "python3"
  },
  "language_info": {
   "codemirror_mode": {
    "name": "ipython",
    "version": 3
   },
   "file_extension": ".py",
   "mimetype": "text/x-python",
   "name": "python",
   "nbconvert_exporter": "python",
   "pygments_lexer": "ipython3",
   "version": "3.9.0"
  }
 },
 "nbformat": 4,
 "nbformat_minor": 5
}
