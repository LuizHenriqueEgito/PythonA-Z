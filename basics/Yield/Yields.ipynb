{
 "cells": [
  {
   "cell_type": "markdown",
   "id": "b80674ef-bba7-4677-a2af-0bb0ed6c083a",
   "metadata": {},
   "source": [
    "# Exercicios"
   ]
  },
  {
   "cell_type": "markdown",
   "id": "b2cbc991-f977-4b18-9865-7b0f2101695f",
   "metadata": {},
   "source": [
    "##### Escreva um programa em Python para criar uma função geradora que gere as potências de um número até um expoente especificado."
   ]
  },
  {
   "cell_type": "code",
   "execution_count": 5,
   "id": "d8a8cd6c-58dc-42c9-85a1-3bd310a81404",
   "metadata": {},
   "outputs": [
    {
     "name": "stdout",
     "output_type": "stream",
     "text": [
      "1\n",
      "2\n",
      "4\n",
      "8\n",
      "16\n",
      "32\n",
      "64\n",
      "128\n",
      "256\n",
      "512\n",
      "1024\n"
     ]
    }
   ],
   "source": [
    "def gerar_potencias(numero, expoente_maximo):\n",
    "    for expoente in range(expoente_maximo + 1):\n",
    "        yield numero ** expoente\n",
    "        \n",
    "for potencia in gerar_potencias(2, 10):\n",
    "    print(potencia)"
   ]
  },
  {
   "cell_type": "markdown",
   "id": "41d93b75-fbe7-4778-ae16-114b2cdcfc1a",
   "metadata": {},
   "source": [
    "##### Escreva um programa em Python para implementar uma função geradora que gere a média móvel de uma sequência de números."
   ]
  },
  {
   "cell_type": "code",
   "execution_count": 30,
   "id": "1ab67ad1-e6cf-4e0c-bd43-5b1037c1a754",
   "metadata": {
    "tags": []
   },
   "outputs": [
    {
     "name": "stdout",
     "output_type": "stream",
     "text": [
      "0\n",
      "1\n",
      "2\n",
      "3\n",
      "4\n",
      "5\n",
      "6\n"
     ]
    }
   ],
   "source": [
    "for i in range(9 - 3 + 1):\n",
    "    print(i)"
   ]
  },
  {
   "cell_type": "code",
   "execution_count": 31,
   "id": "ba1fd9ad-6a07-43e1-87b5-710e5275f828",
   "metadata": {
    "tags": []
   },
   "outputs": [
    {
     "name": "stdout",
     "output_type": "stream",
     "text": [
      "[1, 2, 3]\n",
      "[2, 3, 4]\n",
      "[3, 4, 5]\n",
      "[4, 5, 6]\n",
      "[5, 6, 7]\n",
      "[6, 7, 8]\n",
      "[7, 8, 9]\n"
     ]
    }
   ],
   "source": [
    "def imprimir_elementos(lista, numero):\n",
    "    for i in range(len(lista) - numero + 1):\n",
    "        print(lista[i:i + numero])\n",
    "\n",
    "# Teste a função com a lista [1, 2, 3, 4, 5, 6, 7, 8, 9] e o número 3\n",
    "lista_numeros = [1, 2, 3, 4, 5, 6, 7, 8, 9]\n",
    "numero_desejado = 3\n",
    "imprimir_elementos(lista_numeros, numero_desejado)"
   ]
  },
  {
   "cell_type": "code",
   "execution_count": 23,
   "id": "260ae6ee-676e-4a1e-96c1-876d13734407",
   "metadata": {
    "tags": []
   },
   "outputs": [],
   "source": [
    "list_ = [1,2,3,4,5,6,7,8,9,10,11,12,13,14,15,16]"
   ]
  },
  {
   "cell_type": "code",
   "execution_count": 34,
   "id": "75ab020b-ae4a-4ce4-92cc-9c0ae1996528",
   "metadata": {},
   "outputs": [],
   "source": [
    "from typing import List\n",
    "def gerador_media_movel(sequencia: List[int], janelamento: int):\n",
    "    l_seq = len(sequencia)\n",
    "    for passo in range(l_seq + janelamento +1):\n",
    "        janela = sequencia[passo:passo + janelamento]\n",
    "        if len(janela) > 0:\n",
    "            yield sum(janela) / len(janela)"
   ]
  },
  {
   "cell_type": "code",
   "execution_count": 35,
   "id": "2ae870c4-d4d9-46e2-a388-c01450df4224",
   "metadata": {
    "tags": []
   },
   "outputs": [
    {
     "name": "stdout",
     "output_type": "stream",
     "text": [
      "2.0\n",
      "3.0\n",
      "4.0\n",
      "5.0\n",
      "6.0\n",
      "7.0\n",
      "8.0\n",
      "9.0\n",
      "10.0\n",
      "11.0\n",
      "12.0\n",
      "13.0\n",
      "14.0\n",
      "15.0\n",
      "15.5\n",
      "16.0\n"
     ]
    }
   ],
   "source": [
    "for i in gerador_media_movel(sequencia=list_, janelamento=3):\n",
    "    print(i)"
   ]
  },
  {
   "cell_type": "code",
   "execution_count": 36,
   "id": "b84945bb-8e88-4c5f-a839-aad3cf6c3014",
   "metadata": {
    "tags": []
   },
   "outputs": [
    {
     "name": "stdout",
     "output_type": "stream",
     "text": [
      "3.0\n",
      "4.0\n",
      "5.0\n",
      "6.0\n",
      "7.0\n",
      "8.0\n",
      "9.0\n",
      "10.0\n",
      "11.0\n",
      "12.0\n",
      "13.0\n",
      "14.0\n"
     ]
    }
   ],
   "source": [
    "def gerar_media_movel(lista, tamanho_janela):\n",
    "    soma = 0\n",
    "    for i, numero in enumerate(lista, 1):\n",
    "        soma += numero\n",
    "        if i >= tamanho_janela:\n",
    "            yield soma / tamanho_janela\n",
    "            soma -= lista[i - tamanho_janela]\n",
    "\n",
    "# Teste a função geradora\n",
    "lista_numeros = [1,2,3,4,5,6,7,8,9,10,11,12,13,14,15,16]\n",
    "tamanho_janela = len(lista_numeros) // 3\n",
    "\n",
    "for media in gerar_media_movel(lista_numeros, tamanho_janela):\n",
    "    print(media)"
   ]
  },
  {
   "cell_type": "markdown",
   "id": "a29a16f0-088c-4600-9a6a-d55e586bf553",
   "metadata": {},
   "source": [
    "##### Escreva um programa em Python para criar um gerador que gere as raízes quadradas e cúbicas dos números de 1 a n."
   ]
  },
  {
   "cell_type": "code",
   "execution_count": 1,
   "id": "206a117f-7661-4e04-99b8-90a3eaf47fa2",
   "metadata": {},
   "outputs": [],
   "source": [
    "def ger_qua_cu(n):\n",
    "    for i in range(0, n + 1):\n",
    "        yield (i**2, i**3)"
   ]
  },
  {
   "cell_type": "code",
   "execution_count": 3,
   "id": "04d9fb02-1397-482f-bac6-a5a450f3e983",
   "metadata": {
    "tags": []
   },
   "outputs": [],
   "source": [
    "ger = ger_qua_cu(5)"
   ]
  },
  {
   "cell_type": "code",
   "execution_count": 4,
   "id": "c5587e8b-1e8e-445a-81d0-f67c9fed98ba",
   "metadata": {
    "tags": []
   },
   "outputs": [
    {
     "name": "stdout",
     "output_type": "stream",
     "text": [
      "(0, 0)\n",
      "(1, 1)\n",
      "(4, 8)\n",
      "(9, 27)\n",
      "(16, 64)\n",
      "(25, 125)\n"
     ]
    }
   ],
   "source": [
    "for i in ger:\n",
    "    print(i)"
   ]
  },
  {
   "cell_type": "markdown",
   "id": "6f3f4bf2-306b-45e2-b727-1988b70eb045",
   "metadata": {},
   "source": [
    "##### Escreva um programa em Python para criar um gerador que gere todas as permutações possíveis de uma string."
   ]
  },
  {
   "cell_type": "code",
   "execution_count": 1,
   "id": "f4a31e8c-81b8-4a0e-885c-def5cd48ef1b",
   "metadata": {
    "tags": []
   },
   "outputs": [
    {
     "name": "stdin",
     "output_type": "stream",
     "text": [
      "Input a string:  luiz\n"
     ]
    },
    {
     "name": "stdout",
     "output_type": "stream",
     "text": [
      "All permutations of luiz:\n",
      "luiz, luzi, liuz, lizu, lzui, lziu, uliz, ulzi, uilz, uizl, uzli, uzil, iluz, ilzu, iulz, iuzl, izlu, izul, zlui, zliu, zuli, zuil, zilu, ziul, "
     ]
    }
   ],
   "source": [
    "def string_permutations(string):\n",
    "    if len(string) <= 1:\n",
    "        yield string\n",
    "    else:\n",
    "        for i in range(len(string)):\n",
    "            current_char = string[i]\n",
    "            remaining_chars = string[:i] + string[i+1:]\n",
    "            for permutation in string_permutations(remaining_chars):\n",
    "                yield current_char + permutation\n",
    "\n",
    "# Accept input from the user\n",
    "input_string = input(\"Input a string: \")\n",
    "\n",
    "# Create the string permutations generator\n",
    "permutations_gen = string_permutations(input_string)\n",
    "\n",
    "# Generate and print all permutations\n",
    "print(\"All permutations of\", input_string + \":\")\n",
    "for permutation in permutations_gen:\n",
    "    print(permutation, end = \", \")"
   ]
  },
  {
   "cell_type": "markdown",
   "id": "4b7b0e2e-d030-4f12-a464-eb543c102a25",
   "metadata": {},
   "source": [
    "##### Escreva um programa em Python que crie uma função geradora que gere o próximo número palíndromo após um determinado número."
   ]
  },
  {
   "cell_type": "code",
   "execution_count": 2,
   "id": "b5d810a5-d4bf-414c-b167-6fc0a51ec889",
   "metadata": {
    "tags": []
   },
   "outputs": [
    {
     "name": "stdin",
     "output_type": "stream",
     "text": [
      "Input a number:  200\n"
     ]
    },
    {
     "name": "stdout",
     "output_type": "stream",
     "text": [
      "Next palindrome number after 200 is: 202\n"
     ]
    }
   ],
   "source": [
    "def is_palindrome(n):\n",
    "    # Check if the number is a palindrome\n",
    "    return str(n) == str(n)[::-1]\n",
    "\n",
    "def next_palindrome(start):\n",
    "    # Start generating palindrome numbers from the next number\n",
    "    num = start + 1\n",
    "    while True:\n",
    "        if is_palindrome(num):\n",
    "            yield num\n",
    "        num += 1\n",
    "\n",
    "# Accept input from the user\n",
    "n = int(input(\"Input a number: \"))\n",
    "# Create the palindrome generator\n",
    "palindrome_gen = next_palindrome(n)\n",
    "# Find and print the next palindrome number\n",
    "next_palindrome_num = next(palindrome_gen)\n",
    "print(\"Next palindrome number after\", n, \"is:\", next_palindrome_num)"
   ]
  },
  {
   "cell_type": "markdown",
   "id": "352d330c-4e61-41d7-bbeb-c794283e7414",
   "metadata": {},
   "source": [
    "#####  Escreva um programa em Python para implementar um gerador que forneça todas as combinações possíveis de uma determinada lista de elementos."
   ]
  },
  {
   "cell_type": "code",
   "execution_count": 3,
   "id": "189f7e2d-ef90-4e80-870e-4fb166824efd",
   "metadata": {
    "tags": []
   },
   "outputs": [
    {
     "name": "stdout",
     "output_type": "stream",
     "text": [
      "Original list of elements: [1, 2, 3, 4]\n",
      "All permutations:\n",
      "[1, 2, 3, 4]\n",
      "[2, 1, 3, 4]\n",
      "[2, 3, 1, 4]\n",
      "[2, 3, 4, 1]\n",
      "[1, 3, 2, 4]\n",
      "[3, 1, 2, 4]\n",
      "[3, 2, 1, 4]\n",
      "[3, 2, 4, 1]\n",
      "[1, 3, 4, 2]\n",
      "[3, 1, 4, 2]\n",
      "[3, 4, 1, 2]\n",
      "[3, 4, 2, 1]\n",
      "[1, 2, 4, 3]\n",
      "[2, 1, 4, 3]\n",
      "[2, 4, 1, 3]\n",
      "[2, 4, 3, 1]\n",
      "[1, 4, 2, 3]\n",
      "[4, 1, 2, 3]\n",
      "[4, 2, 1, 3]\n",
      "[4, 2, 3, 1]\n",
      "[1, 4, 3, 2]\n",
      "[4, 1, 3, 2]\n",
      "[4, 3, 1, 2]\n",
      "[4, 3, 2, 1]\n"
     ]
    }
   ],
   "source": [
    "def list_permutations(elements):\n",
    "    if len(elements) <= 1:\n",
    "        yield elements\n",
    "    else:\n",
    "        for p in list_permutations(elements[1:]):\n",
    "            for i in range(len(elements)):\n",
    "                yield p[:i] + elements[0:1] + p[i:]\n",
    "\n",
    "# Accept input from the user\n",
    "# nums = [1,2] \n",
    "# nums = [1,2,3]\n",
    "nums = [1,2,3,4]\n",
    "print(\"Original list of elements:\",nums)\n",
    "\n",
    "# Generate and print all permutations\n",
    "print(\"All permutations:\")\n",
    "for p in list_permutations(nums):\n",
    "    print(p)"
   ]
  },
  {
   "cell_type": "markdown",
   "id": "e4196399-1a29-4148-9ca2-e2d30b0e9d7c",
   "metadata": {},
   "source": [
    "##### Escreva um programa Python para implementar uma função geradora que gere todas as permutações de uma determinada lista de elementos."
   ]
  },
  {
   "cell_type": "code",
   "execution_count": 9,
   "id": "04ceb4c1-b950-4164-986c-72b460cd13e5",
   "metadata": {},
   "outputs": [
    {
     "name": "stdout",
     "output_type": "stream",
     "text": [
      "[1, 2, 3]\n",
      "[1, 3, 2]\n",
      "[2, 1, 3]\n",
      "[2, 3, 1]\n",
      "[3, 1, 2]\n",
      "[3, 2, 1]\n"
     ]
    }
   ],
   "source": [
    "# [1,2,3] [1,3,2] [2,1,3] [2,3,1] [3,1,2] [3,2,1]\n",
    "from typing import List\n",
    "from itertools import permutations\n",
    "\n",
    "def ger_perm(list_: List[int]):\n",
    "    for perm in permutations(list_):\n",
    "        yield list(perm)\n",
    "\n",
    "elements = [1, 2, 3]\n",
    "\n",
    "for perm in ger_perm(elements):\n",
    "    print(perm)"
   ]
  },
  {
   "cell_type": "markdown",
   "id": "7217c417-b2f1-4709-87bb-98793b68d63c",
   "metadata": {},
   "source": [
    "##### Escreva um programa Python para implementar uma função geradora que gera a sequência de Fibonacci."
   ]
  },
  {
   "cell_type": "code",
   "execution_count": 46,
   "id": "6ccdc8bb-42e4-44ef-baa7-b8140fd72b2f",
   "metadata": {},
   "outputs": [],
   "source": [
    "def gerador_fibonacci():\n",
    "    n_0 = 0\n",
    "    n_1 = 1\n",
    "    yield n_0\n",
    "    yield n_1\n",
    "    while True:\n",
    "        n_2 = n_1 + n_0\n",
    "        yield n_2\n",
    "        n_0 = n_1\n",
    "        n_1 = n_2"
   ]
  },
  {
   "cell_type": "code",
   "execution_count": 47,
   "id": "de8b31f3-c024-4a26-b8ca-6b371290e9c6",
   "metadata": {
    "tags": []
   },
   "outputs": [],
   "source": [
    "fibo = gerador_fibonacci()"
   ]
  },
  {
   "cell_type": "code",
   "execution_count": 73,
   "id": "eef479db-1259-404e-8b5f-3855501badfe",
   "metadata": {
    "tags": []
   },
   "outputs": [
    {
     "data": {
      "text/plain": [
       "75025"
      ]
     },
     "execution_count": 73,
     "metadata": {},
     "output_type": "execute_result"
    }
   ],
   "source": [
    "next(fibo)"
   ]
  },
  {
   "cell_type": "markdown",
   "id": "86e555cd-df07-4744-8cd2-77ee64490508",
   "metadata": {},
   "source": [
    "##### Escreva um programa em Python que crie uma função geradora que gere cubos de números de 1 a n. Aceite n do usuário."
   ]
  },
  {
   "cell_type": "code",
   "execution_count": 74,
   "id": "2f99b38f-6c71-4f70-997a-94a0a13abf80",
   "metadata": {},
   "outputs": [],
   "source": [
    "def gera_cupos(n: int):\n",
    "    for i in range(n):\n",
    "        yield i ** 3"
   ]
  },
  {
   "cell_type": "code",
   "execution_count": 83,
   "id": "a12add3e-b2aa-423e-9f84-2bf5f1129b35",
   "metadata": {
    "tags": []
   },
   "outputs": [],
   "source": [
    "gerador = gera_cupos(5)"
   ]
  },
  {
   "cell_type": "code",
   "execution_count": 85,
   "id": "ff073c2e-1e9a-4c21-854b-6f3a3d34a4ce",
   "metadata": {
    "tags": []
   },
   "outputs": [
    {
     "name": "stdout",
     "output_type": "stream",
     "text": [
      "0: 0.0\n",
      "1: 1.0\n",
      "8: 2.0\n",
      "27: 3.0\n",
      "64: 3.9999999999999996\n"
     ]
    }
   ],
   "source": [
    "import math\n",
    "for i in gerador:\n",
    "    print(f'{i}: {math.pow(i, 1/3)}')"
   ]
  },
  {
   "cell_type": "code",
   "execution_count": null,
   "id": "84860fff-f642-4be5-b07c-297b281ab93f",
   "metadata": {},
   "outputs": [],
   "source": []
  }
 ],
 "metadata": {
  "kernelspec": {
   "display_name": "Python 3 (ipykernel)",
   "language": "python",
   "name": "python3"
  },
  "language_info": {
   "codemirror_mode": {
    "name": "ipython",
    "version": 3
   },
   "file_extension": ".py",
   "mimetype": "text/x-python",
   "name": "python",
   "nbconvert_exporter": "python",
   "pygments_lexer": "ipython3",
   "version": "3.9.0"
  }
 },
 "nbformat": 4,
 "nbformat_minor": 5
}
