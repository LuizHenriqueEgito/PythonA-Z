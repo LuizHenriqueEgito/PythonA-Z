{
 "cells": [
  {
   "cell_type": "markdown",
   "id": "43c5992d-f390-4053-91de-a7ae54f68219",
   "metadata": {
    "tags": []
   },
   "source": [
    "# Exercicios"
   ]
  },
  {
   "cell_type": "markdown",
   "id": "9c858d17-2252-4724-88d6-96734abb5d7e",
   "metadata": {
    "tags": []
   },
   "source": [
    "##### Escreva uma função Python para inverter uma lista em um local específico."
   ]
  },
  {
   "cell_type": "code",
   "execution_count": 17,
   "id": "438fc337-0285-478a-87ba-ebc067b6b54e",
   "metadata": {
    "tags": []
   },
   "outputs": [],
   "source": [
    "from typing import List"
   ]
  },
  {
   "cell_type": "code",
   "execution_count": 12,
   "id": "67c79deb-1efa-4c45-b889-6b97aa6a8063",
   "metadata": {
    "tags": []
   },
   "outputs": [],
   "source": [
    "list_ = [2,5,9,8,4,6,1,2,3,5,8,7,9,4,5,6,11,2,3,6,5]"
   ]
  },
  {
   "cell_type": "code",
   "execution_count": 26,
   "id": "23245adf-85a3-45fe-a032-12c182ac04e7",
   "metadata": {
    "tags": []
   },
   "outputs": [],
   "source": [
    "def invert_list_idx(list_: List[int], idx: int) -> List[int]:\n",
    "    list_part_one = list_[:idx]\n",
    "    list_part_two = list_[idx:]\n",
    "    return list_part_one + sorted(list_part_two)"
   ]
  },
  {
   "cell_type": "code",
   "execution_count": 27,
   "id": "d844b7ca-25c8-4043-bc28-f59b255642a3",
   "metadata": {
    "tags": []
   },
   "outputs": [
    {
     "data": {
      "text/plain": [
       "[2, 5, 9, 8, 4, 1, 2, 2, 3, 3, 4, 5, 5, 5, 6, 6, 6, 7, 8, 9, 11]"
      ]
     },
     "execution_count": 27,
     "metadata": {},
     "output_type": "execute_result"
    }
   ],
   "source": [
    "invert_list_idx(list_, idx=5)"
   ]
  },
  {
   "cell_type": "markdown",
   "id": "6cab6595-2927-46b5-a3f3-5d403e85a041",
   "metadata": {},
   "source": [
    "##### Escreva uma função Python para inverter uma lista em uma fatia específica."
   ]
  },
  {
   "cell_type": "code",
   "execution_count": 20,
   "id": "a1118ef5-cfef-4eb5-be5b-ecd3610a41d8",
   "metadata": {
    "tags": []
   },
   "outputs": [],
   "source": [
    "list_ = [2,5,9,8,4,6,1,2,3,5,8,7,9,4,5,6,11,2,3,6,5]"
   ]
  },
  {
   "cell_type": "code",
   "execution_count": 24,
   "id": "684aebe1-36f1-47df-887a-7cb43414b513",
   "metadata": {
    "tags": []
   },
   "outputs": [],
   "source": [
    "def invert_list_idxs(list_: List[int], idx_start: int, idx_stop: int) -> List[int]:\n",
    "    list_start_part = list_[:idx_start]\n",
    "    list_slice_part = list_[idx_start:idx_stop]\n",
    "    list_stop_part = list_[idx_stop:]\n",
    "    list_out = list_start_part + sorted(list_slice_part) + list_stop_part\n",
    "    return list_out"
   ]
  },
  {
   "cell_type": "code",
   "execution_count": 22,
   "id": "c9cc952c-24ad-4f48-9b70-72ba93051da5",
   "metadata": {
    "tags": []
   },
   "outputs": [
    {
     "data": {
      "text/plain": [
       "[2, 5, 1, 2, 4, 6, 8, 9, 3, 5, 8, 7, 9, 4, 5, 6, 11, 2, 3, 6, 5]"
      ]
     },
     "execution_count": 22,
     "metadata": {},
     "output_type": "execute_result"
    }
   ],
   "source": [
    "invert_list_idxs(list_, 2, 8)"
   ]
  },
  {
   "cell_type": "markdown",
   "id": "4044b974-7dd1-47ce-abca-726d2ed3d978",
   "metadata": {},
   "source": [
    "##### Escreva uma função Python para inverter dois elementos de lugar."
   ]
  },
  {
   "cell_type": "code",
   "execution_count": 28,
   "id": "9f7db461-8c25-4f6a-a526-885f9af7f012",
   "metadata": {
    "tags": []
   },
   "outputs": [],
   "source": [
    "def swap_idx_list(\n",
    "    list_: List[int],\n",
    "    first_idx: int,\n",
    "    second_idx: int\n",
    ") -> List[int]:\n",
    "    list_[first_idx], list_[second_idx] = list_[second_idx], list_[first_idx]\n",
    "    return list_"
   ]
  },
  {
   "cell_type": "code",
   "execution_count": 29,
   "id": "baf07123-b654-4a85-87a6-be2f1e138a99",
   "metadata": {
    "tags": []
   },
   "outputs": [
    {
     "data": {
      "text/plain": [
       "[5, 2, 9, 8, 4, 6, 1, 2, 3, 5, 8, 7, 9, 4, 5, 6, 11, 2, 3, 6, 5]"
      ]
     },
     "execution_count": 29,
     "metadata": {},
     "output_type": "execute_result"
    }
   ],
   "source": [
    "swap_idx_list(list_, 0, 1)"
   ]
  },
  {
   "cell_type": "markdown",
   "id": "bfd8e271-f7ad-44f3-94b6-0c704f60db5a",
   "metadata": {},
   "source": [
    "#####  Escreva uma função Python que encontre todas as permutações dos membros de uma lista."
   ]
  },
  {
   "cell_type": "code",
   "execution_count": null,
   "id": "045c64f4-1cea-473f-b173-db58a7b85245",
   "metadata": {},
   "outputs": [],
   "source": []
  },
  {
   "cell_type": "markdown",
   "id": "e9671acf-3151-47fe-b639-1244afc96779",
   "metadata": {},
   "source": [
    "##### Escreva uma função Python para verificar se uma lista é um palíndromo ou não. Retorna verdadeiro caso contrário falso."
   ]
  },
  {
   "cell_type": "code",
   "execution_count": null,
   "id": "d9294146-ba7e-4fe5-8ce8-b00a5c4321d2",
   "metadata": {},
   "outputs": [],
   "source": []
  },
  {
   "cell_type": "markdown",
   "id": "66e9ed5d-a2f0-47e8-ac07-50183930b14f",
   "metadata": {},
   "source": [
    "#####  Escreva uma função em Python para encontrar a união e a interseção de duas listas."
   ]
  },
  {
   "cell_type": "code",
   "execution_count": 10,
   "id": "9417b754-94dc-43a0-8fed-f10980c9e608",
   "metadata": {},
   "outputs": [
    {
     "data": {
      "text/plain": [
       "[3, 4, 5]"
      ]
     },
     "execution_count": 10,
     "metadata": {},
     "output_type": "execute_result"
    }
   ],
   "source": [
    "# sem usar sets\n",
    "lista_1 = [1,2,3,4,5]\n",
    "lista_2 = [3,4,5,6,7]\n",
    "# interseção\n",
    "[x for x in lista_1 if x in lista_2]"
   ]
  },
  {
   "cell_type": "code",
   "execution_count": 12,
   "id": "91824f4f-4602-4c1e-8056-7c49dca8ce4a",
   "metadata": {
    "tags": []
   },
   "outputs": [
    {
     "data": {
      "text/plain": [
       "[1, 2, 3, 4, 5, 6, 7]"
      ]
     },
     "execution_count": 12,
     "metadata": {},
     "output_type": "execute_result"
    }
   ],
   "source": [
    "# união\n",
    "lista_1 + [x for x in lista_2 if x not in lista_1]"
   ]
  },
  {
   "cell_type": "markdown",
   "id": "56c9d3e6-0a8f-4c0c-954f-1f0e1747be71",
   "metadata": {},
   "source": [
    "##### Escreva uma função Python para remover duplicatas de uma lista enquanto preserva a ordem."
   ]
  },
  {
   "cell_type": "code",
   "execution_count": 3,
   "id": "0e16cbe5-ce4c-48b4-9347-38054b819c12",
   "metadata": {},
   "outputs": [],
   "source": [
    "list_ = [1,1,2,2,2,3,3,4,5,6,6,7,8,8,9,9]\n",
    "new_list = []\n",
    "for i in list_:\n",
    "    if i not in new_list:\n",
    "        new_list.append(i)"
   ]
  },
  {
   "cell_type": "code",
   "execution_count": 4,
   "id": "9193afa1-bc59-4d2d-b4e0-09b184752d7c",
   "metadata": {
    "tags": []
   },
   "outputs": [
    {
     "data": {
      "text/plain": [
       "[1, 2, 3, 4, 5, 6, 7, 8, 9]"
      ]
     },
     "execution_count": 4,
     "metadata": {},
     "output_type": "execute_result"
    }
   ],
   "source": [
    "new_list"
   ]
  },
  {
   "cell_type": "markdown",
   "id": "7c55482d-1d50-47e8-a7a4-3c1d1ad90f46",
   "metadata": {},
   "source": [
    "#####  Escreva um programa Python para encontrar todos os pares em uma lista cuja soma seja igual a um determinado valor."
   ]
  },
  {
   "cell_type": "code",
   "execution_count": 14,
   "id": "31945236-9397-4910-9a9b-87c6ba377743",
   "metadata": {},
   "outputs": [],
   "source": [
    "from typing import List, Tuple\n",
    "lista_1 = [1,2,3,4,5]\n",
    "def get_tuple_values(list_: List[int], value: int) -> List[Tuple[int]]:\n",
    "    return_list = []\n",
    "    for valor_1 in lista_1:\n",
    "        for valor_2 in lista_1:\n",
    "            sum_ = valor_1 + valor_2\n",
    "            if sum_ == value:\n",
    "                return_list.append((valor_1, valor_2))\n",
    "    return return_list"
   ]
  },
  {
   "cell_type": "code",
   "execution_count": 21,
   "id": "44420a05-1b88-4615-a521-3dcf0cfe3661",
   "metadata": {
    "tags": []
   },
   "outputs": [
    {
     "data": {
      "text/plain": [
       "[(3, 5), (4, 4), (5, 3)]"
      ]
     },
     "execution_count": 21,
     "metadata": {},
     "output_type": "execute_result"
    }
   ],
   "source": [
    "get_tuple_values(list_=lista_1, value=8)"
   ]
  },
  {
   "cell_type": "code",
   "execution_count": null,
   "id": "49e953dc-603c-40a6-af92-93ee773f9b4b",
   "metadata": {},
   "outputs": [],
   "source": []
  }
 ],
 "metadata": {
  "kernelspec": {
   "display_name": "Python 3 (ipykernel)",
   "language": "python",
   "name": "python3"
  },
  "language_info": {
   "codemirror_mode": {
    "name": "ipython",
    "version": 3
   },
   "file_extension": ".py",
   "mimetype": "text/x-python",
   "name": "python",
   "nbconvert_exporter": "python",
   "pygments_lexer": "ipython3",
   "version": "3.9.0"
  }
 },
 "nbformat": 4,
 "nbformat_minor": 5
}
