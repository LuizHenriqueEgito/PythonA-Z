{
 "cells": [
  {
   "cell_type": "markdown",
   "id": "930377a4-2fb5-4b2e-98d2-c679da9d3d5b",
   "metadata": {},
   "source": [
    "# Exercicios"
   ]
  },
  {
   "cell_type": "markdown",
   "id": "0bb1ff65-56d7-4e3f-9db3-b20021855cbb",
   "metadata": {},
   "source": [
    "##### Escreva um script Python para adicionar uma chave a um dicionário."
   ]
  },
  {
   "cell_type": "code",
   "execution_count": 6,
   "id": "14d6990a-4778-4b0a-afac-27df82ac424c",
   "metadata": {},
   "outputs": [
    {
     "data": {
      "text/plain": [
       "{'nome': 'Luiz', 'idade': 26}"
      ]
     },
     "execution_count": 6,
     "metadata": {},
     "output_type": "execute_result"
    }
   ],
   "source": [
    "dicio_1 = {'nome': 'Luiz'}\n",
    "dicio_2 = {'idade': 26}\n",
    "\n",
    "{**dicio_1, **dicio_2}"
   ]
  },
  {
   "cell_type": "code",
   "execution_count": 7,
   "id": "daa9996f-9b8e-48c8-84a9-c057337db20a",
   "metadata": {
    "tags": []
   },
   "outputs": [
    {
     "data": {
      "text/plain": [
       "{'nome': 'Luiz', 'idade': 26}"
      ]
     },
     "execution_count": 7,
     "metadata": {},
     "output_type": "execute_result"
    }
   ],
   "source": [
    "dicio_1 = {'nome': 'Luiz'}\n",
    "dicio_2 = {'idade': 26}\n",
    "\n",
    "dicio_1.update(dicio_2)\n",
    "dicio_1"
   ]
  },
  {
   "cell_type": "code",
   "execution_count": 8,
   "id": "e174e2e4-5d74-4fe3-834d-90e102375054",
   "metadata": {
    "tags": []
   },
   "outputs": [
    {
     "data": {
      "text/plain": [
       "{'nome': 'Luiz', 'idade': 26}"
      ]
     },
     "execution_count": 8,
     "metadata": {},
     "output_type": "execute_result"
    }
   ],
   "source": [
    "dicio_1 = {'nome': 'Luiz'}\n",
    "dicio_2 = {'idade': 26}\n",
    "\n",
    "dict(dicio_1, **dicio_2)"
   ]
  },
  {
   "cell_type": "markdown",
   "id": "3507fa99-89ce-4ef0-b6b7-ca959d533253",
   "metadata": {
    "tags": []
   },
   "source": [
    "##### Escreva um script Python para concatenar os seguintes dicionários para criar um novo.\n",
    "\n",
    "Exemplo de dicionário:  \n",
    "dic1={1:10, 2:20}  \n",
    "dic2={3:30, 4:40}  \n",
    "dic3={5:50,6:60}  \n",
    "Resultado esperado: {1: 10, 2: 20, 3: 30, 4: 40, 5: 50, 6: 60}"
   ]
  },
  {
   "cell_type": "code",
   "execution_count": 9,
   "id": "afb4a870-a6a0-47d1-ae72-8e00aa63ec2f",
   "metadata": {},
   "outputs": [
    {
     "data": {
      "text/plain": [
       "{1: 10, 2: 20, 3: 30, 4: 40, 5: 50, 6: 60}"
      ]
     },
     "execution_count": 9,
     "metadata": {},
     "output_type": "execute_result"
    }
   ],
   "source": [
    "dic1={1:10, 2:20}\n",
    "dic2={3:30, 4:40}\n",
    "dic3={5:50,6:60}\n",
    "\n",
    "{**dic1, **dic2, **dic3}"
   ]
  },
  {
   "cell_type": "markdown",
   "id": "d9dbef8c-8d28-4e7d-8343-d9295fc0f5de",
   "metadata": {},
   "source": [
    "##### Escreva um script Python para verificar se uma determinada chave já existe em um dicionário."
   ]
  },
  {
   "cell_type": "code",
   "execution_count": 10,
   "id": "a94e79fb-9e08-4e0d-bbef-8a2b9d20b0bd",
   "metadata": {},
   "outputs": [
    {
     "data": {
      "text/plain": [
       "'tem'"
      ]
     },
     "execution_count": 10,
     "metadata": {},
     "output_type": "execute_result"
    }
   ],
   "source": [
    "dicio = {'A': 'tem', 'B': 'tem', 'C': 'tem'}\n",
    "dicio.get('A')"
   ]
  },
  {
   "cell_type": "code",
   "execution_count": 11,
   "id": "04fd6859-2003-4fba-a042-03bd47cc0c05",
   "metadata": {
    "tags": []
   },
   "outputs": [
    {
     "data": {
      "text/plain": [
       "'não tem'"
      ]
     },
     "execution_count": 11,
     "metadata": {},
     "output_type": "execute_result"
    }
   ],
   "source": [
    "dicio.get('D', 'não tem')"
   ]
  },
  {
   "cell_type": "markdown",
   "id": "08eafd5d-17d5-4490-8d82-846b081d541f",
   "metadata": {},
   "source": [
    "##### Escreva um script Python para gerar e imprimir um dicionário que contenha um número (entre 1 e n) na forma (x, x*x).\n",
    "Dicionário de amostra (n = 5):  \n",
    "Saída esperada: {1: 1, 2: 4, 3: 9, 4: 16, 5: 25}  "
   ]
  },
  {
   "cell_type": "code",
   "execution_count": 18,
   "id": "874da005-80e7-4f5e-b8eb-21371ba22a64",
   "metadata": {
    "tags": []
   },
   "outputs": [],
   "source": [
    "dicio_quadrado = lambda n: {k:k**2 for k in range(1,n)}"
   ]
  },
  {
   "cell_type": "code",
   "execution_count": 19,
   "id": "2c26fc05-0832-4cb4-a032-3022d6237dea",
   "metadata": {
    "tags": []
   },
   "outputs": [
    {
     "data": {
      "text/plain": [
       "{1: 1, 2: 4, 3: 9, 4: 16, 5: 25}"
      ]
     },
     "execution_count": 19,
     "metadata": {},
     "output_type": "execute_result"
    }
   ],
   "source": [
    "dicio_quadrado(6)"
   ]
  },
  {
   "cell_type": "markdown",
   "id": "1a1d7baa-0335-4dd9-9319-14161afd7e1b",
   "metadata": {},
   "source": [
    "##### Escreva um programa Python para remover uma chave de um dicionário."
   ]
  },
  {
   "cell_type": "code",
   "execution_count": 20,
   "id": "94cfe899-d66b-48a7-a403-330167cc3437",
   "metadata": {},
   "outputs": [],
   "source": [
    "dicio = {'A': 1, 'B': 2, 'C': 3, 'D': 4}"
   ]
  },
  {
   "cell_type": "code",
   "execution_count": 22,
   "id": "1ba638de-963a-4e99-8d90-ff7e3291d046",
   "metadata": {
    "tags": []
   },
   "outputs": [
    {
     "data": {
      "text/plain": [
       "1"
      ]
     },
     "execution_count": 22,
     "metadata": {},
     "output_type": "execute_result"
    }
   ],
   "source": [
    "dicio.pop('A')"
   ]
  },
  {
   "cell_type": "code",
   "execution_count": 23,
   "id": "8dbf04d5-6cb7-4250-86cd-c91c908e5d75",
   "metadata": {
    "tags": []
   },
   "outputs": [
    {
     "data": {
      "text/plain": [
       "{'B': 2, 'C': 3, 'D': 4}"
      ]
     },
     "execution_count": 23,
     "metadata": {},
     "output_type": "execute_result"
    }
   ],
   "source": [
    "dicio"
   ]
  },
  {
   "cell_type": "markdown",
   "id": "2ee32a01-dedb-490d-9a10-c96b1e9aae43",
   "metadata": {},
   "source": [
    "##### Escreva um programa Python para combinar dois dicionários adicionando valores para chaves comuns.\n",
    "d1 = {'a': 100, 'b': 200, 'c':300}  \n",
    "d2 = {'a': 300, 'b': 200, 'd':400}  \n",
    "Exemplo de saída: Counter({'a ': 400, 'b': 400, 'd': 400, 'c': 300})"
   ]
  },
  {
   "cell_type": "code",
   "execution_count": 24,
   "id": "0b2fdac0-3909-4da6-9c41-ea5b843add2f",
   "metadata": {
    "tags": []
   },
   "outputs": [],
   "source": [
    "d1 = {'a': 100, 'b': 200, 'c':300}\n",
    "d2 = {'a': 300, 'b': 200, 'd':400}"
   ]
  },
  {
   "cell_type": "code",
   "execution_count": 38,
   "id": "33f511c0-cbd3-4b98-bfc4-57a5d35d2e3e",
   "metadata": {
    "tags": []
   },
   "outputs": [],
   "source": [
    "keys = set(d1.keys()).union(set(d2.keys()))\n",
    "dicio = {}\n",
    "for key in keys:\n",
    "    dicio[key] = d1.get(key, 0) + d2.get(key, 0)"
   ]
  },
  {
   "cell_type": "code",
   "execution_count": 39,
   "id": "a1fa0c6d-bbaf-4e31-a77d-7eb6443148eb",
   "metadata": {
    "tags": []
   },
   "outputs": [
    {
     "data": {
      "text/plain": [
       "{'c': 300, 'd': 400, 'a': 400, 'b': 400}"
      ]
     },
     "execution_count": 39,
     "metadata": {},
     "output_type": "execute_result"
    }
   ],
   "source": [
    "dicio"
   ]
  },
  {
   "cell_type": "code",
   "execution_count": 41,
   "id": "5c29b5ab-9b40-44d9-b100-b71020fffa7f",
   "metadata": {
    "tags": []
   },
   "outputs": [
    {
     "name": "stdout",
     "output_type": "stream",
     "text": [
      "{'a': 400, 'b': 400, 'c': 300, 'd': 400}\n"
     ]
    }
   ],
   "source": [
    "from collections import Counter\n",
    "\n",
    "d1 = {'a': 100, 'b': 200, 'c': 300}\n",
    "d2 = {'a': 300, 'b': 200, 'd': 400}\n",
    "\n",
    "# Combina os dicionários usando a classe Counter\n",
    "resultado = Counter(d1) + Counter(d2)\n",
    "\n",
    "print(dict(resultado))"
   ]
  },
  {
   "cell_type": "markdown",
   "id": "5540e98d-a5f6-4707-8afd-f46e919e9009",
   "metadata": {},
   "source": [
    "##### Escreva um programa Python para imprimir todos os valores distintos em um dicionário.\n",
    "Dados de amostra: [{\"V\":\"S001\"}, {\"V\": \"S002\"}, {\"VI\": \"S001\"}, {\"VI\": \"S005\"}, {\"VII\":\" S005\"}, {\"V\":\"S009\"},{\"VIII\":\"S007\"}] Saída\n",
    "esperada: Valores exclusivos: {'S005', 'S002', 'S007', 'S001', 'S009' }"
   ]
  },
  {
   "cell_type": "code",
   "execution_count": null,
   "id": "bd543418-4bb1-48ac-9f77-9bde59de04b6",
   "metadata": {},
   "outputs": [],
   "source": []
  },
  {
   "cell_type": "markdown",
   "id": "7b86b77d-f321-46fb-9d5e-2e3d95c4acf9",
   "metadata": {},
   "source": [
    "##### Escreva um programa Python para criar e exibir todas as combinações de letras, selecionando cada letra de uma chave diferente em um dicionário.\n",
    "Dados de amostra: {'1':['a','b'], '2':['c','d']} Saída esperada: ac ad bc bd"
   ]
  },
  {
   "cell_type": "code",
   "execution_count": null,
   "id": "e9c79e96-f2fe-423e-a16b-96c50d5732fa",
   "metadata": {},
   "outputs": [],
   "source": []
  },
  {
   "cell_type": "markdown",
   "id": "cb3cb554-438e-4e2a-baea-5da4e3914171",
   "metadata": {},
   "source": [
    "#####  Escreva um programa Python para encontrar a chave do valor máximo em um dicionário.\n",
    "Saída de amostra:  \n",
    "Elementos do dicionário original:  \n",
    "{'Theodore': 19, 'Roxanne': 22, 'Mathew': 21, 'Betty': 20}  \n",
    "Encontra a chave do valor máximo e mínimo do referido dicionário:  \n",
    "('Roxanne' , 'Theodore')  "
   ]
  },
  {
   "cell_type": "code",
   "execution_count": 21,
   "id": "93385bc6-87ec-4dd4-b828-369e04625aef",
   "metadata": {},
   "outputs": [
    {
     "data": {
      "text/plain": [
       "'Theodore'"
      ]
     },
     "execution_count": 21,
     "metadata": {},
     "output_type": "execute_result"
    }
   ],
   "source": [
    "dicionario = {'Theodore': 19, 'Roxanne': 22, 'Mathew': 21, 'Betty': 20}\n",
    "max(dicionario, key=dicionario.get)\n",
    "min(dicionario, key=dicionario.get)"
   ]
  },
  {
   "cell_type": "markdown",
   "id": "90a6e177-f9f6-4595-b492-fefac0102b52",
   "metadata": {},
   "source": [
    "##### Escreva um programa Python para transformar um dicionário em uma lista de tuplas.\n",
    "Exemplo de Saída:  \n",
    "Dicionário Original:  \n",
    "{'Vermelho': 1, 'Verde': 3, 'Branco': 5, 'Preto': 2, 'Rosa': 4} Converter  \n",
    "o dito dicionário em uma lista de tuplas:  \n",
    "[(' Red', 1), ('Green', 3), ('White', 5), ('Black', 2), ('Pink', 4)]  "
   ]
  },
  {
   "cell_type": "code",
   "execution_count": 23,
   "id": "0a455edc-9f79-4755-b6d5-b4db07cd738e",
   "metadata": {},
   "outputs": [
    {
     "data": {
      "text/plain": [
       "[('Vermelho', 1), ('Verde', 3), ('Branco', 5), ('Preto', 2), ('Rosa', 4)]"
      ]
     },
     "execution_count": 23,
     "metadata": {},
     "output_type": "execute_result"
    }
   ],
   "source": [
    "dicionario = {'Vermelho': 1, 'Verde': 3, 'Branco': 5, 'Preto': 2, 'Rosa': 4}\n",
    "[(x, y) for x, y in dicionario.items()]"
   ]
  },
  {
   "cell_type": "markdown",
   "id": "8720d39c-08e1-49b6-b9db-710d5508c188",
   "metadata": {},
   "source": [
    "##### Escreva um programa Python para combinar duas listas em um dicionário. Os elementos do primeiro servem como chaves e os elementos do segundo servem como valores. Cada item na primeira lista deve ser exclusivo e passível de hash.\n",
    "Saída de amostra:  \n",
    "Listas originais:  \n",
    "['a', 'b', 'c', 'd', 'e', ​​'f']  \n",
    "[1, 2, 3, 4, 5]  \n",
    "Combine os valores das duas listas mencionadas em um dicionário:  \n",
    "{'a': 1, 'b': 2, 'c': 3, 'd': 4, 'e': 5}   \n"
   ]
  },
  {
   "cell_type": "code",
   "execution_count": 24,
   "id": "46a2baff-6595-4938-aa27-e248f2fa1e6b",
   "metadata": {},
   "outputs": [
    {
     "data": {
      "text/plain": [
       "{'a': 1, 'b': 2, 'c': 3, 'd': 4, 'e': 5}"
      ]
     },
     "execution_count": 24,
     "metadata": {},
     "output_type": "execute_result"
    }
   ],
   "source": [
    "chaves = ['a', 'b', 'c', 'd', 'e', 'f']\n",
    "valores = [1, 2, 3, 4, 5]\n",
    "{k: v for k, v in zip(chaves, valores)}"
   ]
  },
  {
   "cell_type": "markdown",
   "id": "2ae9ec54-b2df-4225-8609-0ae3deb4c6c9",
   "metadata": {},
   "source": [
    "##### Escreva um programa Python para inverter um dicionário com valores únicos de hash.\n",
    "Saída de amostra:  \n",
    "{10: 'Theodore', 11: 'Mathew', 9: 'Roxanne'}  "
   ]
  },
  {
   "cell_type": "code",
   "execution_count": 25,
   "id": "545c1c7b-2e3c-472e-ac81-1716de89685c",
   "metadata": {},
   "outputs": [
    {
     "data": {
      "text/plain": [
       "{10: 'Theodore', 11: 'Mathew', 9: 'Roxanne'}"
      ]
     },
     "execution_count": 25,
     "metadata": {},
     "output_type": "execute_result"
    }
   ],
   "source": [
    "dicionario = {'Theodore': 10, 'Mathew': 11, 'Roxanne': 9}\n",
    "{v: k for k, v in dicionario.items()}"
   ]
  },
  {
   "cell_type": "markdown",
   "id": "d521c0da-f681-4f85-ad13-b96d32cd77e4",
   "metadata": {},
   "source": [
    "##### Escreva um programa Python para combinar dois ou mais dicionários, criando uma lista de valores para cada chave.\n",
    "Exemplo de saída:  \n",
    "dicionários originais:  \n",
    "{'w': 50, 'x': 100, 'y': 'Green', 'z': 400} {'x': 300, 'y': 'Red', 'z ': 600}  \n",
    "Dicionários combinados, criando uma lista de valores para cada chave:  \n",
    "{'w': [50], 'x': [100, 300], 'y': ['Green', 'Red'], ' z': [400, 600]}  "
   ]
  },
  {
   "cell_type": "code",
   "execution_count": null,
   "id": "02972fe6-356b-46ae-87f9-aebd6a64dfe5",
   "metadata": {},
   "outputs": [],
   "source": []
  },
  {
   "cell_type": "markdown",
   "id": "d05c438e-4177-43e8-8c99-91cca3865a02",
   "metadata": {},
   "source": [
    "##### Escreva um programa em Python que crie pares de lista de valores-chave em um dicionário.\n",
    "Dicionário original:  \n",
    "{1: ['Jean Castro'], 2: ['Lula Powell'], 3: ['Brian Howell'], 4: ['Lynne Foster'], 5: ['Zachary Simon']}  \n",
    "A pares de lista de valor-chave do referido dicionário:  \n",
    "[{1: 'Jean Castro', 2: 'Lula Powell', 3: 'Brian Howell', 4: 'Lynne Foster', 5: 'Zachary Simon'}]  "
   ]
  },
  {
   "cell_type": "code",
   "execution_count": null,
   "id": "2db312b1-9fc4-49f9-9463-b64ff12e2dd8",
   "metadata": {},
   "outputs": [],
   "source": []
  },
  {
   "cell_type": "markdown",
   "id": "b1888ca4-f84c-417e-9f66-611ec7153985",
   "metadata": {},
   "source": [
    "##### Escreva um programa Python para converter uma determinada lista de listas em um dicionário.\n",
    "Lista original de listas:  \n",
    "[[1, 'Jean Castro', 'V'], [2, 'Lula Powell', 'V'], [3, 'Brian Howell', 'VI'], [4, 'Lynne Foster', 'VI'], [5, 'Zachary Simon', 'VII']]  \n",
    "Converta a referida lista de listas para um dicionário:  \n",
    "{1: ['Jean Castro', 'V'], 2: ['Lula Powell', 'V'], 3: ['Brian Howell', 'VI'], 4: ['Lynne Foster', 'VI'], 5: ['Zachary Simon', 'VII']}  "
   ]
  },
  {
   "cell_type": "code",
   "execution_count": 31,
   "id": "05553dfe-a35b-45a1-92bd-842d780bd1f3",
   "metadata": {},
   "outputs": [
    {
     "data": {
      "text/plain": [
       "{1: ['Jean Castro', 'V'],\n",
       " 2: ['Lula Powell', 'V'],\n",
       " 3: ['Brian Howell', 'VI'],\n",
       " 4: ['Lynne Foster', 'VI'],\n",
       " 5: ['Zachary Simon', 'VII']}"
      ]
     },
     "execution_count": 31,
     "metadata": {},
     "output_type": "execute_result"
    }
   ],
   "source": [
    "list_ = [\n",
    "    [1, 'Jean Castro', 'V'],\n",
    "    [2, 'Lula Powell', 'V'], \n",
    "    [3, 'Brian Howell', 'VI'],\n",
    "    [4, 'Lynne Foster', 'VI'], \n",
    "    [5, 'Zachary Simon', 'VII']\n",
    "]\n",
    "\n",
    "{k: v for k, *v in list_}"
   ]
  },
  {
   "cell_type": "markdown",
   "id": "9b6169d8-6ce1-474d-b28d-9eb2ef9efa48",
   "metadata": {},
   "source": [
    "##### Escreva um programa em Python para contar a frequência de um dicionário.\n",
    "Dicionário Original:  \n",
    "{'V': 10, 'VI': 10, 'VII': 40, 'VIII': 20, 'IX': 70, 'X': 80, 'XI': 40, 'XII': 20}  \n",
    "Conte a frequência do referido dicionário:  \n",
    "Counter({10: 2, 40: 2, 20: 2, 70: 1, 80: 1})  "
   ]
  },
  {
   "cell_type": "code",
   "execution_count": null,
   "id": "927493c6-7c65-4cf1-bdd8-aa5f4c531783",
   "metadata": {},
   "outputs": [],
   "source": []
  },
  {
   "cell_type": "markdown",
   "id": "89f2fa7f-031a-4726-bb40-8f8c1147971e",
   "metadata": {},
   "source": [
    "##### Escreva um programa Python para encontrar o número especificado de valores máximos em um determinado dicionário.\n",
    "Dicionário Original:  \n",
    "{'a': 5, 'b': 14, 'c': 32, 'd': 35, 'e': 24, 'f': 100, 'g': 57, 'h': 8, 'i': 100}  \n",
    "1 valor(es) máximo(s) no referido dicionário:  \n",
    "['f']  \n",
    "2 valor(es) máximo(s) no referido dicionário:  \n",
    "['f', 'i']  \n",
    "5 valor(es) máximo(s) no referido dicionário:  \n",
    "['f', 'i', 'g', 'd', 'c']  "
   ]
  },
  {
   "cell_type": "code",
   "execution_count": 13,
   "id": "3169995c-1d16-47e0-9975-46b4d0306c4a",
   "metadata": {},
   "outputs": [
    {
     "data": {
      "text/plain": [
       "[('f', 100), ('i', 100), ('g', 57), ('d', 35), ('c', 32)]"
      ]
     },
     "execution_count": 17,
     "metadata": {},
     "output_type": "execute_result"
    }
   ],
   "source": [
    "dicionario = {'a': 5, 'b': 14, 'c': 32, 'd': 35, 'e': 24, 'f': 100, 'g': 57, 'h': 8, 'i': 100}\n",
    "n = 5\n",
    "list(dict(sorted(dicionario.items(), key=lambda x: x[1], reverse=True)).keys())[:n]"
   ]
  },
  {
   "cell_type": "code",
   "execution_count": 18,
   "id": "f259f2ec-0af8-4935-a390-43ed2ddb8e34",
   "metadata": {
    "tags": []
   },
   "outputs": [
    {
     "data": {
      "text/plain": [
       "['f', 'i', 'g', 'd', 'c', 'e', 'b', 'h', 'a']"
      ]
     },
     "execution_count": 18,
     "metadata": {},
     "output_type": "execute_result"
    }
   ],
   "source": [
    "chaves_ordenadas = sorted(dicionario, key=dicionario.get, reverse=True)\n",
    "chaves_ordenadas"
   ]
  },
  {
   "cell_type": "markdown",
   "id": "c125ebcb-2ab4-4c28-a628-77345c4f84b3",
   "metadata": {},
   "source": [
    "##### Escreva um programa Python para filtrar um dicionário baseado em valores.\n",
    "Dicionário Original:  \n",
    "{'Cierra Vega': 175, 'Alden Cantrell': 180, 'Kierra Gentry': 165, 'Pierre Cox': 190} Notas  \n",
    "superiores a 170:   \n",
    "{'Cierra Vega': 175, 'Alden Cantrell': 180, 'Pierre Cox': 190}  "
   ]
  },
  {
   "cell_type": "code",
   "execution_count": 1,
   "id": "208a438d-819f-45fe-b3e6-684395db1f52",
   "metadata": {},
   "outputs": [
    {
     "data": {
      "text/plain": [
       "{'Cierra Vega': 175, 'Alden Cantrell': 180, 'Pierre Cox': 190}"
      ]
     },
     "execution_count": 1,
     "metadata": {},
     "output_type": "execute_result"
    }
   ],
   "source": [
    "# usando filter\n",
    "dicionario = {'Cierra Vega': 175, 'Alden Cantrell': 180, 'Kierra Gentry': 165, 'Pierre Cox': 190}\n",
    "dict(filter(lambda x: x[1] > 170, dicionario.items()))"
   ]
  },
  {
   "cell_type": "markdown",
   "id": "f6b7fb9b-a395-441d-a3de-cbf8db8906f7",
   "metadata": {},
   "source": [
    "##### Escreva um programa Python para criar e exibir todas as combinações de letras, selecionando cada letra de uma chave diferente em um dicionário.\n",
    "Dados de amostra: {'1':['a','b'], '2':['c','d']} Saída esperada: ac ad bc bd  "
   ]
  },
  {
   "cell_type": "code",
   "execution_count": null,
   "id": "7a43fd2f-02eb-480e-a871-ba3b0b95b9c4",
   "metadata": {},
   "outputs": [],
   "source": []
  }
 ],
 "metadata": {
  "kernelspec": {
   "display_name": "Python 3 (ipykernel)",
   "language": "python",
   "name": "python3"
  },
  "language_info": {
   "codemirror_mode": {
    "name": "ipython",
    "version": 3
   },
   "file_extension": ".py",
   "mimetype": "text/x-python",
   "name": "python",
   "nbconvert_exporter": "python",
   "pygments_lexer": "ipython3",
   "version": "3.9.0"
  }
 },
 "nbformat": 4,
 "nbformat_minor": 5
}
