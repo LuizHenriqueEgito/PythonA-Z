{
 "cells": [
  {
   "cell_type": "markdown",
   "id": "34fe4aeb-f247-4321-9bd5-1f0d1501f75a",
   "metadata": {},
   "source": [
    "# Exercicios"
   ]
  },
  {
   "cell_type": "markdown",
   "id": "de11d323-b276-44b6-b314-abffc7b23d71",
   "metadata": {},
   "source": [
    "##### Escreva um programa Python para calcular a soma de todos os elementos de cada tupla armazenada em uma lista de tuplas.\n",
    "Lista original de tuplas:  \n",
    "[(1, 2), (2, 3), (3, 4)]  \n",
    "Soma de todos os elementos de cada tupla armazenados dentro da referida lista de tuplas:  \n",
    "[3, 5, 7]  \n",
    "Lista original de tuplas:  \n",
    "[(1, 2, 6), (2, 3, -6), (3, 4), (2, 2, 2, 2)]  \n",
    "Soma de todos os elementos de cada tupla armazenados dentro da referida lista de tuplas:  \n",
    "[9, -1, 7, 8]  "
   ]
  },
  {
   "cell_type": "code",
   "execution_count": 1,
   "id": "28afb1ae-b39e-46a4-aba4-8b039ce4702a",
   "metadata": {},
   "outputs": [
    {
     "data": {
      "text/plain": [
       "[2, 4, 6]"
      ]
     },
     "execution_count": 1,
     "metadata": {},
     "output_type": "execute_result"
    }
   ],
   "source": [
    "list_tuples = [(1,1), (2,2), (3,3)]\n",
    "[sum(tuple_) for tuple_ in list_tuples]"
   ]
  },
  {
   "cell_type": "markdown",
   "id": "0e59df6b-34ff-4129-a906-add352366731",
   "metadata": {},
   "source": [
    "##### Escreva um programa Python para converter uma determinada lista de tuplas em uma lista de listas.\n",
    "Lista original de tuplas: [(1, 2), (2, 3), (3, 4)]  \n",
    "Converter a referida lista de tuplas em uma lista de listas: [[1, 2], [2, 3], [ 3, 4]]  \n",
    "Lista original de tuplas: [(1, 2), (2, 3, 5), (3, 4), (2, 3, 4, 2)] Converter a referida lista  \n",
    "de tuplas em uma lista de listas: [[1, 2], [2, 3, 5], [3, 4], [2, 3, 4, 2]]  "
   ]
  },
  {
   "cell_type": "code",
   "execution_count": 2,
   "id": "2e26899b-28f6-4d5c-b4af-6aa1b320f648",
   "metadata": {},
   "outputs": [
    {
     "data": {
      "text/plain": [
       "[[1, 2], [2, 3], [3, 4]]"
      ]
     },
     "execution_count": 2,
     "metadata": {},
     "output_type": "execute_result"
    }
   ],
   "source": [
    "list_tuples = [(1, 2), (2, 3), (3, 4)]\n",
    "[list(tuple_) for tuple_ in list_tuples]"
   ]
  },
  {
   "cell_type": "markdown",
   "id": "1a9b8e67-5ad0-4d1f-80e2-e7275d3303bd",
   "metadata": {},
   "source": [
    "##### Escreva um programa Python para calcular a soma elementar de determinadas tuplas.\n",
    "Listas originais:  \n",
    "(1, 2, 3, 4)  \n",
    "(3, 5, 2, 1)  \n",
    "(2, 2, 3, 1)  \n",
    "Soma elementar das referidas tuplas:  \n",
    "(6, 9, 8, 6)  "
   ]
  },
  {
   "cell_type": "code",
   "execution_count": 3,
   "id": "88dfc74b-21d0-441e-86f5-ed3c5477df39",
   "metadata": {},
   "outputs": [
    {
     "data": {
      "text/plain": [
       "(6, 9, 8, 6)"
      ]
     },
     "execution_count": 3,
     "metadata": {},
     "output_type": "execute_result"
    }
   ],
   "source": [
    "tuple_1 = (1,2,3,4)\n",
    "tuple_2 = (3,5,2,1)\n",
    "tuple_3 = (2,2,3,1)\n",
    "\n",
    "tuple(map(sum, zip(tuple_1, tuple_2, tuple_3)))\n",
    "# sum faz a soma de cada elemento"
   ]
  },
  {
   "cell_type": "markdown",
   "id": "2d2e34e0-2620-4cd5-84cf-09d5d364a945",
   "metadata": {},
   "source": [
    "##### Escreva um programa Python para converter uma dada tupla de inteiros positivos em um inteiro.\n",
    "Tupla original:  \n",
    "(1, 2, 3)  \n",
    "Converter a dita tupla de inteiros positivos em um inteiro:  \n",
    "123  \n",
    "Tupla original:  \n",
    "(10, 20, 40, 5, 70)  \n",
    "Converter a dita tupla de inteiros positivos em um inteiro:  \n",
    "102040570  "
   ]
  },
  {
   "cell_type": "code",
   "execution_count": 17,
   "id": "da314179-46c3-43e2-b632-9468aa7ac748",
   "metadata": {},
   "outputs": [
    {
     "data": {
      "text/plain": [
       "123"
      ]
     },
     "execution_count": 17,
     "metadata": {},
     "output_type": "execute_result"
    }
   ],
   "source": [
    "def make_int(tuple_: Tuple[int]):\n",
    "    tuple_str = tuple(str(x) for x in tuple_)\n",
    "    value_str = ''.join(tuple_str)\n",
    "    return int(value_str)\n",
    "make_int((1, 2, 3))"
   ]
  },
  {
   "cell_type": "code",
   "execution_count": 22,
   "id": "25bdf886-3d16-4635-9dd7-60831208d408",
   "metadata": {
    "tags": []
   },
   "outputs": [
    {
     "data": {
      "text/plain": [
       "102040570"
      ]
     },
     "execution_count": 22,
     "metadata": {},
     "output_type": "execute_result"
    }
   ],
   "source": [
    "make_int((10, 20, 40, 5, 70))"
   ]
  },
  {
   "cell_type": "code",
   "execution_count": 21,
   "id": "bc5cf334-cf7d-4f15-b482-9d81c79703f1",
   "metadata": {
    "tags": []
   },
   "outputs": [],
   "source": [
    "def make_int(tuple_: Tuple[int]) -> int:\n",
    "    value_str = ''.join(map(str, tuple_))\n",
    "    return int(value_str)"
   ]
  },
  {
   "cell_type": "markdown",
   "id": "2e32034e-76d7-4748-9ba6-e31b6eb0bfd4",
   "metadata": {},
   "source": [
    "##### Escreva um programa Python para contar os elementos em uma lista até que um elemento seja uma tupla."
   ]
  },
  {
   "cell_type": "code",
   "execution_count": 9,
   "id": "95c8e614-ffc1-4d19-8640-1523a7f1aa4b",
   "metadata": {},
   "outputs": [],
   "source": [
    "from typing import Tuple, Any, List\n",
    "\n",
    "def stop_when_tuple(tuple_: List[Any]):\n",
    "    for elemento in tuple_:\n",
    "        if isinstance(elemento, tuple):\n",
    "            print(f'element: {elemento} is a tuple!')\n",
    "            break\n",
    "        print(f'element: {elemento} is not a tuple!')"
   ]
  },
  {
   "cell_type": "code",
   "execution_count": 10,
   "id": "c70ecc07-40a0-4c3e-b5fc-a0629a5e6ec1",
   "metadata": {
    "tags": []
   },
   "outputs": [
    {
     "name": "stdout",
     "output_type": "stream",
     "text": [
      "element: 1 is not a tuple!\n",
      "element: 2 is not a tuple!\n",
      "element: 3 is not a tuple!\n",
      "element: (1, 2, 3) is a tuple!\n"
     ]
    }
   ],
   "source": [
    "stop_tuple([1,2,3, (1,2,3), 4])"
   ]
  },
  {
   "cell_type": "markdown",
   "id": "1ded685f-dcab-40f1-ac8f-67d2fad9d99b",
   "metadata": {},
   "source": [
    "##### Escreva um programa Python para converter uma lista de tuplas em um dicionário."
   ]
  },
  {
   "cell_type": "code",
   "execution_count": 11,
   "id": "2fd98ed0-3e7b-4355-9ce4-55807ca0a811",
   "metadata": {},
   "outputs": [
    {
     "data": {
      "text/plain": [
       "{1: 1, 2: 4, 3: 9}"
      ]
     },
     "execution_count": 11,
     "metadata": {},
     "output_type": "execute_result"
    }
   ],
   "source": [
    "list_tuples = [(1,1), (2,4), (3,9)]\n",
    "{k:v for k, v in list_tuples}"
   ]
  },
  {
   "cell_type": "markdown",
   "id": "5e59c455-2843-4f3d-8f4c-48a6a72d853d",
   "metadata": {},
   "source": []
  }
 ],
 "metadata": {
  "kernelspec": {
   "display_name": "Python 3 (ipykernel)",
   "language": "python",
   "name": "python3"
  },
  "language_info": {
   "codemirror_mode": {
    "name": "ipython",
    "version": 3
   },
   "file_extension": ".py",
   "mimetype": "text/x-python",
   "name": "python",
   "nbconvert_exporter": "python",
   "pygments_lexer": "ipython3",
   "version": "3.9.0"
  }
 },
 "nbformat": 4,
 "nbformat_minor": 5
}
