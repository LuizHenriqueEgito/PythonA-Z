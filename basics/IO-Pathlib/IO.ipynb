{
 "cells": [
  {
   "cell_type": "markdown",
   "id": "71b352c6-aee8-46bb-83d2-d0ca500b975a",
   "metadata": {},
   "source": [
    "# Exercicios"
   ]
  },
  {
   "cell_type": "code",
   "execution_count": 6,
   "id": "3887ccdc-71b5-482e-ac7f-822fde55aa85",
   "metadata": {
    "tags": []
   },
   "outputs": [],
   "source": [
    "from pathlib import Path\n",
    "import os"
   ]
  },
  {
   "cell_type": "markdown",
   "id": "c09e62cb-24da-4d21-943f-3c50b7336209",
   "metadata": {},
   "source": [
    "##### Escreva um programa Python para ler um arquivo de texto inteiro."
   ]
  },
  {
   "cell_type": "code",
   "execution_count": 13,
   "id": "ae45985e-3ead-44e2-b6de-d209247ce14e",
   "metadata": {},
   "outputs": [
    {
     "name": "stdout",
     "output_type": "stream",
     "text": [
      "Esse é um arquivo de texto.\n",
      "que irei ler.\n"
     ]
    }
   ],
   "source": [
    "# usando pathlib\n",
    "print(Path('arquivo_texto.txt').read_text(encoding='utf-8'))"
   ]
  },
  {
   "cell_type": "code",
   "execution_count": 12,
   "id": "20e93fd6-5a01-4204-960d-3dc1836c9d69",
   "metadata": {
    "tags": []
   },
   "outputs": [
    {
     "name": "stdout",
     "output_type": "stream",
     "text": [
      "Esse é um arquivo de texto.\n",
      "que irei ler.\n"
     ]
    }
   ],
   "source": [
    "with open('arquivo_texto.txt', 'r', encoding='utf-8') as file:\n",
    "    print(file.read())"
   ]
  },
  {
   "cell_type": "markdown",
   "id": "33532fed-ad62-4e30-945b-52d6a00dbf42",
   "metadata": {},
   "source": [
    "##### Escreva um programa Python para ler as primeiras n linhas de um arquivo."
   ]
  },
  {
   "cell_type": "code",
   "execution_count": 19,
   "id": "35411930-b608-4ef9-9877-639ba463ac29",
   "metadata": {},
   "outputs": [
    {
     "name": "stdout",
     "output_type": "stream",
     "text": [
      "Esse é um arquivo de texto.\n",
      "\n"
     ]
    }
   ],
   "source": [
    "with open('arquivo_texto.txt', 'r', encoding='utf-8') as file:\n",
    "    print(file.readline())"
   ]
  },
  {
   "cell_type": "markdown",
   "id": "fe3d582b-c21e-413d-a5ca-e5f9e3519474",
   "metadata": {
    "tags": []
   },
   "source": [
    "##### Escreva um programa Python para copiar o conteúdo de um arquivo para outro arquivo."
   ]
  },
  {
   "cell_type": "code",
   "execution_count": 24,
   "id": "f8e6b120-d4cb-43d7-81cb-8f43ef7895f4",
   "metadata": {
    "tags": []
   },
   "outputs": [],
   "source": [
    "import shutil"
   ]
  },
  {
   "cell_type": "code",
   "execution_count": 26,
   "id": "3446ea88-2174-4be2-bcde-9257f70f339e",
   "metadata": {},
   "outputs": [],
   "source": [
    "pasta_copia = Path(\"pasta_que_sera_copiada/\")\n",
    "pasta = Path(\"onde_sera_colocada\")"
   ]
  },
  {
   "cell_type": "code",
   "execution_count": 30,
   "id": "da395021-072a-4ed5-90fd-4adec86e8954",
   "metadata": {
    "tags": []
   },
   "outputs": [],
   "source": [
    "if pasta.exists():\n",
    "    pasta_destino = pasta.with_name(pasta.name + \"_copia\")"
   ]
  },
  {
   "cell_type": "code",
   "execution_count": 31,
   "id": "c3af2e5b-6c86-4b06-93d6-11e5a7adabe4",
   "metadata": {
    "tags": []
   },
   "outputs": [
    {
     "data": {
      "text/plain": [
       "WindowsPath('onde_sera_colocada_copia')"
      ]
     },
     "execution_count": 31,
     "metadata": {},
     "output_type": "execute_result"
    }
   ],
   "source": [
    "shutil.copytree(pasta_copia, pasta_destino)"
   ]
  },
  {
   "cell_type": "markdown",
   "id": "22739c1f-f6e0-426f-9da6-308f656b99a5",
   "metadata": {},
   "source": [
    "##### Escreva um programa para criar uma pasta inexistente."
   ]
  },
  {
   "cell_type": "code",
   "execution_count": 23,
   "id": "568a2290-9c70-43fb-a66a-f25d4ab0e16f",
   "metadata": {},
   "outputs": [
    {
     "name": "stdout",
     "output_type": "stream",
     "text": [
      "pasta criada\n"
     ]
    }
   ],
   "source": [
    "pasta_nova = Path('pasta_nova')\n",
    "if not pasta_nova.exists():\n",
    "    pasta_nova.mkdir()\n",
    "    print('pasta criada')"
   ]
  },
  {
   "cell_type": "code",
   "execution_count": null,
   "id": "34ac3cdf-74e4-43ba-8da9-ae38a4891e56",
   "metadata": {},
   "outputs": [],
   "source": []
  }
 ],
 "metadata": {
  "kernelspec": {
   "display_name": "Python 3 (ipykernel)",
   "language": "python",
   "name": "python3"
  },
  "language_info": {
   "codemirror_mode": {
    "name": "ipython",
    "version": 3
   },
   "file_extension": ".py",
   "mimetype": "text/x-python",
   "name": "python",
   "nbconvert_exporter": "python",
   "pygments_lexer": "ipython3",
   "version": "3.9.0"
  }
 },
 "nbformat": 4,
 "nbformat_minor": 5
}
