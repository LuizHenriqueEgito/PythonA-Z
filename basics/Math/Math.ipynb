{
 "cells": [
  {
   "cell_type": "markdown",
   "id": "b07797c4-b177-4799-91cb-366d5a397733",
   "metadata": {},
   "source": [
    "# Exercicios"
   ]
  },
  {
   "cell_type": "markdown",
   "id": "6da9fb96-4d92-4ffc-a6ef-d6b5a7b0638c",
   "metadata": {
    "tags": []
   },
   "source": [
    "##### Faça um programa para calcular o mmc de um numero."
   ]
  },
  {
   "cell_type": "code",
   "execution_count": null,
   "id": "be73fb30-6ae4-4202-929d-3ac9f341e8e4",
   "metadata": {},
   "outputs": [],
   "source": []
  },
  {
   "cell_type": "markdown",
   "id": "ca38c557-9d38-4442-be8d-1080af4e2178",
   "metadata": {},
   "source": [
    "##### Faça um programa para calcular a distancia entre dois pontos."
   ]
  },
  {
   "cell_type": "code",
   "execution_count": 27,
   "id": "77096e6b-789c-4f51-bbfc-ebf701a11bc9",
   "metadata": {},
   "outputs": [],
   "source": [
    "import math\n",
    "from typing import Tuple\n",
    "\n",
    "dot_A = (1, 1)\n",
    "dot_B = (3, 3)\n",
    "\n",
    "def distance_between_two_points(dot_A: Tuple[float, float], dot_B: Tuple[float, float]) -> float:\n",
    "    distance_AB = math.sqrt(\n",
    "        (dot_A[0] - dot_B[0]) ** 2 + (dot_A[1] - dot_B[1]) ** 2\n",
    "    )\n",
    "    return round(distance_AB, 4)"
   ]
  },
  {
   "cell_type": "code",
   "execution_count": 28,
   "id": "d05fee1b-58f7-41a6-852b-2d2eee2af006",
   "metadata": {},
   "outputs": [
    {
     "data": {
      "text/plain": [
       "2.8284"
      ]
     },
     "execution_count": 28,
     "metadata": {},
     "output_type": "execute_result"
    }
   ],
   "source": [
    "distance_between_two_points(dot_A, dot_B)"
   ]
  },
  {
   "cell_type": "markdown",
   "id": "2ae2547e-0bfa-41df-94f5-f9f58f83debe",
   "metadata": {},
   "source": [
    "##### Faça um programa para calcular todas as raizes de uma função quadrada Reais e Imaginarios."
   ]
  },
  {
   "cell_type": "code",
   "execution_count": null,
   "id": "e5f6358c-857a-4975-8c26-85ac34754635",
   "metadata": {},
   "outputs": [],
   "source": []
  },
  {
   "cell_type": "markdown",
   "id": "bcb95ce2-a062-4a32-b557-4538da03d745",
   "metadata": {},
   "source": [
    "##### Faça um programa para calcular a distancia de um ponto até uma reta."
   ]
  },
  {
   "cell_type": "code",
   "execution_count": null,
   "id": "23b0143c-41dc-42be-b15e-2d29768efcc8",
   "metadata": {},
   "outputs": [],
   "source": []
  },
  {
   "cell_type": "markdown",
   "id": "6ef887bf-9b79-4b5e-aed7-4b2e69271a69",
   "metadata": {},
   "source": [
    "##### Faça um programa para calcular o fatorial de um numero."
   ]
  },
  {
   "cell_type": "code",
   "execution_count": 30,
   "id": "10df07dd-7b2e-4287-b374-84a51826eb4f",
   "metadata": {},
   "outputs": [],
   "source": [
    "from functools import reduce\n",
    "from operator import mul\n",
    "\n",
    "def fac(number: int):\n",
    "    return reduce(mul, range(1, number + 1))"
   ]
  },
  {
   "cell_type": "code",
   "execution_count": 34,
   "id": "7363af23-67c6-44d7-8f5e-982e01cc53cd",
   "metadata": {},
   "outputs": [
    {
     "data": {
      "text/plain": [
       "24"
      ]
     },
     "execution_count": 34,
     "metadata": {},
     "output_type": "execute_result"
    }
   ],
   "source": [
    "fac(number=4)"
   ]
  },
  {
   "cell_type": "markdown",
   "id": "c8b1668f-3b34-4c6c-8c14-c14c30aac65f",
   "metadata": {},
   "source": [
    "##### Faça um programa para calcular o juros compostos de um montante que rende 1% a.m."
   ]
  },
  {
   "cell_type": "code",
   "execution_count": null,
   "id": "d6ea8970-761a-4174-b2ca-7184d396d076",
   "metadata": {},
   "outputs": [],
   "source": []
  },
  {
   "cell_type": "markdown",
   "id": "3787199a-8d7e-4101-bee1-c6fc5509e8eb",
   "metadata": {},
   "source": [
    "##### Faça um programa que calcule a distancia entre duas retas."
   ]
  },
  {
   "cell_type": "code",
   "execution_count": null,
   "id": "ed5d8850-f393-41f2-bb1a-e539aefa30b4",
   "metadata": {},
   "outputs": [],
   "source": []
  },
  {
   "cell_type": "markdown",
   "id": "a3ed2be6-3614-4dd3-95b3-01076e060e3a",
   "metadata": {},
   "source": [
    "##### Faça um programa que calcula a multiplicação entre duas matrizes."
   ]
  },
  {
   "cell_type": "code",
   "execution_count": null,
   "id": "2c58996a-0464-4666-a165-27199d9063a2",
   "metadata": {},
   "outputs": [],
   "source": []
  },
  {
   "cell_type": "markdown",
   "id": "c005c232-4c6a-472c-b2ba-a49cd43b173f",
   "metadata": {},
   "source": [
    "##### Faça um progrmaa que calcule o somatorio de uma P.A."
   ]
  },
  {
   "cell_type": "code",
   "execution_count": null,
   "id": "36c537ab-7e4f-4038-affd-655bd76b3019",
   "metadata": {},
   "outputs": [],
   "source": []
  },
  {
   "cell_type": "markdown",
   "id": "bb74d47c-d23e-4e79-bd36-8a26e1efa466",
   "metadata": {},
   "source": [
    "##### Faça um progrmaa que calcule o somatorio de uma P.G."
   ]
  },
  {
   "cell_type": "code",
   "execution_count": null,
   "id": "b3e97e83-2859-4ed9-878e-8cfc1f43ad0a",
   "metadata": {},
   "outputs": [],
   "source": []
  },
  {
   "cell_type": "code",
   "execution_count": null,
   "id": "d3c8cb6c-6176-4c8c-9391-88379ecbcf8d",
   "metadata": {},
   "outputs": [],
   "source": []
  }
 ],
 "metadata": {
  "kernelspec": {
   "display_name": "Python 3 (ipykernel)",
   "language": "python",
   "name": "python3"
  },
  "language_info": {
   "codemirror_mode": {
    "name": "ipython",
    "version": 3
   },
   "file_extension": ".py",
   "mimetype": "text/x-python",
   "name": "python",
   "nbconvert_exporter": "python",
   "pygments_lexer": "ipython3",
   "version": "3.8.2"
  }
 },
 "nbformat": 4,
 "nbformat_minor": 5
}
