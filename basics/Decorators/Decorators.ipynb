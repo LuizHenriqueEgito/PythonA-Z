{
 "cells": [
  {
   "cell_type": "markdown",
   "id": "fa24fc63-f601-486e-9f2e-3d9cd52614ac",
   "metadata": {},
   "source": [
    "# Exercicios"
   ]
  },
  {
   "cell_type": "markdown",
   "id": "65975772-1f10-4ea6-9d34-1813eebe5f71",
   "metadata": {},
   "source": [
    "O uso do `functools.wraps` é uma boa prática ao criar decoradores em Python. Ele ajuda a preservar os metadados da função decorada, como o nome da função, docstring e assinatura, o que torna o código mais claro e mais fácil de entender. Sem usar `functools.wraps`, a função decorada pode perder essas informações importantes."
   ]
  },
  {
   "cell_type": "code",
   "execution_count": 2,
   "id": "2b5b288b-cc06-4f86-a787-33f1814a9500",
   "metadata": {
    "tags": []
   },
   "outputs": [],
   "source": [
    "from functools import wraps"
   ]
  },
  {
   "cell_type": "markdown",
   "id": "97f6bbb8-6c6d-45c3-a7c9-9830292f4cda",
   "metadata": {},
   "source": [
    "##### Escreva um programa Python para criar uma função decoradora para medir o tempo de execução de uma função."
   ]
  },
  {
   "cell_type": "code",
   "execution_count": 1,
   "id": "655c05b4-ec3b-4a28-9345-3807fc48634a",
   "metadata": {
    "tags": []
   },
   "outputs": [],
   "source": [
    "import time"
   ]
  },
  {
   "cell_type": "code",
   "execution_count": 3,
   "id": "4a54037a-e696-4412-af3c-b50d33c9a96e",
   "metadata": {},
   "outputs": [],
   "source": [
    "def stopwatch(func):\n",
    "    @wraps(func)\n",
    "    def wrapper(*args, **kwargs):\n",
    "        print('Comecei a calcular o tempo inicial.')\n",
    "        start = time.time()\n",
    "        result = func(*args, **kwargs)\n",
    "        stop = time.time()\n",
    "        print('Acebei de terminar de calcular o tempo final.')\n",
    "        print(f\"Elapsed time: {stop - start}\")\n",
    "        return result\n",
    "    return wrapper\n",
    "\n",
    "@stopwatch\n",
    "def wait(seconds: int = 2):\n",
    "    print('Entrei na função decorada')\n",
    "    print(f'Vou domrir por {seconds} seconds.')\n",
    "    time.sleep(seconds)\n",
    "    print('Acordei')\n",
    "    return None"
   ]
  },
  {
   "cell_type": "code",
   "execution_count": 4,
   "id": "e298d879-d358-4723-b213-b701c1281fe9",
   "metadata": {
    "tags": []
   },
   "outputs": [
    {
     "name": "stdout",
     "output_type": "stream",
     "text": [
      "Comecei a calcular o tempo inicial.\n",
      "Entrei na função decorada\n",
      "Vou domrir por 2 seconds.\n",
      "Acordei\n",
      "Acebei de terminar de calcular o tempo final.\n",
      "Elapsed time: 2.005902051925659\n"
     ]
    }
   ],
   "source": [
    "# eu encubro minha função principal faço o que quero antes e depois de rodar ela, por isso usamos decorators\n",
    "wait(2)"
   ]
  },
  {
   "cell_type": "markdown",
   "id": "590edf43-dc9d-477d-a5d1-ac6eae1c319f",
   "metadata": {},
   "source": [
    "##### Escreva um programa Python para criar um decorador para converter o valor de retorno de uma função em um tipo de dados especificado."
   ]
  },
  {
   "cell_type": "code",
   "execution_count": 27,
   "id": "26718aa5-4b51-4e19-a640-8d8115cd7b5e",
   "metadata": {},
   "outputs": [
    {
     "name": "stdout",
     "output_type": "stream",
     "text": [
      "Type: str, Value: Hello, world!\n",
      "Type: int, Value: 42\n",
      "Type: float, Value: 3.14\n",
      "Type: list, Value: [1, 2, 3]\n"
     ]
    },
    {
     "data": {
      "text/plain": [
       "'1, 2, 3'"
      ]
     },
     "execution_count": 27,
     "metadata": {},
     "output_type": "execute_result"
    }
   ],
   "source": [
    "from functools import singledispatch\n",
    "\n",
    "# Decorator using singledispatch\n",
    "def string_converter(func):\n",
    "    @singledispatch\n",
    "    @wraps(func)\n",
    "    def wrapper(arg):\n",
    "        print(f\"Type: {type(arg).__name__}, Value: {arg}\")\n",
    "        return str(arg)\n",
    "\n",
    "    @wrapper.register(int)\n",
    "    def _(arg):\n",
    "        print(f\"Type: int, Value: {arg}\")\n",
    "        return str(arg)\n",
    "\n",
    "    @wrapper.register(float)\n",
    "    def _(arg):\n",
    "        print(f\"Type: float, Value: {arg}\")\n",
    "        return str(arg)\n",
    "\n",
    "    @wrapper.register(list)\n",
    "    def _(arg):\n",
    "        print(f\"Type: list, Value: {arg}\")\n",
    "        return ', '.join(map(str, arg))\n",
    "\n",
    "    return wrapper\n",
    "\n",
    "# Usage\n",
    "@string_converter\n",
    "def print_and_convert(value):\n",
    "    return value\n",
    "\n",
    "print_and_convert(\"Hello, world!\")\n",
    "print_and_convert(42)\n",
    "print_and_convert(3.14)\n",
    "print_and_convert([1, 2, 3])"
   ]
  },
  {
   "cell_type": "markdown",
   "id": "bcbbdd73-2913-47d2-a6f4-b4280bfe5bf1",
   "metadata": {},
   "source": [
    "##### Escreva um programa Python que implemente um decorador para armazenar em cache o resultado de uma função."
   ]
  },
  {
   "cell_type": "code",
   "execution_count": 8,
   "id": "bc866d20-d4b7-482c-9651-5c1662424649",
   "metadata": {},
   "outputs": [],
   "source": [
    "from functools import lru_cache\n",
    "\n",
    "@lru_cache\n",
    "def sleep(seconds: int):\n",
    "    time.sleep(seconds)\n",
    "    return 'Finalizei'"
   ]
  },
  {
   "cell_type": "code",
   "execution_count": 9,
   "id": "a04b17dd-69e5-475b-8957-e44f143a6306",
   "metadata": {
    "tags": []
   },
   "outputs": [
    {
     "name": "stdout",
     "output_type": "stream",
     "text": [
      "executada em: 10.007429122924805\n"
     ]
    }
   ],
   "source": [
    "start = time.time()\n",
    "sleep(10)\n",
    "stop = time.time()\n",
    "print(f'executada em: {stop - start}')"
   ]
  },
  {
   "cell_type": "code",
   "execution_count": 10,
   "id": "04d140db-094b-430c-b983-a3e413c1f149",
   "metadata": {
    "tags": []
   },
   "outputs": [
    {
     "name": "stdout",
     "output_type": "stream",
     "text": [
      "executada em: 0.0\n"
     ]
    }
   ],
   "source": [
    "start = time.time()\n",
    "sleep(10)\n",
    "stop = time.time()\n",
    "print(f'executada em: {stop - start}')"
   ]
  },
  {
   "cell_type": "markdown",
   "id": "1a308872-692e-4e33-9282-ff034d80e01f",
   "metadata": {},
   "source": [
    "#####  Escreva um programa Python que implemente um decorador para repetir uma função várias vezes."
   ]
  },
  {
   "cell_type": "markdown",
   "id": "50a1684d-4397-4ec2-9efb-9f4068ecde7a",
   "metadata": {},
   "source": [
    "Se o seu decorator precisa de um `parametro` crie uma função antes que receba o parametro depois crie outra com o func e por fim faça o wrapper"
   ]
  },
  {
   "cell_type": "code",
   "execution_count": 13,
   "id": "de0a9849-32c1-42fe-899b-b8289e0779b3",
   "metadata": {},
   "outputs": [
    {
     "name": "stdout",
     "output_type": "stream",
     "text": [
      "Hello, Alice!\n",
      "Hello, Alice!\n",
      "Hello, Alice!\n",
      "Hello, Alice!\n",
      "Hello, Alice!\n"
     ]
    },
    {
     "data": {
      "text/plain": [
       "'Hello, Alice!'"
      ]
     },
     "execution_count": 13,
     "metadata": {},
     "output_type": "execute_result"
    }
   ],
   "source": [
    "def repeat(n):\n",
    "    def decorator(func):\n",
    "        @wraps(func)\n",
    "        def wrapper(*args, **kwargs):\n",
    "            for _ in range(n):\n",
    "                result = func(*args, **kwargs)\n",
    "                print(f\"Function {func.__name__} result: {result}\")\n",
    "            return result\n",
    "        return wrapper\n",
    "    return decorator\n",
    "\n",
    "\n",
    "# Decorator to repeat the function 3 times\n",
    "@repeat(n=5)\n",
    "def greet(name):\n",
    "    \"\"\"A simple greeting function.\"\"\"\n",
    "    return f\"Hello, {name}!\"\n",
    "\n",
    "name = \"Alice\"\n",
    "greet(name)"
   ]
  },
  {
   "cell_type": "markdown",
   "id": "661df700-69ab-427e-aa64-cf7cbff582d3",
   "metadata": {},
   "source": [
    "##### Escreva um programa Python que implemente um decorador para adicionar funcionalidade de log a uma função."
   ]
  },
  {
   "cell_type": "code",
   "execution_count": 9,
   "id": "914089dc-dd63-417f-8f71-7a79ff332d86",
   "metadata": {},
   "outputs": [
    {
     "name": "stdout",
     "output_type": "stream",
     "text": [
      "add\n",
      "Add two numbers.\n"
     ]
    }
   ],
   "source": [
    "import logging\n",
    "from functools import wraps\n",
    "\n",
    "# Configure logging to display messages in the console\n",
    "logging.basicConfig(level=logging.INFO,\n",
    "                    format='%(asctime)s - %(name)s - %(levelname)s - %(message)s')\n",
    "\n",
    "# Decorator to add logging functionality\n",
    "def log_function(func):\n",
    "    @wraps(func)  # Use functools.wraps to preserve original function's metadata\n",
    "    def wrapper(*args, **kwargs):\n",
    "        logging.info(f\"Calling function {func.__name__} with arguments {args} and kwargs {kwargs}\")\n",
    "        result = func(*args, **kwargs)\n",
    "        logging.info(f\"Function {func.__name__} returned: {result}\")\n",
    "        return result\n",
    "    return wrapper\n",
    "\n",
    "# Using the decorator to add logging to a function\n",
    "@log_function\n",
    "def add(a, b):\n",
    "    \"\"\"Add two numbers.\"\"\"\n",
    "    return a + b\n",
    "\n",
    "@log_function\n",
    "def subtract(a, b):\n",
    "    \"\"\"Subtract two numbers.\"\"\"\n",
    "    return a - b\n",
    "\n",
    "# Calling the decorated functions\n",
    "result1 = add(10, 5)\n",
    "result2 = subtract(10, 5)\n",
    "\n",
    "print(add.__name__)  # Output: \"add\" (original function name)\n",
    "print(add.__doc__)   # Output: \"Add two numbers.\" (original docstring)"
   ]
  },
  {
   "cell_type": "markdown",
   "id": "3e7424c8-a57a-4448-b4ab-28cfafe7a1bb",
   "metadata": {},
   "source": [
    "##### Escreva um programa Python que implemente um decorador para medir o uso de memória de uma função."
   ]
  },
  {
   "cell_type": "code",
   "execution_count": 11,
   "id": "62077d3a-f34b-4e9a-b482-7e953511c1f8",
   "metadata": {},
   "outputs": [],
   "source": [
    "import tracemalloc"
   ]
  },
  {
   "cell_type": "code",
   "execution_count": 13,
   "id": "ef013543-58f8-4ce8-a011-f098ea490882",
   "metadata": {
    "tags": []
   },
   "outputs": [],
   "source": [
    "from functools import wraps"
   ]
  },
  {
   "cell_type": "code",
   "execution_count": 31,
   "id": "5d08d08c-ed13-4cf3-b33e-428fb196d6ec",
   "metadata": {},
   "outputs": [],
   "source": [
    "def memory_size(func):\n",
    "    tracemalloc.start()\n",
    "    @wraps(func)\n",
    "    def wrapper(*args, **kwargs):\n",
    "        \n",
    "        initial_memory = tracemalloc.get_traced_memory()[0]\n",
    "        result = func(*args, **kwargs)\n",
    "        final_memory = tracemalloc.get_traced_memory()[0]\n",
    "        print(f'Memory used: {final_memory - initial_memory}')\n",
    "        return result\n",
    "    return wrapper\n",
    "        \n",
    "\n",
    "@memory_size\n",
    "def foobar(x, y):\n",
    "    result = x ** y\n",
    "    return result"
   ]
  },
  {
   "cell_type": "code",
   "execution_count": 34,
   "id": "9d92a541-0a13-4c4c-9f7e-1e4398c76a26",
   "metadata": {
    "tags": []
   },
   "outputs": [
    {
     "name": "stdout",
     "output_type": "stream",
     "text": [
      "Memory used: 56\n"
     ]
    },
    {
     "data": {
      "text/plain": [
       "1024"
      ]
     },
     "execution_count": 34,
     "metadata": {},
     "output_type": "execute_result"
    }
   ],
   "source": [
    "foobar(2,10)"
   ]
  },
  {
   "cell_type": "markdown",
   "id": "eb55325a-0e74-4397-9929-a1a1498cec0e",
   "metadata": {},
   "source": [
    "# Outros exemplos"
   ]
  },
  {
   "cell_type": "code",
   "execution_count": 7,
   "id": "a3da8a97-d8de-462e-bdb1-07e5131d2586",
   "metadata": {},
   "outputs": [
    {
     "name": "stdout",
     "output_type": "stream",
     "text": [
      "Contagem regressiva...\n",
      "3\n",
      "2\n",
      "1\n"
     ]
    },
    {
     "data": {
      "text/plain": [
       "'Olá Luiz'"
      ]
     },
     "execution_count": 7,
     "metadata": {},
     "output_type": "execute_result"
    }
   ],
   "source": [
    "def foobar(func):\n",
    "    @wraps(func)\n",
    "    def func_123(*args, **kwargs):\n",
    "        result = func(*args, **kwargs)\n",
    "        print('Contagem regressiva...')\n",
    "        for i in range(3,0,-1):\n",
    "            print(i)\n",
    "            time.sleep(1)\n",
    "        return result\n",
    "    return func_123\n",
    "\n",
    "@foobar\n",
    "def barfoo(name: str = 'Luiz'):\n",
    "    msg = f'Olá {name}'\n",
    "    return msg\n",
    "\n",
    "barfoo()"
   ]
  },
  {
   "cell_type": "markdown",
   "id": "134ff60c-1816-4aca-994a-3de69736b82c",
   "metadata": {},
   "source": [
    "#####  Contando chamadas de função com um decorador. Crie um decorador que conte quantas vezes uma função foi chamada e imprima esse número sempre que a função for executada."
   ]
  },
  {
   "cell_type": "code",
   "execution_count": 14,
   "id": "9aaebc2e-2657-4ba6-af51-b00d0746a979",
   "metadata": {},
   "outputs": [
    {
     "name": "stdout",
     "output_type": "stream",
     "text": [
      "A função funcao_contada foi chamada 1 vezes.\n",
      "A função funcao_contada foi chamada 2 vezes.\n",
      "A função funcao_contada foi chamada 3 vezes.\n"
     ]
    }
   ],
   "source": [
    "def contar_chamadas(funcao):\n",
    "    def wrapper(*args, **kwargs):\n",
    "        wrapper.contagem += 1\n",
    "        print(f\"A função {funcao.__name__} foi chamada {wrapper.contagem} vezes.\")\n",
    "        return funcao(*args, **kwargs)\n",
    "    wrapper.contagem = 0\n",
    "    return wrapper\n",
    "\n",
    "@contar_chamadas\n",
    "def funcao_contada():\n",
    "    pass\n",
    "\n",
    "funcao_contada()\n",
    "funcao_contada()\n",
    "funcao_contada()"
   ]
  },
  {
   "cell_type": "code",
   "execution_count": 15,
   "id": "4dbc689c-70cb-48d3-a018-d32ed35055f1",
   "metadata": {},
   "outputs": [
    {
     "name": "stdout",
     "output_type": "stream",
     "text": [
      "55\n"
     ]
    }
   ],
   "source": []
  },
  {
   "cell_type": "code",
   "execution_count": null,
   "id": "49fc5135-077c-470c-b09d-298966e5fbaa",
   "metadata": {},
   "outputs": [],
   "source": []
  }
 ],
 "metadata": {
  "kernelspec": {
   "display_name": "Python 3 (ipykernel)",
   "language": "python",
   "name": "python3"
  },
  "language_info": {
   "codemirror_mode": {
    "name": "ipython",
    "version": 3
   },
   "file_extension": ".py",
   "mimetype": "text/x-python",
   "name": "python",
   "nbconvert_exporter": "python",
   "pygments_lexer": "ipython3",
   "version": "3.8.2"
  }
 },
 "nbformat": 4,
 "nbformat_minor": 5
}
