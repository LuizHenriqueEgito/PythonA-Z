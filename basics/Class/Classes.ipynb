{
 "cells": [
  {
   "cell_type": "code",
   "execution_count": 1,
   "id": "ef380c24-4be7-4e38-85ac-12979822329c",
   "metadata": {
    "tags": []
   },
   "outputs": [],
   "source": [
    "import sys\n",
    "sys.path.insert(0, '../../env_learning/Lib/site-packages')"
   ]
  },
  {
   "cell_type": "markdown",
   "id": "aacbd6ec-dbb4-478e-ad36-dda46fd389cf",
   "metadata": {},
   "source": [
    "# Exercicios"
   ]
  },
  {
   "cell_type": "markdown",
   "id": "f0a4e873-68af-4133-ba63-14dcbf072df9",
   "metadata": {},
   "source": [
    "##### Escreva uma classe Python BankAccount com atributos como account_number, balance, date_of_opening e customer_name, e métodos como deposit, Retire e check_balance."
   ]
  },
  {
   "cell_type": "code",
   "execution_count": 42,
   "id": "3e85c84a-d6f8-4d8d-abc9-7c7a2e98e112",
   "metadata": {
    "tags": []
   },
   "outputs": [],
   "source": [
    "from typing import NewType, Optional\n",
    "\n",
    "Date = NewType('Date', datetime.date)"
   ]
  },
  {
   "cell_type": "code",
   "execution_count": 49,
   "id": "d03355db-f504-4a9a-9f41-bd5d594bae9f",
   "metadata": {},
   "outputs": [],
   "source": [
    "from random import randint\n",
    "from datetime import datetime\n",
    "\n",
    "class BankAccount:\n",
    "    def __init__(self, customer_name: str, balance: float = 0.0):\n",
    "        self.customer_name = customer_name\n",
    "        self.balance = balance\n",
    "        self.account_number = randint(10_000, 11_000)\n",
    "        self.date_of_opening = datetime.today().strftime('%d/%m/%Y')\n",
    "        self.logs = []\n",
    "        \n",
    "    def deposit(self, value: float):\n",
    "        self.__records(value=value, action='Deposit')\n",
    "        self.balance += value\n",
    "        return f'${value:.2f} deposit made'\n",
    "    \n",
    "    def retire(self, value: float):\n",
    "        self.__records(value=value, action='Retire')\n",
    "        self.balance -= value\n",
    "        return f'Value ${value:.2f} withdrawn successfully'\n",
    "    \n",
    "    def check_balance(self):\n",
    "        return f'BALANCE ${self.balance:.2f}'\n",
    "    \n",
    "    def generate_extract(self):  # date_start: Optional[Date], date_stop: Optional[Date]\n",
    "        return self.logs \n",
    "    \n",
    "    def __records(self, value: float, action: str):\n",
    "        self.logs.append((action, value, self.balance, datetime.now()))"
   ]
  },
  {
   "cell_type": "code",
   "execution_count": 50,
   "id": "e97c80b9-f751-41bc-9849-4cb0bf08a180",
   "metadata": {
    "tags": []
   },
   "outputs": [],
   "source": [
    "customer_A = BankAccount(customer_name='Egito', balance=1000)"
   ]
  },
  {
   "cell_type": "code",
   "execution_count": 51,
   "id": "a6e39021-c845-4263-9b51-84ac6cb0fd64",
   "metadata": {
    "tags": []
   },
   "outputs": [
    {
     "data": {
      "text/plain": [
       "'$150.00 deposit made'"
      ]
     },
     "execution_count": 51,
     "metadata": {},
     "output_type": "execute_result"
    }
   ],
   "source": [
    "customer_A.deposit(value=150)"
   ]
  },
  {
   "cell_type": "code",
   "execution_count": 62,
   "id": "5f722025-c2b8-45da-9ed0-99e6b689a8e0",
   "metadata": {
    "tags": []
   },
   "outputs": [
    {
     "data": {
      "text/plain": [
       "'Value $50.00 withdrawn successfully'"
      ]
     },
     "execution_count": 62,
     "metadata": {},
     "output_type": "execute_result"
    }
   ],
   "source": [
    "customer_A.retire(value=50)"
   ]
  },
  {
   "cell_type": "code",
   "execution_count": 63,
   "id": "8e758e85-4c76-4eec-9d81-b3f9bc797d98",
   "metadata": {
    "tags": []
   },
   "outputs": [
    {
     "data": {
      "text/plain": [
       "'BALANCE $750.00'"
      ]
     },
     "execution_count": 63,
     "metadata": {},
     "output_type": "execute_result"
    }
   ],
   "source": [
    "customer_A.check_balance()"
   ]
  },
  {
   "cell_type": "code",
   "execution_count": 64,
   "id": "a348f1dc-b908-4e52-8378-d92f306a8543",
   "metadata": {
    "tags": []
   },
   "outputs": [
    {
     "data": {
      "text/plain": [
       "[('Deposit', 150, 1000, datetime.datetime(2023, 8, 2, 0, 44, 19, 277912)),\n",
       " ('Retire', 50, 1150, datetime.datetime(2023, 8, 2, 0, 44, 19, 450983)),\n",
       " ('Retire', 50, 1100, datetime.datetime(2023, 8, 2, 0, 44, 35, 695489)),\n",
       " ('Retire', 50, 1050, datetime.datetime(2023, 8, 2, 0, 44, 36, 900763)),\n",
       " ('Retire', 50, 1000, datetime.datetime(2023, 8, 2, 0, 44, 38, 499565)),\n",
       " ('Retire', 50, 950, datetime.datetime(2023, 8, 2, 0, 44, 39, 42454)),\n",
       " ('Retire', 50, 900, datetime.datetime(2023, 8, 2, 0, 44, 39, 539875)),\n",
       " ('Retire', 50, 850, datetime.datetime(2023, 8, 2, 0, 44, 40, 59794)),\n",
       " ('Retire', 50, 800, datetime.datetime(2023, 8, 2, 0, 44, 40, 524581))]"
      ]
     },
     "execution_count": 64,
     "metadata": {},
     "output_type": "execute_result"
    }
   ],
   "source": [
    "customer_A.generate_extract()"
   ]
  },
  {
   "cell_type": "markdown",
   "id": "58432660-42c9-4b91-be95-af24a32fa084",
   "metadata": {},
   "source": [
    "##### Escreva uma classe Python Restaurant com atributos como menu_items, book_table e customer_orders, e métodos como add_item_to_menu, book_tables e customer_order.\n",
    "Execute as seguintes tarefas agora:  \n",
    "Agora adicione itens ao menu.  \n",
    "Faça reservas de mesa.  \n",
    "Anote os pedidos dos clientes. \n",
    "Imprima o cardápio.  \n",
    "Imprimir reservas de mesa.  \n",
    "Imprima os pedidos dos clientes.  \n",
    "Nota: Use dicionários e listas para armazenar os dados.  "
   ]
  },
  {
   "cell_type": "code",
   "execution_count": 32,
   "id": "3bada0ef-1d88-4e01-a28d-c1216c868b6a",
   "metadata": {},
   "outputs": [],
   "source": [
    "from typing import List, Deque, Dict, Tuple, Any, Union\n",
    "from collections import deque\n",
    "from dataclasses import dataclass\n",
    "\n",
    "\n",
    "@dataclass\n",
    "class Restaurant:\n",
    "    def __init__(self, fila: List[Union[str, int]] = deque(), menu: Dict[str, float] = {'carne assada': 18.99}):\n",
    "        self.fila = fila\n",
    "        self.menu = menu\n",
    "        \n",
    "    def get_in_line(self, name: str, mesa: int):\n",
    "        return self.fila.append([name, mesa])\n",
    "\n",
    "    def show_menu(self):\n",
    "        print(self.menu)"
   ]
  },
  {
   "cell_type": "code",
   "execution_count": 33,
   "id": "138abf1b-0052-4c3c-8e61-a93aa95e5368",
   "metadata": {
    "tags": []
   },
   "outputs": [],
   "source": [
    "restautante = Restaurant()\n",
    "\n",
    "restautante.get_in_line(name='Egito', mesa=1)\n",
    "\n",
    "restautante.get_in_line(name='Renan', mesa=2)\n",
    "\n",
    "restautante.get_in_line(name='Leonardo', mesa=3)"
   ]
  },
  {
   "cell_type": "code",
   "execution_count": 39,
   "id": "528b3005-2187-460d-acd6-4a2d7463c342",
   "metadata": {
    "tags": []
   },
   "outputs": [
    {
     "data": {
      "text/plain": [
       "deque([['Egito', 1], ['Renan', 2], ['Leonardo', 3]])"
      ]
     },
     "execution_count": 39,
     "metadata": {},
     "output_type": "execute_result"
    }
   ],
   "source": [
    "restautante.fila"
   ]
  },
  {
   "cell_type": "code",
   "execution_count": 41,
   "id": "1814d33a-3571-4f67-9310-383daff581c6",
   "metadata": {
    "tags": []
   },
   "outputs": [
    {
     "name": "stdout",
     "output_type": "stream",
     "text": [
      "{'carne assada': 18.99}\n"
     ]
    }
   ],
   "source": [
    "restautante.show_menu()"
   ]
  },
  {
   "cell_type": "markdown",
   "id": "b7d247b0-8024-49d6-a506-504b32346c5a",
   "metadata": {},
   "source": [
    "##### Crie uma classe chamada Pessoa que tenha os atributos nome e idade. Em seguida, crie um objeto dessa classe e imprima seus atributos."
   ]
  },
  {
   "cell_type": "code",
   "execution_count": 12,
   "id": "87a9063b-0f2e-461f-b8e6-5c717592fa16",
   "metadata": {
    "tags": []
   },
   "outputs": [
    {
     "name": "stdout",
     "output_type": "stream",
     "text": [
      "Pessoa(nome='Luiz Henrique Souza Egito', idade=26)\n"
     ]
    }
   ],
   "source": [
    "from dataclasses import dataclass\n",
    "\n",
    "@dataclass\n",
    "class Pessoa:\n",
    "    nome: str\n",
    "    idade: int\n",
    "\n",
    "pessoa = Pessoa(nome='Luiz Henrique Souza Egito', idade=26)\n",
    "print(pessoa)"
   ]
  },
  {
   "cell_type": "code",
   "execution_count": 11,
   "id": "2dbee6cf-918e-48cd-a369-cefbc72b484c",
   "metadata": {},
   "outputs": [
    {
     "name": "stdout",
     "output_type": "stream",
     "text": [
      "nome='Luiz Henrique Souza Egito' idade=26\n"
     ]
    }
   ],
   "source": [
    "# usando pydantic\n",
    "from pydantic import BaseModel\n",
    "class Pessoa(BaseModel):\n",
    "    nome: str\n",
    "    idade: int\n",
    "\n",
    "pessoa = Pessoa(nome='Luiz Henrique Souza Egito', idade=26)\n",
    "print(pessoa)"
   ]
  },
  {
   "cell_type": "markdown",
   "id": "964ac355-8f0d-4e87-8537-d392b330fbab",
   "metadata": {
    "tags": []
   },
   "source": [
    "##### Crie uma classe chamada Retangulo que tenha os atributos largura e altura. Adicione um método chamado calcular_area que calcula e retorna a área do retângulo."
   ]
  },
  {
   "cell_type": "code",
   "execution_count": 56,
   "id": "9d844cd2-61ce-4153-b9e3-e5664a9339c0",
   "metadata": {},
   "outputs": [],
   "source": [
    "from dataclasses import dataclass\n",
    "\n",
    "class Retangulo:\n",
    "    def __init__(self, largura: float, altura: float):\n",
    "        self.largura = largura\n",
    "        self.altura = altura\n",
    "        self.area = self.largura * self.altura"
   ]
  },
  {
   "cell_type": "code",
   "execution_count": 57,
   "id": "31c4cb29-be1f-454b-9def-02b9c6f12575",
   "metadata": {
    "tags": []
   },
   "outputs": [],
   "source": [
    "ret1 = Retangulo(largura=2, altura=4)\n",
    "ret2 = Retangulo(largura=8, altura=4)"
   ]
  },
  {
   "cell_type": "code",
   "execution_count": 58,
   "id": "d6566189-a084-4789-85a1-b54c6c36896b",
   "metadata": {
    "tags": []
   },
   "outputs": [
    {
     "data": {
      "text/plain": [
       "False"
      ]
     },
     "execution_count": 58,
     "metadata": {},
     "output_type": "execute_result"
    }
   ],
   "source": [
    "ret1.area > ret2.area"
   ]
  },
  {
   "cell_type": "markdown",
   "id": "c063d617-d6ff-4385-90b6-da2070924dfa",
   "metadata": {},
   "source": [
    "##### Crie uma classe chamada Calculadora que tenha um método chamado soma que recebe dois números como parâmetros e retorna a soma deles. Faça mais coisas que apenas a soma como por exemplo a derivada e integral"
   ]
  },
  {
   "cell_type": "code",
   "execution_count": null,
   "id": "5bdd2c4f-e92f-4089-a35e-72056bbafc28",
   "metadata": {},
   "outputs": [],
   "source": []
  },
  {
   "cell_type": "markdown",
   "id": "2478810b-506f-4ff2-99ac-097e7ba68cb5",
   "metadata": {},
   "source": [
    "##### Crie uma classe chamada Livro que tenha os atributos titulo, autor e ano. Em seguida, crie uma lista de objetos Livro e ordene-os por ano."
   ]
  },
  {
   "cell_type": "code",
   "execution_count": 59,
   "id": "688a831c-cca6-4879-bc44-01f6ecc8342a",
   "metadata": {},
   "outputs": [],
   "source": [
    "from dataclasses import dataclass\n",
    "\n",
    "@dataclass\n",
    "class Livro:\n",
    "    gernero: str\n",
    "    autor: str\n",
    "    ano: int"
   ]
  },
  {
   "cell_type": "code",
   "execution_count": 62,
   "id": "86a00d39-227b-4dd2-aabc-5fcaa9924987",
   "metadata": {
    "tags": []
   },
   "outputs": [],
   "source": [
    "book1 = Livro('ficção', 'WW bullet', 2015)\n",
    "book2 = Livro('ação', 'JJ Abran', 2000)\n",
    "book3 = Livro('aventura', 'Jorge Luca', 2023)"
   ]
  },
  {
   "cell_type": "code",
   "execution_count": 66,
   "id": "debb2728-8172-4cbb-ad96-27e54552072e",
   "metadata": {
    "tags": []
   },
   "outputs": [],
   "source": [
    "estante = [book1, book2, book3]"
   ]
  },
  {
   "cell_type": "code",
   "execution_count": 68,
   "id": "caa059b4-f0c0-4eda-9842-ec4235b071c6",
   "metadata": {
    "tags": []
   },
   "outputs": [
    {
     "data": {
      "text/plain": [
       "[Livro(gernero='aventura', autor='Jorge Luca', ano=2023),\n",
       " Livro(gernero='ficção', autor='WW bullet', ano=2015),\n",
       " Livro(gernero='ação', autor='JJ Abran', ano=2000)]"
      ]
     },
     "execution_count": 68,
     "metadata": {},
     "output_type": "execute_result"
    }
   ],
   "source": [
    "sorted(estante, key=lambda x: x.ano, reverse=True)"
   ]
  },
  {
   "cell_type": "markdown",
   "id": "a30ab29e-7a08-4ea3-9b39-e87ce8244d5c",
   "metadata": {},
   "source": [
    "##### Crie uma classe chamada Cachorro que tenha os atributos nome e idade. Adicione um método chamado latir que imprime \"Au au!\" na tela."
   ]
  },
  {
   "cell_type": "code",
   "execution_count": 69,
   "id": "92edd905-7a53-4a8f-bfb9-aec6ee04e274",
   "metadata": {},
   "outputs": [],
   "source": [
    "from dataclasses import dataclass\n",
    "\n",
    "@dataclass\n",
    "class Dog:\n",
    "    nome: str\n",
    "    idade: int\n",
    "    \n",
    "    def latir(self):\n",
    "        print('Au Au')"
   ]
  },
  {
   "cell_type": "code",
   "execution_count": 74,
   "id": "a16fb034-de14-41f8-8c51-833dacef42d0",
   "metadata": {
    "tags": []
   },
   "outputs": [
    {
     "name": "stdout",
     "output_type": "stream",
     "text": [
      "Au Au\n"
     ]
    }
   ],
   "source": [
    "rex = Dog(nome='rex', idade=3)\n",
    "rex.latir()"
   ]
  },
  {
   "cell_type": "markdown",
   "id": "851c183f-9aca-46ae-910d-36c9764e85aa",
   "metadata": {},
   "source": [
    "##### Crie uma classe chamada Ponto que tenha os atributos x e y. Crie um método chamado distancia que recebe outro ponto como parâmetro e retorna a distância euclidiana entre os dois pontos."
   ]
  },
  {
   "cell_type": "code",
   "execution_count": null,
   "id": "ec6432b0-1aad-4272-8608-4851b48170d1",
   "metadata": {},
   "outputs": [],
   "source": [
    "dAB² = (xB – xA)² + (yB – yA)²."
   ]
  },
  {
   "cell_type": "code",
   "execution_count": 90,
   "id": "a0c7f2b3-c9e3-449e-8209-5c64e20502ea",
   "metadata": {},
   "outputs": [],
   "source": [
    "from dataclasses import dataclass\n",
    "from math import sqrt\n",
    "\n",
    "@dataclass\n",
    "class Dot:\n",
    "    x: float\n",
    "    y: float\n",
    "    \n",
    "    def distancia(self, other):\n",
    "        distance = (self.x - other.x) ** 2 + (self.y - other.y) ** 2\n",
    "        return round(sqrt(distance), 2)"
   ]
  },
  {
   "cell_type": "code",
   "execution_count": 91,
   "id": "f173d72c-d0f7-41e3-a2dc-c76655946f9a",
   "metadata": {
    "tags": []
   },
   "outputs": [],
   "source": [
    "p1 = Dot(x=1, y=2)\n",
    "p2 = Dot(x=5, y=-7)"
   ]
  },
  {
   "cell_type": "code",
   "execution_count": 93,
   "id": "124715c2-47c0-460b-a53f-60ad3028d97f",
   "metadata": {
    "tags": []
   },
   "outputs": [
    {
     "data": {
      "text/plain": [
       "9.85"
      ]
     },
     "execution_count": 93,
     "metadata": {},
     "output_type": "execute_result"
    }
   ],
   "source": [
    "p1.distancia(p2)"
   ]
  },
  {
   "cell_type": "markdown",
   "id": "f902ee7f-e5c6-409c-8628-0bda3c04334e",
   "metadata": {},
   "source": [
    "##### Crie uma classe chamada Carro que tenha os atributos marca, modelo e ano. Crie um método chamado descricao que retorna uma string formatada com as informações do carro."
   ]
  },
  {
   "cell_type": "code",
   "execution_count": 94,
   "id": "54480ffd-8cb0-4bd7-b36e-90661a5861be",
   "metadata": {},
   "outputs": [],
   "source": [
    "from dataclasses import dataclass\n",
    "\n",
    "@dataclass\n",
    "class Car:\n",
    "    marca: str\n",
    "    modelo: str\n",
    "    ano: int\n",
    "    \n",
    "    def description(self):\n",
    "        return f'Marca: {self.marca} | Modelo: {self.modelo} | Ano: {self.ano}'"
   ]
  },
  {
   "cell_type": "code",
   "execution_count": 96,
   "id": "bc38b59a-6243-4038-871c-777bf77bd5d3",
   "metadata": {
    "tags": []
   },
   "outputs": [],
   "source": [
    "chevet = Car(marca='chevrolet', modelo='chevet', ano=1998)"
   ]
  },
  {
   "cell_type": "code",
   "execution_count": 98,
   "id": "f5547c21-2edb-4c5a-8170-801577c61523",
   "metadata": {
    "tags": []
   },
   "outputs": [
    {
     "data": {
      "text/plain": [
       "'Marca: chevrolet | Modelo: chevet | Ano: 1998'"
      ]
     },
     "execution_count": 98,
     "metadata": {},
     "output_type": "execute_result"
    }
   ],
   "source": [
    "chevet.description()"
   ]
  },
  {
   "cell_type": "markdown",
   "id": "de138e5f-e4aa-46eb-9a40-ce984858d8a7",
   "metadata": {},
   "source": [
    "##### Crie uma classe chamada Matriz que represente uma matriz 3x3. Adicione métodos para somar duas matrizes, multiplicar uma matriz por um escalar e calcular a transposta da matriz."
   ]
  },
  {
   "cell_type": "code",
   "execution_count": 11,
   "id": "89ff6c36-1926-4e52-a9df-2b31d097280b",
   "metadata": {},
   "outputs": [],
   "source": [
    "from typing import List\n",
    "\n",
    "class Matrix:\n",
    "    def __init__(self, first_row: List[float], second_row: List[float], third_row: List[float]):\n",
    "        self.first_row = first_row\n",
    "        self.second_row = second_row\n",
    "        self.third_row = third_row\n",
    "        self.matrix = self.__make_matrix()\n",
    "    \n",
    "    def __make_matrix(self):\n",
    "        return [\n",
    "            self.first_row,\n",
    "            self.second_row,\n",
    "            self.third_row\n",
    "        ]\n",
    "    \n",
    "    def soma_escalar(self, number: float):\n",
    "        self.matrix = [[x + number for x in rows] for rows in self.matrix]\n",
    "        return self.matrix\n",
    "    \n",
    "    def mul_escalar(self, number: float):\n",
    "        self.matrix = [[x * number for x in rows] for rows in self.matrix]\n",
    "        return self.matrix\n",
    "    \n",
    "    def transpose(self):\n",
    "        self.matrix = [list(row) for row in zip(*self.matrix)]\n",
    "        return self.matrix\n",
    "        \n",
    "    def mul_matrix(self, other):\n",
    "        ..."
   ]
  },
  {
   "cell_type": "code",
   "execution_count": 12,
   "id": "d0449719-11d7-4071-9be5-f57e5ed78294",
   "metadata": {},
   "outputs": [],
   "source": [
    "mat = Matrix([1,1,1], [2,2,2], [3,3,3])"
   ]
  },
  {
   "cell_type": "code",
   "execution_count": 13,
   "id": "4f4ab06f-f490-4bb1-8981-cc0785729e57",
   "metadata": {
    "tags": []
   },
   "outputs": [
    {
     "data": {
      "text/plain": [
       "[[1, 2, 3], [1, 2, 3], [1, 2, 3]]"
      ]
     },
     "execution_count": 13,
     "metadata": {},
     "output_type": "execute_result"
    }
   ],
   "source": [
    "mat.transpose()"
   ]
  },
  {
   "cell_type": "code",
   "execution_count": 7,
   "id": "58271898-9abb-4734-90f6-12a24e76cbe1",
   "metadata": {
    "tags": []
   },
   "outputs": [
    {
     "data": {
      "text/plain": [
       "[[6, 6, 6], [7, 7, 7], [8, 8, 8]]"
      ]
     },
     "execution_count": 7,
     "metadata": {},
     "output_type": "execute_result"
    }
   ],
   "source": [
    "mat.soma_escalar(1)"
   ]
  },
  {
   "cell_type": "markdown",
   "id": "5a000a37-9374-4197-9c6c-b443a35359fa",
   "metadata": {
    "jp-MarkdownHeadingCollapsed": true
   },
   "source": [
    "Usando getter @propety e setter em classes"
   ]
  },
  {
   "cell_type": "code",
   "execution_count": 1,
   "id": "9f440435-0018-4ebb-b544-511271bcb6b3",
   "metadata": {},
   "outputs": [],
   "source": [
    "class Pessoa:\n",
    "    msg = \"Isso é uma classe.\"\n",
    "    def __init__(self, name, age):\n",
    "        self._name = name\n",
    "        self._age = age\n",
    "\n",
    "    @classmethod\n",
    "    def mensagem(cls):\n",
    "        print(cls.msg)\n",
    "\n",
    "    @property\n",
    "    def name(self):\n",
    "        return self._name\n",
    "\n",
    "    @property\n",
    "    def age(self):\n",
    "        return self._age\n",
    "\n",
    "    @age.setter\n",
    "    def age(self, new_age):\n",
    "        self._age = new_age\n",
    "\n",
    "    @staticmethod\n",
    "    def exit():\n",
    "        return 'Saindo'"
   ]
  },
  {
   "cell_type": "code",
   "execution_count": 2,
   "id": "b14c36fc-4b4c-459c-bf9a-149927d04800",
   "metadata": {},
   "outputs": [],
   "source": [
    "luiz = Pessoa(name='Luiz', age=26)"
   ]
  },
  {
   "cell_type": "code",
   "execution_count": 27,
   "id": "e208f5b9-a13f-4a60-8891-e1c5f5d51cdf",
   "metadata": {},
   "outputs": [],
   "source": [
    "class PowerRange(Pessoa):\n",
    "    def __init__(self, name, age, power, color):\n",
    "        super().__init__(name, age)  # Chama o construtor da classe base\n",
    "        self.power = power  # Adiciona um novo atributo power\n",
    "        self.color = color\n",
    "        self.its_moldy: bool = False\n",
    "\n",
    "    def morfar(self):\n",
    "        print(f'{self.name} is morphed into ranger {self.color}\\nby the strength of {self.power}')\n",
    "        self.its_moldy = True\n",
    "\n",
    "    def desmorfar(self):\n",
    "        self.its_moldy = False\n",
    "    \n",
    "    def myself(self):\n",
    "        if self.its_moldy:\n",
    "            print(f'ranger {self.color} ready')\n",
    "        else:\n",
    "            print(f'{self.name} its time to morph')"
   ]
  },
  {
   "cell_type": "code",
   "execution_count": 28,
   "id": "62102bc7-aad5-489b-ba2e-0edc661c18ed",
   "metadata": {},
   "outputs": [],
   "source": [
    "power_ranger_red = PowerRange(name='Luiz', age=26, power='thunder', color='red')"
   ]
  },
  {
   "cell_type": "code",
   "execution_count": 29,
   "id": "d2561db9-bb56-4a05-9b2a-4cb0ebd2c8f5",
   "metadata": {},
   "outputs": [
    {
     "name": "stdout",
     "output_type": "stream",
     "text": [
      "Luiz is morphed into ranger red\n",
      "by the strength of thunder\n"
     ]
    }
   ],
   "source": [
    "power_ranger_red.morfar()"
   ]
  },
  {
   "cell_type": "code",
   "execution_count": 30,
   "id": "f43b9650-2cc7-496e-a504-ea3bc257f6fd",
   "metadata": {},
   "outputs": [
    {
     "name": "stdout",
     "output_type": "stream",
     "text": [
      "ranger red ready\n"
     ]
    }
   ],
   "source": [
    "power_ranger_red.myself()"
   ]
  },
  {
   "cell_type": "code",
   "execution_count": 31,
   "id": "39eb07d3-9270-4799-b9d1-bda0de1ef196",
   "metadata": {},
   "outputs": [],
   "source": [
    "power_ranger_red.desmorfar()"
   ]
  },
  {
   "cell_type": "code",
   "execution_count": 32,
   "id": "fcbb9181-d70d-437a-8fd3-f03a71f1c841",
   "metadata": {},
   "outputs": [
    {
     "name": "stdout",
     "output_type": "stream",
     "text": [
      "Luiz its time to morph\n"
     ]
    }
   ],
   "source": [
    "power_ranger_red.myself()"
   ]
  },
  {
   "cell_type": "code",
   "execution_count": 33,
   "id": "dce1fa7e-8015-4bbd-aae0-5856a535c6ce",
   "metadata": {},
   "outputs": [
    {
     "data": {
      "text/plain": [
       "'thunder'"
      ]
     },
     "execution_count": 33,
     "metadata": {},
     "output_type": "execute_result"
    }
   ],
   "source": [
    "power_ranger_red.power"
   ]
  },
  {
   "cell_type": "code",
   "execution_count": null,
   "id": "9369ea38-57a7-470c-9952-83ada9f6acb6",
   "metadata": {},
   "outputs": [],
   "source": []
  }
 ],
 "metadata": {
  "kernelspec": {
   "display_name": "Python 3 (ipykernel)",
   "language": "python",
   "name": "python3"
  },
  "language_info": {
   "codemirror_mode": {
    "name": "ipython",
    "version": 3
   },
   "file_extension": ".py",
   "mimetype": "text/x-python",
   "name": "python",
   "nbconvert_exporter": "python",
   "pygments_lexer": "ipython3",
   "version": "3.8.2"
  }
 },
 "nbformat": 4,
 "nbformat_minor": 5
}
