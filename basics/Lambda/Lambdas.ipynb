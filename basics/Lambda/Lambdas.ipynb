{
 "cells": [
  {
   "cell_type": "markdown",
   "id": "ebfff4ef-9f76-47b9-a399-3822657daa06",
   "metadata": {},
   "source": [
    "# Exercicios"
   ]
  },
  {
   "cell_type": "markdown",
   "id": "d331211c-7438-4d42-9864-e66ffa2d9421",
   "metadata": {},
   "source": [
    "##### Escreva um programa Python para remover valores None de uma determinada lista usando a função lambda."
   ]
  },
  {
   "cell_type": "code",
   "execution_count": 7,
   "id": "a7e1a330-f837-496d-b198-a8bee0305fdb",
   "metadata": {},
   "outputs": [
    {
     "data": {
      "text/plain": [
       "['a', 'b', 'd']"
      ]
     },
     "execution_count": 7,
     "metadata": {},
     "output_type": "execute_result"
    }
   ],
   "source": [
    "lista = ['a', 'b', '', 'd', '']\n",
    "lista_not_null = list(filter(lambda x: x != '', lista))\n",
    "lista_not_null"
   ]
  },
  {
   "cell_type": "markdown",
   "id": "6b65e4c2-74b1-4791-bc38-9df404f99644",
   "metadata": {},
   "source": [
    "##### Escreva um programa Python para remover palavras específicas de uma determinada lista usando lambda.\n",
    "Lista original:  \n",
    "['laranja', 'vermelho', 'verde', 'azul', 'branco', 'preto']  \n",
    "Remover palavras:  \n",
    "['laranja', 'preto']  \n",
    "Depois de remover as palavras especificadas da referida lista:  \n",
    "['vermelho', 'verde', 'azul', 'branco']  "
   ]
  },
  {
   "cell_type": "code",
   "execution_count": 11,
   "id": "bb7eeb05-0350-4800-bcc7-26f2dac430f2",
   "metadata": {},
   "outputs": [
    {
     "data": {
      "text/plain": [
       "['vermelho', 'verde', 'azul', 'branco']"
      ]
     },
     "execution_count": 11,
     "metadata": {},
     "output_type": "execute_result"
    }
   ],
   "source": [
    "lista = ['laranja', 'vermelho', 'verde', 'azul', 'branco', 'preto']\n",
    "lista_rm = ['laranja', 'preto']\n",
    "lista_nova = list(filter(lambda x: x not in lista_rm, lista))\n",
    "lista_nova"
   ]
  },
  {
   "cell_type": "markdown",
   "id": "15d4908f-b486-41e2-8c7f-8291463b1912",
   "metadata": {},
   "source": [
    "##### Escreva um programa Python para encontrar a posição do índice e o valor dos valores máximo e mínimo em uma determinada lista de números usando lambda.\n",
    "Lista original:  \n",
    "[12, 33, 23, 10.11, 67, 89, 45, 66.7, 23, 12, 11, 10.25, 54]  \n",
    "Posição do índice e valor do valor máximo da referida lista:  \n",
    "(5, 89)  \n",
    "Posição do índice e valor do valor mínimo da referida lista:  \n",
    "(3, 10.11)  "
   ]
  },
  {
   "cell_type": "code",
   "execution_count": 14,
   "id": "ab6a4cc3-0d98-4591-bf99-b7d7d1566d74",
   "metadata": {},
   "outputs": [],
   "source": [
    "lista = [12, 33, 23, 10.11, 67, 89, 45, 66.7, 23, 12, 11, 10.25, 54]\n",
    "valor_maximo = max(enumerate(lista), key=lambda x: x[1])\n",
    "valor_minimo = min(enumerate(lista), key=lambda x: x[1])"
   ]
  },
  {
   "cell_type": "code",
   "execution_count": 16,
   "id": "376117c7-ed06-416c-92d6-bffe74376043",
   "metadata": {},
   "outputs": [],
   "source": [
    "def get_min_max_value_list(lista):\n",
    "    min_ = min(enumerate(lista), key=lambda x: x[1]) \n",
    "    max_ = max(enumerate(lista), key=lambda x: x[1])\n",
    "    return {'min': min_, 'max': max_}"
   ]
  },
  {
   "cell_type": "code",
   "execution_count": 17,
   "id": "d3256a30-68b0-48a6-bc18-cb0d97307cab",
   "metadata": {},
   "outputs": [
    {
     "data": {
      "text/plain": [
       "{'min': (3, 10.11), 'max': (5, 89)}"
      ]
     },
     "execution_count": 17,
     "metadata": {},
     "output_type": "execute_result"
    }
   ],
   "source": [
    "get_min_max_value_list(lista)"
   ]
  },
  {
   "cell_type": "markdown",
   "id": "00593314-b05a-4bb6-adda-a0269dc1c7ff",
   "metadata": {},
   "source": [
    "##### Escreva um programa Python para localizar os elementos de lista aninhados, que estão presentes em outra lista usando lambda.\n",
    "Listas originais: [1, 2, 3, 4, 5, 6, 7, 8, 9, 10, 11, 12, 13, 14] [[12, 18, 23, 25, 45], [7, 11, 19, 24, 28], [1, 5, 8, 18, 15, 16]]  \n",
    "Interseção das referidas listas aninhadas:  \n",
    "[[12], [7, 11], [1, 5, 8]]  "
   ]
  },
  {
   "cell_type": "markdown",
   "id": "0e5db3b0-de6e-46d0-8cfb-0131ff20f0d2",
   "metadata": {},
   "source": [
    "##### Crie uma lambda que retorne o dobro de um número."
   ]
  },
  {
   "cell_type": "code",
   "execution_count": 27,
   "id": "3c72a9a6-90bc-4039-9c9e-55cdc5b985d8",
   "metadata": {},
   "outputs": [],
   "source": [
    "dobro = lambda x: x * 2 "
   ]
  },
  {
   "cell_type": "code",
   "execution_count": 28,
   "id": "d07c163f-12ed-48fc-bceb-8ed6940066a8",
   "metadata": {},
   "outputs": [
    {
     "data": {
      "text/plain": [
       "4"
      ]
     },
     "execution_count": 28,
     "metadata": {},
     "output_type": "execute_result"
    }
   ],
   "source": [
    "dobro(2)"
   ]
  },
  {
   "cell_type": "markdown",
   "id": "3e66764f-a1c9-4cd0-85f8-6a9df97515b9",
   "metadata": {},
   "source": [
    "##### Crie uma lambda que retorne True se um número for par e False se for ímpar."
   ]
  },
  {
   "cell_type": "code",
   "execution_count": 29,
   "id": "2abaf7ae-0296-4355-8187-47e96af01fe6",
   "metadata": {},
   "outputs": [],
   "source": [
    "impo_par = lambda x: True if x % 2 == 0 else False"
   ]
  },
  {
   "cell_type": "code",
   "execution_count": 34,
   "id": "ca1d3e88-cce4-4da9-a20c-7947de035b88",
   "metadata": {},
   "outputs": [
    {
     "data": {
      "text/plain": [
       "False"
      ]
     },
     "execution_count": 34,
     "metadata": {},
     "output_type": "execute_result"
    }
   ],
   "source": [
    "impo_par(3)"
   ]
  },
  {
   "cell_type": "markdown",
   "id": "6e3f1f8a-ef0b-4123-b7df-4c49a8d5adec",
   "metadata": {},
   "source": [
    "##### Crie uma lista de números e use a função map() com uma lambda para obter uma nova lista com o quadrado de cada número."
   ]
  },
  {
   "cell_type": "code",
   "execution_count": 54,
   "id": "eb8e9e82-d911-4ce3-a721-12ebe43dc260",
   "metadata": {},
   "outputs": [],
   "source": [
    "lista_quadrada = list(map(lambda x: x ** 2, [2,4,7]))"
   ]
  },
  {
   "cell_type": "code",
   "execution_count": 55,
   "id": "4b2cf798-b256-445c-acfb-185b8669d7aa",
   "metadata": {},
   "outputs": [
    {
     "data": {
      "text/plain": [
       "[4, 16, 49]"
      ]
     },
     "execution_count": 55,
     "metadata": {},
     "output_type": "execute_result"
    }
   ],
   "source": [
    "lista_quadrada"
   ]
  },
  {
   "cell_type": "markdown",
   "id": "c8dd7fcb-da8f-422c-bac4-833fadfc3971",
   "metadata": {},
   "source": [
    "##### Crie uma lambda que receba duas listas e retorne uma nova lista com a soma dos elementos correspondentes das duas listas."
   ]
  },
  {
   "cell_type": "code",
   "execution_count": 40,
   "id": "42f88dec-4576-4db3-b69e-561c7b85f787",
   "metadata": {},
   "outputs": [],
   "source": [
    "zip_listas = lambda lista_a, lista_b: list(zip(lista_a, lista_b))"
   ]
  },
  {
   "cell_type": "code",
   "execution_count": 41,
   "id": "2a5c4abc-6f19-4e2f-a766-39ffd2ac795e",
   "metadata": {},
   "outputs": [
    {
     "data": {
      "text/plain": [
       "[(1, 4), (2, 5), (3, 6)]"
      ]
     },
     "execution_count": 41,
     "metadata": {},
     "output_type": "execute_result"
    }
   ],
   "source": [
    "lista_a = [1, 2, 3]\n",
    "lista_b = [4, 5, 6]\n",
    "zip_listas(lista_a, lista_b)"
   ]
  },
  {
   "cell_type": "code",
   "execution_count": 42,
   "id": "24e5af1b-1587-4f7d-9208-bb3acfe742b5",
   "metadata": {},
   "outputs": [
    {
     "data": {
      "text/plain": [
       "[5, 7, 9]"
      ]
     },
     "execution_count": 42,
     "metadata": {},
     "output_type": "execute_result"
    }
   ],
   "source": [
    "list(map(lambda x: sum(x), zip_listas(lista_a, lista_b)))"
   ]
  },
  {
   "cell_type": "code",
   "execution_count": 43,
   "id": "6489d85f-f3d6-4b94-a588-fe2ed5b08f93",
   "metadata": {},
   "outputs": [],
   "source": [
    "soma_listas = lambda lista1, lista2: [x + y for x, y in zip(lista1, lista2)]"
   ]
  },
  {
   "cell_type": "code",
   "execution_count": 44,
   "id": "026b42a7-6a0c-4264-9c63-8bd80b951354",
   "metadata": {},
   "outputs": [
    {
     "data": {
      "text/plain": [
       "[5, 7, 9]"
      ]
     },
     "execution_count": 44,
     "metadata": {},
     "output_type": "execute_result"
    }
   ],
   "source": [
    "soma_listas(lista_a, lista_b)"
   ]
  },
  {
   "cell_type": "code",
   "execution_count": 45,
   "id": "8e383e52-e491-427b-bcc0-874bc07cbd00",
   "metadata": {},
   "outputs": [],
   "source": [
    "soma_listas = lambda lista_a, lista_b: list(map(lambda x: sum(x), zip(lista_a, lista_b)))"
   ]
  },
  {
   "cell_type": "code",
   "execution_count": 46,
   "id": "2b8cd13c-d205-40fc-9619-d9d541f9f1d5",
   "metadata": {},
   "outputs": [
    {
     "data": {
      "text/plain": [
       "[5, 7, 9]"
      ]
     },
     "execution_count": 46,
     "metadata": {},
     "output_type": "execute_result"
    }
   ],
   "source": [
    "soma_listas(lista_a, lista_b)"
   ]
  },
  {
   "cell_type": "markdown",
   "id": "e158b008-95d9-4a56-ad0f-23af6cf2af66",
   "metadata": {},
   "source": [
    "##### Crie uma lista de strings e use a função filter() com uma lambda para obter uma nova lista contendo apenas as strings com mais de 5 caracteres."
   ]
  },
  {
   "cell_type": "code",
   "execution_count": 1,
   "id": "6acdc6cb-e2ae-4cd3-b14c-d34ef60c1a97",
   "metadata": {},
   "outputs": [
    {
     "data": {
      "text/plain": [
       "['joaquim', 'julia', 'genova', 'oruam', 'inacio', 'osorio', 'armando']"
      ]
     },
     "execution_count": 1,
     "metadata": {},
     "output_type": "execute_result"
    }
   ],
   "source": [
    "list_ = ['joao', 'joaquim', 'julia', 'genova', 'oruam', 'inacio', 'osorio', 'oto', 'armando']\n",
    "list(filter(lambda x: len(x) >= 5, list_))"
   ]
  },
  {
   "cell_type": "markdown",
   "id": "7312e3e4-845f-4ed0-8543-cfc359cf6b0c",
   "metadata": {},
   "source": [
    "##### Crie uma lista de dicionários, onde cada dicionário representa uma pessoa com as chaves \"nome\" e \"idade\". Use a função sorted() com uma lambda para ordenar a lista de pessoas por idade, do mais novo para o mais velho."
   ]
  },
  {
   "cell_type": "code",
   "execution_count": 4,
   "id": "d53d4849-a83b-4892-be90-b74d55bbbdb5",
   "metadata": {},
   "outputs": [],
   "source": [
    "lista_pessoas = [\n",
    "    {'nome': 'Egito', 'idade': 26},\n",
    "    {'nome': 'Carolina', 'idade': 23},\n",
    "    {'nome': 'Danessa', 'idade': 30},\n",
    "    {'nome': 'Johan', 'idade': 32}\n",
    "]"
   ]
  },
  {
   "cell_type": "code",
   "execution_count": 5,
   "id": "dcc33d33-04ed-4b42-807c-550b1a3cdd3a",
   "metadata": {
    "tags": []
   },
   "outputs": [
    {
     "data": {
      "text/plain": [
       "[{'nome': 'Egito', 'idade': 26},\n",
       " {'nome': 'Carolina', 'idade': 23},\n",
       " {'nome': 'Danessa', 'idade': 30},\n",
       " {'nome': 'Johan', 'idade': 32}]"
      ]
     },
     "execution_count": 5,
     "metadata": {},
     "output_type": "execute_result"
    }
   ],
   "source": [
    "lista_pessoas"
   ]
  },
  {
   "cell_type": "code",
   "execution_count": 8,
   "id": "c375b06f-c84d-4ea2-a519-ef27167834e6",
   "metadata": {
    "tags": []
   },
   "outputs": [
    {
     "data": {
      "text/plain": [
       "[{'nome': 'Carolina', 'idade': 23},\n",
       " {'nome': 'Egito', 'idade': 26},\n",
       " {'nome': 'Danessa', 'idade': 30},\n",
       " {'nome': 'Johan', 'idade': 32}]"
      ]
     },
     "execution_count": 8,
     "metadata": {},
     "output_type": "execute_result"
    }
   ],
   "source": [
    "sorted(lista_pessoas, key=lambda x: x['idade'], reverse=False)"
   ]
  },
  {
   "cell_type": "markdown",
   "id": "ae09247d-279a-4037-bb37-bfab5dad60f1",
   "metadata": {},
   "source": [
    "##### Crie uma lambda que receba uma lista de números e retorne a média aritmética dos elementos."
   ]
  },
  {
   "cell_type": "code",
   "execution_count": 11,
   "id": "ac75a0db-72ac-4654-be05-099bd04be1b2",
   "metadata": {},
   "outputs": [],
   "source": [
    "med_arit = lambda x: sum(x)/len(x)"
   ]
  },
  {
   "cell_type": "code",
   "execution_count": 12,
   "id": "5d8c91e6-eec7-4cbf-ab32-d3ce1658f3f7",
   "metadata": {
    "tags": []
   },
   "outputs": [
    {
     "data": {
      "text/plain": [
       "2.0"
      ]
     },
     "execution_count": 12,
     "metadata": {},
     "output_type": "execute_result"
    }
   ],
   "source": [
    "med_arit([1,2,3])"
   ]
  },
  {
   "cell_type": "markdown",
   "id": "ec0fccbe-9222-4e56-a2a8-4363dc947723",
   "metadata": {},
   "source": [
    "##### Crie uma lista de tuplas, onde cada tupla contém o nome e a idade de uma pessoa. Use a função filter() com uma lambda para obter uma nova lista contendo apenas as pessoas com idade maior que 18."
   ]
  },
  {
   "cell_type": "code",
   "execution_count": 13,
   "id": "db11e9bb-f344-4603-bf6b-de4938ed2dbb",
   "metadata": {},
   "outputs": [],
   "source": [
    "list_ = [('egito', 26), ('maria', 23), ('danessa', 30), ('johan', 32)]"
   ]
  },
  {
   "cell_type": "code",
   "execution_count": 16,
   "id": "1d96c66e-a644-4a89-baf8-b5177bb92f85",
   "metadata": {
    "tags": []
   },
   "outputs": [
    {
     "data": {
      "text/plain": [
       "[('danessa', 30), ('johan', 32)]"
      ]
     },
     "execution_count": 16,
     "metadata": {},
     "output_type": "execute_result"
    }
   ],
   "source": [
    "list(filter(lambda x: x[1] >= 30, list_))"
   ]
  },
  {
   "cell_type": "markdown",
   "id": "9da7a6f3-0554-41d9-8611-8ebc6605aed0",
   "metadata": {},
   "source": [
    "##### Crie uma lambda que receba uma lista de palavras e retorne uma nova lista contendo as palavras em ordem alfabética, ignorando letras maiúsculas e minúsculas."
   ]
  },
  {
   "cell_type": "code",
   "execution_count": 20,
   "id": "cfefacd8-c4ae-43dc-9dc5-b403becb3080",
   "metadata": {},
   "outputs": [],
   "source": [
    "list_ = ['cc', 'dd', 'aa', 'z', 'b', 'Aa', 'ab', 'ee', 'jj']"
   ]
  },
  {
   "cell_type": "code",
   "execution_count": 21,
   "id": "17c0ea8e-6fa6-4c06-991e-61f9e86d3285",
   "metadata": {
    "tags": []
   },
   "outputs": [
    {
     "data": {
      "text/plain": [
       "['Aa', 'aa', 'ab', 'b', 'cc', 'dd', 'ee', 'jj', 'z']"
      ]
     },
     "execution_count": 21,
     "metadata": {},
     "output_type": "execute_result"
    }
   ],
   "source": [
    "sorted(list_, reverse=False)"
   ]
  },
  {
   "cell_type": "markdown",
   "id": "3a72ee81-69d9-4262-818d-1ad271324b4e",
   "metadata": {},
   "source": [
    "##### Crie uma função que receba uma lista de funções lambdas e um valor. A função deve aplicar cada lambda ao valor e retornar uma lista com os resultados."
   ]
  },
  {
   "cell_type": "code",
   "execution_count": 22,
   "id": "9a05fd7a-3af9-4a88-861b-ed6d18bdb13a",
   "metadata": {
    "tags": []
   },
   "outputs": [],
   "source": [
    "from typing import List, Callable"
   ]
  },
  {
   "cell_type": "code",
   "execution_count": 29,
   "id": "1b532536-1636-49d8-9b39-3792969272ca",
   "metadata": {},
   "outputs": [],
   "source": [
    "def list_lambdas(value: float, lists_funcs: List[Callable]):\n",
    "    return [func(value) for func in lists_funcs]"
   ]
  },
  {
   "cell_type": "code",
   "execution_count": 25,
   "id": "4390e83c-5465-4512-a2ab-3f5765e08cfe",
   "metadata": {
    "tags": []
   },
   "outputs": [],
   "source": [
    "lists_funcs = [\n",
    "    lambda x: x ** 2,\n",
    "    lambda x: x / 2,\n",
    "    lambda x: x + 2,\n",
    "    lambda x: 1 / x\n",
    "]"
   ]
  },
  {
   "cell_type": "code",
   "execution_count": 30,
   "id": "fd435a1d-5b1f-4e9e-9fa3-e3f9ddb8a4f1",
   "metadata": {
    "tags": []
   },
   "outputs": [
    {
     "data": {
      "text/plain": [
       "[4, 1.0, 4, 0.5]"
      ]
     },
     "execution_count": 30,
     "metadata": {},
     "output_type": "execute_result"
    }
   ],
   "source": [
    "list_lambdas(value=2, lists_funcs=lists_funcs)"
   ]
  },
  {
   "cell_type": "code",
   "execution_count": null,
   "id": "21206490-146e-4dc6-a086-9dd7f2d1f067",
   "metadata": {},
   "outputs": [],
   "source": []
  }
 ],
 "metadata": {
  "kernelspec": {
   "display_name": "Python 3 (ipykernel)",
   "language": "python",
   "name": "python3"
  },
  "language_info": {
   "codemirror_mode": {
    "name": "ipython",
    "version": 3
   },
   "file_extension": ".py",
   "mimetype": "text/x-python",
   "name": "python",
   "nbconvert_exporter": "python",
   "pygments_lexer": "ipython3",
   "version": "3.9.0"
  }
 },
 "nbformat": 4,
 "nbformat_minor": 5
}
