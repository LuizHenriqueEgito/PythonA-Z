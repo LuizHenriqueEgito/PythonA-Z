{
 "cells": [
  {
   "cell_type": "markdown",
   "id": "f1dd3fa9-5659-4bf7-9728-b3b7e5ad13a0",
   "metadata": {},
   "source": [
    "# Exercicios"
   ]
  },
  {
   "cell_type": "markdown",
   "id": "b7d35747-43ec-4993-ac03-c85df89954b5",
   "metadata": {},
   "source": [
    "##### Escreva um programa Python para ler cada linha de um determinado arquivo csv e imprimir uma lista de strings."
   ]
  },
  {
   "cell_type": "code",
   "execution_count": null,
   "id": "52630edf-3747-4847-8c7f-c6cc22e58a1a",
   "metadata": {},
   "outputs": [],
   "source": []
  },
  {
   "cell_type": "markdown",
   "id": "e5418d74-a56a-44eb-9728-d30f664c0472",
   "metadata": {
    "tags": []
   },
   "source": [
    "##### Escreva um programa Python para ler um determinado arquivo CSV com delimitador de tabulação."
   ]
  },
  {
   "cell_type": "code",
   "execution_count": null,
   "id": "a00da6ba-325c-4b84-9fe6-7efee41eb919",
   "metadata": {},
   "outputs": [],
   "source": []
  },
  {
   "cell_type": "markdown",
   "id": "f54cf433-1500-498f-9a40-1bd5188ff738",
   "metadata": {
    "tags": []
   },
   "source": [
    "##### Escreva um programa Python para ler um determinado arquivo CSV como uma lista."
   ]
  },
  {
   "cell_type": "code",
   "execution_count": null,
   "id": "ef18dcda-730f-4024-8d42-75700e7e4ecb",
   "metadata": {},
   "outputs": [],
   "source": []
  },
  {
   "cell_type": "markdown",
   "id": "f009e344-3002-46f8-a4c6-91b093a4c548",
   "metadata": {
    "tags": []
   },
   "source": [
    "##### Escreva um programa Python para ler um determinado arquivo CSV como um dicionário."
   ]
  },
  {
   "cell_type": "code",
   "execution_count": null,
   "id": "ed6ee16b-01d3-444f-af2c-fdad2b534305",
   "metadata": {},
   "outputs": [],
   "source": []
  },
  {
   "cell_type": "markdown",
   "id": "24bf52e3-cc29-4e19-b3cd-66e716700131",
   "metadata": {
    "tags": []
   },
   "source": [
    "##### Escreva um programa Python para ler determinados arquivos CSV com espaços iniciais após um delimitador e remova esses espaços iniciais."
   ]
  },
  {
   "cell_type": "code",
   "execution_count": null,
   "id": "8b9d1b66-b2a1-43c7-bad0-fcf275403c44",
   "metadata": {},
   "outputs": [],
   "source": []
  },
  {
   "cell_type": "markdown",
   "id": "b048a148-bd9d-40a0-b92e-6c8666d41fc7",
   "metadata": {
    "tags": []
   },
   "source": [
    "##### Escreva um programa Python que leia um arquivo CSV e remova os espaços iniciais, as aspas em torno de cada entrada e o delimitador."
   ]
  },
  {
   "cell_type": "code",
   "execution_count": null,
   "id": "6914aa49-e44c-492d-80f3-f978ec44a9ad",
   "metadata": {},
   "outputs": [],
   "source": []
  },
  {
   "cell_type": "markdown",
   "id": "07675ed1-cdfb-406e-b25c-30a27c5815bf",
   "metadata": {
    "tags": []
   },
   "source": [
    "##### Escreva um programa Python para ler colunas específicas de um determinado arquivo CSV e imprimir o conteúdo das colunas."
   ]
  },
  {
   "cell_type": "code",
   "execution_count": null,
   "id": "ab0864be-f9c1-4621-b9ae-03ac920a2444",
   "metadata": {},
   "outputs": [],
   "source": []
  },
  {
   "cell_type": "markdown",
   "id": "21ca55d1-bfab-417b-81dc-bdeda66eed32",
   "metadata": {
    "tags": []
   },
   "source": [
    "##### Escreva um programa Python que leia cada linha de um determinado arquivo csv e pule o cabeçalho do arquivo. Imprima também o número de linhas e os nomes dos campos."
   ]
  },
  {
   "cell_type": "code",
   "execution_count": null,
   "id": "e2fcaf5c-1eea-4ee1-9c35-64cf148bf781",
   "metadata": {},
   "outputs": [],
   "source": []
  },
  {
   "cell_type": "markdown",
   "id": "95c5c7b8-a455-456e-a62d-decaf841f6da",
   "metadata": {
    "tags": []
   },
   "source": [
    "##### Escreva um programa Python para criar um objeto para escrever e iterar nas linhas para imprimir os valores."
   ]
  },
  {
   "cell_type": "code",
   "execution_count": null,
   "id": "d111c518-4e63-4bcc-a10d-26be2525bdf2",
   "metadata": {},
   "outputs": [],
   "source": []
  },
  {
   "cell_type": "markdown",
   "id": "43ef3c7d-f88a-4951-b3c1-fa053b305760",
   "metadata": {
    "tags": []
   },
   "source": [
    "##### Escreva um programa Python para gravar uma lista Python de listas em um arquivo csv. Depois de gravar o arquivo CSV, leia o arquivo CSV e exiba o conteúdo."
   ]
  },
  {
   "cell_type": "code",
   "execution_count": null,
   "id": "0d6ffcf7-6fda-4a19-8dbb-dd90e29e2155",
   "metadata": {},
   "outputs": [],
   "source": []
  },
  {
   "cell_type": "markdown",
   "id": "724ac99a-c011-4efb-85ef-dc6b9b3580c1",
   "metadata": {
    "tags": []
   },
   "source": [
    "##### Escreva um programa Python para gravar um dicionário Python em um arquivo csv. Depois de gravar o arquivo CSV, leia o arquivo CSV e exiba o conteúdo."
   ]
  },
  {
   "cell_type": "code",
   "execution_count": null,
   "id": "7e8b7ea6-819a-4e90-8cf6-5b8d50a5e513",
   "metadata": {},
   "outputs": [],
   "source": []
  }
 ],
 "metadata": {
  "kernelspec": {
   "display_name": "Python 3 (ipykernel)",
   "language": "python",
   "name": "python3"
  },
  "language_info": {
   "codemirror_mode": {
    "name": "ipython",
    "version": 3
   },
   "file_extension": ".py",
   "mimetype": "text/x-python",
   "name": "python",
   "nbconvert_exporter": "python",
   "pygments_lexer": "ipython3",
   "version": "3.9.0"
  }
 },
 "nbformat": 4,
 "nbformat_minor": 5
}
