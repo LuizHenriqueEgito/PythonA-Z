{
 "cells": [
  {
   "cell_type": "code",
   "execution_count": 1,
   "id": "5ae902b1-2cd8-414a-bb7e-51ecfc87effe",
   "metadata": {},
   "outputs": [],
   "source": [
    "from datetime import datetime, timedelta"
   ]
  },
  {
   "cell_type": "markdown",
   "id": "083f567b-0aa4-4088-bd53-da6d1e313ec8",
   "metadata": {},
   "source": [
    "# Exercicios"
   ]
  },
  {
   "cell_type": "markdown",
   "id": "3ea3b2a6-e43e-415f-a6c9-9792decd82ca",
   "metadata": {},
   "source": [
    "##### Crie uma função que receba duas datas como argumentos e calcule a diferença entre elas em dias."
   ]
  },
  {
   "cell_type": "code",
   "execution_count": 2,
   "id": "f26562b1-4bbe-45ab-9390-e86b6fcf58a1",
   "metadata": {},
   "outputs": [],
   "source": [
    "date_format = '%d/%m/%Y'\n",
    "date_1 = datetime.strptime('07/04/1997', date_format)\n",
    "date_2 = datetime.strptime('30/11/2000', date_format)"
   ]
  },
  {
   "cell_type": "code",
   "execution_count": 6,
   "id": "6bc0c09a-796f-4262-9574-8da510f82777",
   "metadata": {},
   "outputs": [],
   "source": [
    "delta_time = (date_2 - date_1)"
   ]
  },
  {
   "cell_type": "code",
   "execution_count": 9,
   "id": "0cbe8673-6c68-4031-b869-7e840e30e767",
   "metadata": {},
   "outputs": [
    {
     "data": {
      "text/plain": [
       "1333"
      ]
     },
     "execution_count": 9,
     "metadata": {},
     "output_type": "execute_result"
    }
   ],
   "source": [
    "delta_time.days"
   ]
  },
  {
   "cell_type": "markdown",
   "id": "aa415b78-9166-4ba6-829f-aac7aa085713",
   "metadata": {},
   "source": [
    "##### Crie uma função que receba uma data e retorne o dia da semana correspondente (por exemplo, segunda-feira, terça-feira, etc.)."
   ]
  },
  {
   "cell_type": "code",
   "execution_count": 4,
   "id": "bb7f42ad-12c7-4dcf-92c9-c23d4c903445",
   "metadata": {},
   "outputs": [
    {
     "data": {
      "text/plain": [
       "'Quinta-feira'"
      ]
     },
     "execution_count": 4,
     "metadata": {},
     "output_type": "execute_result"
    }
   ],
   "source": [
    "data = '2000-11-30'\n",
    "data = datetime.strptime(data, '%Y-%m-%d')\n",
    "dias_semana = [\"Segunda-feira\", \"Terça-feira\", \"Quarta-feira\", \"Quinta-feira\", \"Sexta-feira\", \"Sábado\", \"Domingo\"]\n",
    "\n",
    "dias_semana[data.weekday()]"
   ]
  },
  {
   "cell_type": "code",
   "execution_count": 5,
   "id": "a9f0fbbe-0489-485c-bddf-1761e4464850",
   "metadata": {
    "tags": []
   },
   "outputs": [
    {
     "data": {
      "text/plain": [
       "'Segunda-feira'"
      ]
     },
     "execution_count": 5,
     "metadata": {},
     "output_type": "execute_result"
    }
   ],
   "source": [
    "data = '1997-04-07'\n",
    "data = datetime.strptime(data, '%Y-%m-%d')\n",
    "dias_semana = [\"Segunda-feira\", \"Terça-feira\", \"Quarta-feira\", \"Quinta-feira\", \"Sexta-feira\", \"Sábado\", \"Domingo\"]\n",
    "\n",
    "dias_semana[data.weekday()]"
   ]
  },
  {
   "cell_type": "markdown",
   "id": "0d0d95cd-0270-47a0-bc5c-65205d1b12ca",
   "metadata": {},
   "source": [
    "##### Crie uma função que receba um número inteiro que representa a idade de uma pessoa e retorne a data de nascimento correspondente com base na data atual."
   ]
  },
  {
   "cell_type": "markdown",
   "id": "a77a73da-8cd9-4e0e-bdc9-f38e0d601ebf",
   "metadata": {},
   "source": [
    "`datetime.now():` Este método retorna um objeto datetime que contém a data e hora atuais, incluindo informações sobre o fuso horário. Isso significa que você receberá a data e hora do sistema local, incluindo a informação do fuso horário, se disponível.\n",
    "\n",
    "`datetime.today():` Este método também retorna um objeto datetime que contém a data e hora atuais. No entanto, ele não inclui informações sobre o fuso horário. A data e hora retornadas são baseadas no sistema local, mas sem considerar o fuso horário."
   ]
  },
  {
   "cell_type": "code",
   "execution_count": 2,
   "id": "dd64f243-28ca-42b6-9b29-384f03425b9c",
   "metadata": {},
   "outputs": [
    {
     "data": {
      "text/plain": [
       "'11/11/1997'"
      ]
     },
     "execution_count": 2,
     "metadata": {},
     "output_type": "execute_result"
    }
   ],
   "source": [
    "idade = 26\n",
    "date_today = datetime.today()\n",
    "delta_date = date_today - timedelta(days=idade*365)\n",
    "datetime.strftime(delta_date, format='%d/%m/%Y')"
   ]
  },
  {
   "cell_type": "markdown",
   "id": "16199ca3-5cf6-4b63-b1c9-b1929dabe24b",
   "metadata": {},
   "source": [
    "##### Crie uma função que receba uma data de nascimento e calcule a idade atual da pessoa."
   ]
  },
  {
   "cell_type": "code",
   "execution_count": 3,
   "id": "2a242d58-3a5f-4a3b-91c9-801defc15a06",
   "metadata": {},
   "outputs": [],
   "source": [
    "dt_nascimento = datetime.strptime('30/10/2000', '%d/%m/%Y')\n",
    "dt_hoje = datetime.today()\n",
    "\n",
    "idade_days = (dt_hoje - dt_nascimento).days\n",
    "idade_anos = idade_days // 365"
   ]
  },
  {
   "cell_type": "code",
   "execution_count": 4,
   "id": "c53694f6-1669-49c4-a535-14be5722ea4c",
   "metadata": {
    "tags": []
   },
   "outputs": [
    {
     "data": {
      "text/plain": [
       "23"
      ]
     },
     "execution_count": 4,
     "metadata": {},
     "output_type": "execute_result"
    }
   ],
   "source": [
    "idade_anos"
   ]
  },
  {
   "cell_type": "markdown",
   "id": "fd2b63de-85d3-4124-9dc4-81a72d8451db",
   "metadata": {},
   "source": [
    "##### Crie uma função que receba uma lista de datas e retorne a data mais próxima da data atual."
   ]
  },
  {
   "cell_type": "code",
   "execution_count": 2,
   "id": "7a1c7aba-0a72-435a-8b5f-58bc9d28f4f4",
   "metadata": {},
   "outputs": [],
   "source": [
    "from datetime import datetime\n",
    "\n",
    "data_a = datetime(2023, 8, 2)\n",
    "data_b = datetime(2023, 7, 2)\n",
    "\n",
    "data_ref = datetime.now()"
   ]
  },
  {
   "cell_type": "code",
   "execution_count": 10,
   "id": "ec21cf29-8399-4dfe-ac11-840ce63f1cb9",
   "metadata": {
    "tags": []
   },
   "outputs": [
    {
     "name": "stdout",
     "output_type": "stream",
     "text": [
      "data ref - data a: 28 dias\n",
      "data ref - data b: 59 dias\n"
     ]
    }
   ],
   "source": [
    "print(f'data ref - data a: {(data_ref - data_a).days} dias')\n",
    "print(f'data ref - data b: {(data_ref - data_b).days} dias')"
   ]
  },
  {
   "cell_type": "markdown",
   "id": "30e81d9b-2146-493f-be53-ffa15b8a3e6b",
   "metadata": {},
   "source": [
    "##### Escreva um programa Python para obter uma lista de datas entre duas datas."
   ]
  },
  {
   "cell_type": "code",
   "execution_count": 45,
   "id": "d7ca509b-d2f7-4ff3-8885-77394f06b960",
   "metadata": {},
   "outputs": [
    {
     "name": "stdout",
     "output_type": "stream",
     "text": [
      "2023-08-15\n",
      "2023-08-16\n",
      "2023-08-17\n",
      "2023-08-18\n",
      "2023-08-19\n",
      "2023-08-20\n"
     ]
    }
   ],
   "source": [
    "def ger_dts(start: datetime, stop: datetime):\n",
    "    next_day = start\n",
    "    out_start = datetime.strftime(start, format='%Y-%m-%d')\n",
    "    yield out_start\n",
    "    while next_day < stop:\n",
    "        next_day += timedelta(days=1)\n",
    "        yield next_day.strftime('%Y-%m-%d')\n",
    "\n",
    "stop_date = datetime.today() + timedelta(days=5)\n",
    "for date in ger_dts(datetime.today(), stop_date):\n",
    "    print(date)"
   ]
  },
  {
   "cell_type": "code",
   "execution_count": 49,
   "id": "5679af6a-e5c8-425e-9593-1427f489e1d3",
   "metadata": {
    "tags": []
   },
   "outputs": [],
   "source": [
    "def ger_dts(start: datetime):\n",
    "    next_day = start\n",
    "    out_start = datetime.strftime(start, format='%Y-%m-%d')\n",
    "    yield out_start\n",
    "    while True:\n",
    "        next_day += timedelta(days=1)\n",
    "        yield next_day.strftime('%Y-%m-%d')"
   ]
  },
  {
   "cell_type": "code",
   "execution_count": 53,
   "id": "d57be0a9-1fa6-4835-b49f-46b465aab5bd",
   "metadata": {
    "tags": []
   },
   "outputs": [
    {
     "data": {
      "text/plain": [
       "'2023-08-15'"
      ]
     },
     "execution_count": 53,
     "metadata": {},
     "output_type": "execute_result"
    }
   ],
   "source": [
    "g = ger_dts(datetime.today())\n",
    "next(g)"
   ]
  },
  {
   "cell_type": "code",
   "execution_count": 56,
   "id": "6de70bfb-a708-40fa-8d32-b52ac555658e",
   "metadata": {
    "tags": []
   },
   "outputs": [
    {
     "name": "stdout",
     "output_type": "stream",
     "text": [
      "2023-08-17\n",
      "2023-08-18\n",
      "2023-08-19\n",
      "2023-08-20\n",
      "2023-08-21\n",
      "2023-08-22\n",
      "2023-08-23\n",
      "2023-08-24\n",
      "2023-08-25\n",
      "2023-08-26\n"
     ]
    }
   ],
   "source": [
    "for dias in range(10):\n",
    "    print(next(g))"
   ]
  },
  {
   "cell_type": "markdown",
   "id": "2b025fbe-1395-4be7-a459-60548d3fc295",
   "metadata": {},
   "source": [
    "#####  Escreva um programa Python para converter uma string em datetime"
   ]
  },
  {
   "cell_type": "code",
   "execution_count": 61,
   "id": "685d8a1f-ee96-403f-bc5e-a786335b45c8",
   "metadata": {},
   "outputs": [
    {
     "data": {
      "text/plain": [
       "datetime.datetime(2020, 3, 26, 0, 0)"
      ]
     },
     "execution_count": 61,
     "metadata": {},
     "output_type": "execute_result"
    }
   ],
   "source": [
    "# para transformar string em datetime usamos o strftime\n",
    "data = '2020/03/26'\n",
    "datetime.strptime(data, '%Y/%m/%d')"
   ]
  },
  {
   "cell_type": "markdown",
   "id": "2a22f372-7d9a-4395-9d90-3a759a89f828",
   "metadata": {},
   "source": [
    "##### Escreva um programa Python para converter um datetime em string"
   ]
  },
  {
   "cell_type": "code",
   "execution_count": 64,
   "id": "9371ded0-a9ee-454b-9827-e6ca08573551",
   "metadata": {},
   "outputs": [
    {
     "name": "stdout",
     "output_type": "stream",
     "text": [
      "26/03/2020\n"
     ]
    }
   ],
   "source": [
    "# para transformar string em datetime usamos o strptime\n",
    "data = '2020/03/26'\n",
    "data_fmt = datetime.strptime(data, '%Y/%m/%d')\n",
    "print(datetime.strftime(data_fmt, format='%d/%m/%Y'))"
   ]
  },
  {
   "cell_type": "markdown",
   "id": "c2f52be4-3a46-41a6-9b0b-65b859f9d79b",
   "metadata": {},
   "source": [
    "##### Escreva um programa Python para criar 12 datas fixas a partir de uma data especificada em um determinado período. A diferença entre duas datas é 20."
   ]
  },
  {
   "cell_type": "code",
   "execution_count": 94,
   "id": "30f0f36e-29a7-4746-8254-2fb9c7f9bffa",
   "metadata": {},
   "outputs": [],
   "source": [
    "from typing import List\n",
    "def get_dates(date_1: datetime, date_2: datetime) -> List[datetime]:\n",
    "    timedelta_days = (date_2 - date_1).days\n",
    "    delta_dias = timedelta_days // 12\n",
    "    dates = []\n",
    "    for x in range(0, timedelta_days, delta_dias):\n",
    "        dates.append(datetime.strftime(date_1 + timedelta(days=x+10), format='%Y/%m/%d'))\n",
    "    return dates"
   ]
  },
  {
   "cell_type": "code",
   "execution_count": 95,
   "id": "b5ba3a68-9438-426a-821a-90ab86e5b1d0",
   "metadata": {
    "tags": []
   },
   "outputs": [],
   "source": [
    "date1 = datetime.now() - timedelta(days=120)\n",
    "date2 = datetime.now()"
   ]
  },
  {
   "cell_type": "code",
   "execution_count": 96,
   "id": "ca7b8a46-e4db-4a3e-8eb9-a606e1bc502c",
   "metadata": {
    "tags": []
   },
   "outputs": [
    {
     "data": {
      "text/plain": [
       "['2023/04/27',\n",
       " '2023/05/07',\n",
       " '2023/05/17',\n",
       " '2023/05/27',\n",
       " '2023/06/06',\n",
       " '2023/06/16',\n",
       " '2023/06/26',\n",
       " '2023/07/06',\n",
       " '2023/07/16',\n",
       " '2023/07/26',\n",
       " '2023/08/05',\n",
       " '2023/08/15']"
      ]
     },
     "execution_count": 96,
     "metadata": {},
     "output_type": "execute_result"
    }
   ],
   "source": [
    "get_dates(date1, date2)"
   ]
  },
  {
   "cell_type": "markdown",
   "id": "e2f0b7ed-f1f3-4b2c-9c9f-7f1d7ff5ad19",
   "metadata": {},
   "source": [
    "Faça uma função que receba uma data em YYYY-mm-dd e retorne um inteiro do tipo YYYYmm com 1 mês a menos"
   ]
  },
  {
   "cell_type": "code",
   "execution_count": 20,
   "id": "577c3244-10cc-4805-8f52-14135a2070f8",
   "metadata": {},
   "outputs": [],
   "source": [
    "def convert_data(months):\n",
    "    days = months * 30\n",
    "    today = datetime.today()\n",
    "    delta = today - timedelta(days=days)\n",
    "    return int(delta.strftime('%Y%m'))"
   ]
  },
  {
   "cell_type": "code",
   "execution_count": 23,
   "id": "99c01732-2960-4305-a2a8-67dd36363503",
   "metadata": {},
   "outputs": [
    {
     "data": {
      "text/plain": [
       "202305"
      ]
     },
     "execution_count": 23,
     "metadata": {},
     "output_type": "execute_result"
    }
   ],
   "source": [
    "convert_data(months=5)"
   ]
  },
  {
   "cell_type": "code",
   "execution_count": null,
   "id": "605158a8-890a-456e-a892-08273e781a0e",
   "metadata": {},
   "outputs": [],
   "source": []
  }
 ],
 "metadata": {
  "kernelspec": {
   "display_name": "Python 3 (ipykernel)",
   "language": "python",
   "name": "python3"
  },
  "language_info": {
   "codemirror_mode": {
    "name": "ipython",
    "version": 3
   },
   "file_extension": ".py",
   "mimetype": "text/x-python",
   "name": "python",
   "nbconvert_exporter": "python",
   "pygments_lexer": "ipython3",
   "version": "3.8.2"
  }
 },
 "nbformat": 4,
 "nbformat_minor": 5
}
