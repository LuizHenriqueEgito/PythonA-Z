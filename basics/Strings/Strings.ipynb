{
 "cells": [
  {
   "cell_type": "markdown",
   "id": "cad74854-08f1-4556-ba4b-51a52144677d",
   "metadata": {},
   "source": [
    "# Exercicios"
   ]
  },
  {
   "cell_type": "markdown",
   "id": "e442636f-412a-460f-801b-9505694ea1dd",
   "metadata": {},
   "source": [
    "##### Escreva um programa Python que retorne uma string classificada alfabeticamente pelo primeiro caractere de uma determinada string de palavras.\n",
    "Dados de exemplo:  \n",
    "(\"Vermelho Verde Preto Branco Rosa\") -> \"Preto Verde Rosa Vermelho Branco\"  \n",
    "(\"Calcule a soma dos dois números dados como strings.\") -> (\"Calcule como números dados da soma das ditas strings. the two\")  \n",
    "(\"A rápida raposa marrom pula sobre o cachorro preguiçoso.\") -> (\"O cachorro marrom. raposa pula preguiçosamente sobre o rápido\")  "
   ]
  },
  {
   "cell_type": "code",
   "execution_count": 6,
   "id": "2cead060-91f0-4f99-9ac9-687cb2a8aef4",
   "metadata": {},
   "outputs": [
    {
     "data": {
      "text/plain": [
       "['Branco', 'Preto', 'Rosa', 'Verde', 'Vermelho']"
      ]
     },
     "execution_count": 6,
     "metadata": {},
     "output_type": "execute_result"
    }
   ],
   "source": [
    "string_words = 'Vermelho Verde Preto Branco Rosa'\n",
    "string_list = string_words.split()\n",
    "\n",
    "string_list.sort()\n",
    "\n",
    "string_list"
   ]
  },
  {
   "cell_type": "markdown",
   "id": "1df87740-8161-4c73-b45b-7316101c6b27",
   "metadata": {},
   "source": [
    "#####  Escreva um programa Python para remover caracteres consecutivos repetidos e substituí-los por letras únicas e imprimir uma string atualizada.\n",
    "Dados de amostra:  \n",
    "(\"Red Green White\") -> \"Red Gren White\"  \n",
    "(\"aabbbcdeffff\") -> \"abcdef\"  \n",
    "(\"Yellowwooddoor\") -> \"Yelowodor\"  "
   ]
  },
  {
   "cell_type": "code",
   "execution_count": 9,
   "id": "8316dfe1-acb2-4f17-8cf3-2719df890585",
   "metadata": {},
   "outputs": [],
   "source": [
    "def foobar(string: str):\n",
    "    format_string = []\n",
    "    char_0 = None\n",
    "    for char in string:\n",
    "        if char != char_0:\n",
    "            format_string.append(char)\n",
    "            char_0 = char\n",
    "    return ''.join(format_string)"
   ]
  },
  {
   "cell_type": "code",
   "execution_count": 10,
   "id": "40795c5a-b14a-43a6-af8e-bf65c895dbc0",
   "metadata": {
    "tags": []
   },
   "outputs": [
    {
     "data": {
      "text/plain": [
       "'eu aqui'"
      ]
     },
     "execution_count": 10,
     "metadata": {},
     "output_type": "execute_result"
    }
   ],
   "source": [
    "foobar('eeeuuuu aaaquuuiiii')"
   ]
  },
  {
   "cell_type": "markdown",
   "id": "3e4737fc-7cfd-4300-8f4c-76438459a024",
   "metadata": {},
   "source": [
    "##### Escreva um programa Python para extrair e exibir o nome de um determinado endereço de e-mail.\n",
    "Dados de exemplo:  \n",
    "(\" john@example.com \") -> (\"john\")  \n",
    "(\" john.smith@example.com \") -> (\"johnsmith\")  \n",
    "(\"totalmente qualificado-dominio@example.com \" ) -> (\"domínio totalmente qualificado\")  "
   ]
  },
  {
   "cell_type": "code",
   "execution_count": 14,
   "id": "d57fdff0-3799-46c1-b88e-fc27385ff4e5",
   "metadata": {},
   "outputs": [],
   "source": [
    "def get_name4email(email: str) -> str:\n",
    "    name = list(takewhile(lambda char: char != '@', email.strip()))\n",
    "    return ''.join(name)"
   ]
  },
  {
   "cell_type": "code",
   "execution_count": 15,
   "id": "9ad0a1b4-bb3d-4d1a-87aa-64ad372a55f5",
   "metadata": {
    "tags": []
   },
   "outputs": [
    {
     "data": {
      "text/plain": [
       "'john'"
      ]
     },
     "execution_count": 15,
     "metadata": {},
     "output_type": "execute_result"
    }
   ],
   "source": [
    "get_name4email(' john@example.com ')"
   ]
  },
  {
   "cell_type": "markdown",
   "id": "001722ea-269a-4036-a305-c8a24ea2b87f",
   "metadata": {
    "tags": []
   },
   "source": [
    "##### Escreva um programa em Python para extrair números de uma determinada string.\n",
    "Exemplo de saída:   \n",
    "String original: vermelho 12 preto 45 verde  \n",
    "Extrair números da referida string: [12, 45]  "
   ]
  },
  {
   "cell_type": "code",
   "execution_count": 17,
   "id": "be67f0d6-8965-4853-a126-1c526dabfcf8",
   "metadata": {},
   "outputs": [],
   "source": [
    "from typing import List\n",
    "def extract_numbers(string: str) -> List[int]:\n",
    "    string_list = string.split()\n",
    "    list_numbers = []\n",
    "    for word in string_list:\n",
    "        try:\n",
    "            list_numbers.append(int(word))\n",
    "        except:\n",
    "            continue\n",
    "    return list_numbers"
   ]
  },
  {
   "cell_type": "code",
   "execution_count": 18,
   "id": "ffbd4762-c0a1-4c26-835e-021a4c99c8ac",
   "metadata": {
    "tags": []
   },
   "outputs": [
    {
     "data": {
      "text/plain": [
       "[12, 45]"
      ]
     },
     "execution_count": 18,
     "metadata": {},
     "output_type": "execute_result"
    }
   ],
   "source": [
    "extract_numbers('vermelho 12 preto 45 verde')"
   ]
  },
  {
   "cell_type": "markdown",
   "id": "8f6bf531-a0db-430e-b318-18ed0c2eaf89",
   "metadata": {},
   "source": [
    "##### Escreva um programa Python para remover caracteres indesejados de uma determinada string.\n",
    "Exemplo de saída:  \n",
    "String original: Pyth*^on Exercis^es  \n",
    "Após remover caracteres indesejados:  \n",
    "Python Exercises  \n",
    "Original String: A%^!B#*CD  \n",
    "Após remover caracteres indesejados:  \n",
    "ABCD  "
   ]
  },
  {
   "cell_type": "code",
   "execution_count": 30,
   "id": "f64dede4-351d-4717-9127-66637347db6b",
   "metadata": {},
   "outputs": [
    {
     "data": {
      "text/plain": [
       "'Python Exercises'"
      ]
     },
     "execution_count": 30,
     "metadata": {},
     "output_type": "execute_result"
    }
   ],
   "source": [
    "string = 'Pyth*^on Exercis^es'\n",
    "lixos = '!@#$%¨&*()-=+{}[]``^~´'\n",
    "''.join([x for x in string if x not in lixos])"
   ]
  },
  {
   "cell_type": "markdown",
   "id": "738f5004-51a6-44a9-8000-281386716afb",
   "metadata": {},
   "source": [
    "##### Escreva um programa Python para verificar se uma determinada string contém uma letra maiúscula, uma letra minúscula, um número e um comprimento mínimo.\n",
    "Exemplo de saída:  \n",
    "insira a string: W3resource  \n",
    "['Valid string.']  "
   ]
  },
  {
   "cell_type": "code",
   "execution_count": 39,
   "id": "1946ed7c-9763-4e21-a46f-73cd4ca74490",
   "metadata": {},
   "outputs": [],
   "source": [
    "def inspection_str(string: str, min_lenght: int = 8) -> str:\n",
    "    if min_lenght < 8:\n",
    "        return 'Invalid String'\n",
    "    has_loewr = any(char.isupper() for char in string)\n",
    "    has_upper = any(char.islower() for char in string)\n",
    "    has_number = any(char in '0123456789' for char in string)\n",
    "    if all([has_loewr, has_upper, has_number]):\n",
    "        return 'string ok'\n",
    "    return 'Invalid String'"
   ]
  },
  {
   "cell_type": "code",
   "execution_count": 41,
   "id": "906b4c88-249b-4fcd-a3e9-6c600a71c7a2",
   "metadata": {
    "tags": []
   },
   "outputs": [
    {
     "data": {
      "text/plain": [
       "'Invalid String'"
      ]
     },
     "execution_count": 41,
     "metadata": {},
     "output_type": "execute_result"
    }
   ],
   "source": [
    "inspection_str('aaaaaa')"
   ]
  },
  {
   "cell_type": "code",
   "execution_count": 42,
   "id": "6a97aaf2-785c-46b8-9c8f-aae741d4257e",
   "metadata": {
    "tags": []
   },
   "outputs": [
    {
     "data": {
      "text/plain": [
       "'Invalid String'"
      ]
     },
     "execution_count": 42,
     "metadata": {},
     "output_type": "execute_result"
    }
   ],
   "source": [
    "inspection_str('aAaaaaabBcccC')"
   ]
  },
  {
   "cell_type": "code",
   "execution_count": 43,
   "id": "fd4a9dce-ce46-4aee-8618-83323bebae44",
   "metadata": {
    "tags": []
   },
   "outputs": [
    {
     "data": {
      "text/plain": [
       "'string ok'"
      ]
     },
     "execution_count": 43,
     "metadata": {},
     "output_type": "execute_result"
    }
   ],
   "source": [
    "inspection_str('aAaaaaabBcccC1')"
   ]
  },
  {
   "cell_type": "code",
   "execution_count": 40,
   "id": "55b05f65-f65f-446a-baa4-38b3e16b31c3",
   "metadata": {
    "tags": []
   },
   "outputs": [
    {
     "data": {
      "text/plain": [
       "'string ok'"
      ]
     },
     "execution_count": 40,
     "metadata": {},
     "output_type": "execute_result"
    }
   ],
   "source": [
    "inspection_str('W3resource')"
   ]
  },
  {
   "cell_type": "markdown",
   "id": "1feddce2-420b-4401-93a8-74d55509525a",
   "metadata": {},
   "source": [
    "##### Escreva um programa em Python para encontrar os valores comuns que aparecem em duas strings fornecidas.\n",
    "Saída de amostra:  \n",
    "Strings originais:  \n",
    "Python3  \n",
    "Python2.7  \n",
    "Interseção de duas strings ditas:  \n",
    "Python  "
   ]
  },
  {
   "cell_type": "code",
   "execution_count": 71,
   "id": "41d27fa9-95db-4b03-8776-040d24479c52",
   "metadata": {},
   "outputs": [],
   "source": [
    "def get_equals(string_a: str, string_b: str) -> str:\n",
    "    len_string = min(len(string_a), len(string_b))\n",
    "    words = []\n",
    "\n",
    "    for i in range(0, len_string):\n",
    "        if string_a[i] == string_b[i]:\n",
    "            words.append(string_a[i])\n",
    "    return ''.join(words)"
   ]
  },
  {
   "cell_type": "code",
   "execution_count": 72,
   "id": "a24218ce-c622-4373-9772-97d00d40eb28",
   "metadata": {},
   "outputs": [
    {
     "data": {
      "text/plain": [
       "'Python3'"
      ]
     },
     "execution_count": 72,
     "metadata": {},
     "output_type": "execute_result"
    }
   ],
   "source": [
    "get_equals('Python3', 'Python3.7')"
   ]
  },
  {
   "cell_type": "code",
   "execution_count": null,
   "id": "ebbee02d-5581-4d9a-b0cc-d2f193a4768b",
   "metadata": {},
   "outputs": [],
   "source": []
  }
 ],
 "metadata": {
  "kernelspec": {
   "display_name": "Python 3 (ipykernel)",
   "language": "python",
   "name": "python3"
  },
  "language_info": {
   "codemirror_mode": {
    "name": "ipython",
    "version": 3
   },
   "file_extension": ".py",
   "mimetype": "text/x-python",
   "name": "python",
   "nbconvert_exporter": "python",
   "pygments_lexer": "ipython3",
   "version": "3.8.2"
  }
 },
 "nbformat": 4,
 "nbformat_minor": 5
}
