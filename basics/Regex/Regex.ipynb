{
 "cells": [
  {
   "cell_type": "markdown",
   "id": "8e91bb84-ca26-4d59-b36f-3cd8fc6d9fc7",
   "metadata": {
    "tags": []
   },
   "source": [
    "# Exercicios"
   ]
  },
  {
   "cell_type": "markdown",
   "id": "9063dade-3a8b-4617-9c12-c8fc59569a90",
   "metadata": {},
   "source": [
    "##### Faça uma função que pegue apenas emails."
   ]
  },
  {
   "cell_type": "code",
   "execution_count": null,
   "id": "5a1262ee-48fe-4382-a030-2da9b9ac36db",
   "metadata": {},
   "outputs": [],
   "source": []
  },
  {
   "cell_type": "markdown",
   "id": "02051af8-cb9a-4b90-8fa6-995fd74d7b79",
   "metadata": {},
   "source": [
    "##### Faça uma função que pegue apenas CPFS."
   ]
  },
  {
   "cell_type": "code",
   "execution_count": null,
   "id": "19edb492-e61b-4a82-a14b-71b0e42e716f",
   "metadata": {},
   "outputs": [],
   "source": []
  },
  {
   "cell_type": "markdown",
   "id": "64cb3048-aa5d-4a45-848f-0aff8181e1a6",
   "metadata": {},
   "source": [
    "##### Faça uma função que pegue apenas nomes maiusculos."
   ]
  },
  {
   "cell_type": "code",
   "execution_count": null,
   "id": "226c4976-c3be-4d89-baa6-a171bf5dd1a2",
   "metadata": {},
   "outputs": [],
   "source": []
  },
  {
   "cell_type": "markdown",
   "id": "d7907ebe-f8fc-4e3f-a6ec-a1901336cdad",
   "metadata": {},
   "source": [
    "##### Faça uma função que pegue apenas datas"
   ]
  },
  {
   "cell_type": "code",
   "execution_count": null,
   "id": "645101fb-f59d-4933-81d3-4cd779663b1e",
   "metadata": {},
   "outputs": [],
   "source": []
  },
  {
   "cell_type": "code",
   "execution_count": null,
   "id": "846561b8-d808-451a-8160-21f12cd02413",
   "metadata": {},
   "outputs": [],
   "source": []
  }
 ],
 "metadata": {
  "kernelspec": {
   "display_name": "Python 3 (ipykernel)",
   "language": "python",
   "name": "python3"
  },
  "language_info": {
   "codemirror_mode": {
    "name": "ipython",
    "version": 3
   },
   "file_extension": ".py",
   "mimetype": "text/x-python",
   "name": "python",
   "nbconvert_exporter": "python",
   "pygments_lexer": "ipython3",
   "version": "3.8.2"
  }
 },
 "nbformat": 4,
 "nbformat_minor": 5
}
