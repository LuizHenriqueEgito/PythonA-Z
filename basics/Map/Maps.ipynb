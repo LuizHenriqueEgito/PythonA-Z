{
 "cells": [
  {
   "cell_type": "markdown",
   "id": "107267e8-67cb-4deb-b9d5-f650db4b5675",
   "metadata": {},
   "source": [
    "# Exercicios"
   ]
  },
  {
   "cell_type": "markdown",
   "id": "0eab57ae-90b8-46e7-9be4-8d08f948cbed",
   "metadata": {},
   "source": [
    "##### Escreva um programa em Python para triplicar todos os números em uma determinada lista de inteiros. Use o mapa Python."
   ]
  },
  {
   "cell_type": "code",
   "execution_count": 1,
   "id": "335c2dd8-59b3-4a96-b265-f01dcf074e06",
   "metadata": {},
   "outputs": [
    {
     "data": {
      "text/plain": [
       "[3, 6, 9, 12]"
      ]
     },
     "execution_count": 1,
     "metadata": {},
     "output_type": "execute_result"
    }
   ],
   "source": [
    "list(map(lambda x: x*3, [1,2,3,4]))"
   ]
  },
  {
   "cell_type": "markdown",
   "id": "b016c5e9-1a6c-4558-8924-66f2cbebc7c0",
   "metadata": {},
   "source": [
    "##### Escreva um programa em Python para adicionar três listas fornecidas usando map e lambda em Python."
   ]
  },
  {
   "cell_type": "code",
   "execution_count": 4,
   "id": "b54de555-8d07-40f2-8136-5984df729c16",
   "metadata": {},
   "outputs": [
    {
     "data": {
      "text/plain": [
       "[4, 9, 14]"
      ]
     },
     "execution_count": 4,
     "metadata": {},
     "output_type": "execute_result"
    }
   ],
   "source": [
    "list_1 = [1,2,3]\n",
    "list_2 = [2,4,6]\n",
    "list_3 = [1,3,5]\n",
    "\n",
    "list(map(sum, zip(list_1, list_2, list_3)))"
   ]
  },
  {
   "cell_type": "markdown",
   "id": "5d5bb0ae-739f-4a71-87e5-dff0953c82f2",
   "metadata": {},
   "source": [
    "##### Escreva um programa Python para criar uma lista contendo a potência do referido número em bases elevadas ao número correspondente no índice usando o mapa Python."
   ]
  },
  {
   "cell_type": "code",
   "execution_count": 32,
   "id": "b89d1463-0a26-4702-b4c9-0c5adf6b3633",
   "metadata": {},
   "outputs": [
    {
     "data": {
      "text/plain": [
       "[1, 2, 9, 64, 625]"
      ]
     },
     "execution_count": 32,
     "metadata": {},
     "output_type": "execute_result"
    }
   ],
   "source": [
    "lista = [1, 2 ,3 , 4, 5]\n",
    "list(map(lambda x: x[1] ** x[0], enumerate(lista)))"
   ]
  },
  {
   "cell_type": "markdown",
   "id": "4405387e-76c2-4b41-9a55-1435b6c0d0fd",
   "metadata": {},
   "source": [
    "##### Escreva um programa em Python para converter todos os caracteres em maiúsculas e minúsculas e eliminar letras duplicadas de uma determinada sequência. Use a função map()."
   ]
  },
  {
   "cell_type": "code",
   "execution_count": 9,
   "id": "f102a142-a6e8-4997-9b2c-71eff9a4fd2f",
   "metadata": {},
   "outputs": [],
   "source": [
    "def foobar(text: str):\n",
    "    text = text.lower()\n",
    "    text_ = []\n",
    "    for char in text:\n",
    "        if char not in text_:\n",
    "            text_.append(char)\n",
    "    return ''.join(text_)"
   ]
  },
  {
   "cell_type": "code",
   "execution_count": 11,
   "id": "b1a57291-bb8b-43a0-8a74-e38c97040900",
   "metadata": {
    "tags": []
   },
   "outputs": [],
   "source": [
    "lista = ['AAAaaaaBBBbbbBBCCC', 'CCCcccDDDddEEEEeeSS', 'sdSASSDDSFsd']"
   ]
  },
  {
   "cell_type": "code",
   "execution_count": 12,
   "id": "0ca0d9a7-c13a-4296-8d76-9422070b1efc",
   "metadata": {
    "tags": []
   },
   "outputs": [
    {
     "data": {
      "text/plain": [
       "['abc', 'cdes', 'sdaf']"
      ]
     },
     "execution_count": 12,
     "metadata": {},
     "output_type": "execute_result"
    }
   ],
   "source": [
    "list(map(foobar, lista))"
   ]
  },
  {
   "cell_type": "markdown",
   "id": "5c726ad2-698a-4627-abb0-60e337a4488a",
   "metadata": {},
   "source": [
    "##### Escreva um programa em Python para calcular o quadrado dos primeiros N números de Fibonacci, usando a função map e gere uma lista dos números."
   ]
  },
  {
   "cell_type": "code",
   "execution_count": 1,
   "id": "bd86786c-0ff5-4077-ab7f-d18def5d1ee1",
   "metadata": {
    "tags": []
   },
   "outputs": [
    {
     "name": "stdout",
     "output_type": "stream",
     "text": [
      "First 10 Fibonacci numbers:\n",
      "[0, 1, 1, 2, 3, 5, 8, 13, 21, 34]\n",
      "\n",
      "After squaring said numbers of the list:\n",
      "[0, 1, 1, 4, 9, 25, 64, 169, 441, 1156]\n"
     ]
    }
   ],
   "source": [
    "import itertools\n",
    "n = 10\n",
    "def fibonacci_nums(x=0, y=1):\n",
    "    yield x\n",
    "    while True:\n",
    "        yield y\n",
    "        x, y = y, x + y\n",
    "print(\"First 10 Fibonacci numbers:\")\n",
    "result = list(itertools.islice(fibonacci_nums(), n))\n",
    "print(result)\n",
    "square = lambda x: x * x \n",
    "print(\"\\nAfter squaring said numbers of the list:\")\n",
    "print(list(map(square, result)))"
   ]
  },
  {
   "cell_type": "markdown",
   "id": "3b10ce41-175d-49fd-aa38-7018d5a1de56",
   "metadata": {},
   "source": [
    "##### Escreva um programa Python para encontrar a proporção de números positivos, números negativos e zeros em uma matriz de inteiros."
   ]
  },
  {
   "cell_type": "code",
   "execution_count": 2,
   "id": "8e115af5-d2ba-4539-9430-318360d9631e",
   "metadata": {},
   "outputs": [],
   "source": [
    "from typing import List\n",
    "def summary(list_: List[float]):\n",
    "    pos = len(list(filter(lambda x: x > 0, list_))) / len(list_)\n",
    "    neg = len(list(filter(lambda x: x < 0, list_))) / len(list_)\n",
    "    neu = len(list(filter(lambda x: x == 0, list_))) / len(list_)\n",
    "    return round(pos, 2), round(neu, 2), round(neg, 2)"
   ]
  },
  {
   "cell_type": "code",
   "execution_count": 3,
   "id": "69e677aa-b07a-4775-9c2e-1f5abfa36112",
   "metadata": {
    "tags": []
   },
   "outputs": [],
   "source": [
    "lista = [[-2, -1, 5], [-7, 0, 1], [0, 0, -8], [ 9, 10, 11]]"
   ]
  },
  {
   "cell_type": "code",
   "execution_count": 5,
   "id": "7dbc0949-5701-49a7-8f8c-872e4c42c31c",
   "metadata": {},
   "outputs": [
    {
     "data": {
      "text/plain": [
       "[(0.33, 0.0, 0.67), (0.33, 0.33, 0.33), (0.0, 0.67, 0.33), (1.0, 0.0, 0.0)]"
      ]
     },
     "execution_count": 5,
     "metadata": {},
     "output_type": "execute_result"
    }
   ],
   "source": [
    "list(map(summary, lista))"
   ]
  },
  {
   "cell_type": "markdown",
   "id": "e71637a9-44d0-484c-9bb4-485041b3f1a3",
   "metadata": {},
   "source": [
    "Suponha que você tenha uma lista de números inteiros e queira criar uma nova lista que contenha o quadrado de cada número usando map. Escreva uma função que faça isso e retorne a nova lista."
   ]
  },
  {
   "cell_type": "code",
   "execution_count": 1,
   "id": "048bc1fd-aa0a-47d4-ade9-02d6032f5f32",
   "metadata": {},
   "outputs": [
    {
     "data": {
      "text/plain": [
       "[1, 4, 9, 16, 25]"
      ]
     },
     "execution_count": 1,
     "metadata": {},
     "output_type": "execute_result"
    }
   ],
   "source": [
    "list_ = [1,2,3,4,5]\n",
    "list(map(lambda x: x ** 2, list_))"
   ]
  },
  {
   "cell_type": "markdown",
   "id": "7622968f-22f0-4d20-a252-bc67e2ed2107",
   "metadata": {},
   "source": [
    "Dada uma lista de nomes, escreva uma função que use map para transformar todos os nomes em letras maiúsculas e retorne uma lista com os nomes em letras maiúsculas."
   ]
  },
  {
   "cell_type": "code",
   "execution_count": 2,
   "id": "db5f0b74-9e42-4fe7-8b65-1d3b14a32a4a",
   "metadata": {},
   "outputs": [
    {
     "data": {
      "text/plain": [
       "['LUIZ', 'MARIA', 'JORDANA', 'CALLEBE', 'ELORA']"
      ]
     },
     "execution_count": 2,
     "metadata": {},
     "output_type": "execute_result"
    }
   ],
   "source": [
    "names_list = [\"Luiz\", \"Maria\", \"Jordana\", \"Callebe\", \"Elora\"]\n",
    "list(map(lambda x: x.upper(), names_list))"
   ]
  },
  {
   "cell_type": "markdown",
   "id": "aa5aba49-7669-467a-8474-1c377ce65f31",
   "metadata": {},
   "source": [
    "Você tem uma lista de strings que representam números inteiros. Cada string pode conter dígitos e sinais de adição ou subtração. Escreva uma função que use map para avaliar cada expressão matemática nas strings e retorne uma lista de resultados como inteiros. Por exemplo, se a entrada for ['2+3', '5-1', '8+12'], a saída deve ser [5, 4, 20]."
   ]
  },
  {
   "cell_type": "code",
   "execution_count": null,
   "id": "77d14254-b5dd-4708-993a-12c58ffd831c",
   "metadata": {},
   "outputs": [],
   "source": []
  }
 ],
 "metadata": {
  "kernelspec": {
   "display_name": "Python 3 (ipykernel)",
   "language": "python",
   "name": "python3"
  },
  "language_info": {
   "codemirror_mode": {
    "name": "ipython",
    "version": 3
   },
   "file_extension": ".py",
   "mimetype": "text/x-python",
   "name": "python",
   "nbconvert_exporter": "python",
   "pygments_lexer": "ipython3",
   "version": "3.8.2"
  }
 },
 "nbformat": 4,
 "nbformat_minor": 5
}
