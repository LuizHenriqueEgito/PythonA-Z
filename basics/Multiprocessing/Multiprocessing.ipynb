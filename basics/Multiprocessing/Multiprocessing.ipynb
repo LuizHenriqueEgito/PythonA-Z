{
 "cells": [
  {
   "cell_type": "markdown",
   "id": "2c899963-e00a-4cb8-9fce-64315915d7e4",
   "metadata": {},
   "source": [
    "# Exercicios"
   ]
  },
  {
   "cell_type": "markdown",
   "id": "b45c9c68-12f2-4298-95a0-ae281a142232",
   "metadata": {},
   "source": [
    "##### Crie um programa que use o multiprocessing para calcular a soma dos primeiros N números inteiros em paralelo."
   ]
  },
  {
   "cell_type": "code",
   "execution_count": 10,
   "id": "b2b3d004-0601-429f-a889-aeb65481a6c9",
   "metadata": {
    "tags": []
   },
   "outputs": [
    {
     "ename": "AttributeError",
     "evalue": "Can't pickle local object 'parallel_sum.<locals>.<lambda>'",
     "output_type": "error",
     "traceback": [
      "\u001b[1;31m---------------------------------------------------------------------------\u001b[0m",
      "\u001b[1;31mAttributeError\u001b[0m                            Traceback (most recent call last)",
      "Cell \u001b[1;32mIn[10], line 30\u001b[0m\n\u001b[0;32m     27\u001b[0m n \u001b[38;5;241m=\u001b[39m \u001b[38;5;241m1000\u001b[39m  \u001b[38;5;66;03m# Número de inteiros a serem somados\u001b[39;00m\n\u001b[0;32m     28\u001b[0m num_processes \u001b[38;5;241m=\u001b[39m \u001b[38;5;241m4\u001b[39m  \u001b[38;5;66;03m# Número de processos a serem usados\u001b[39;00m\n\u001b[1;32m---> 30\u001b[0m total_sum \u001b[38;5;241m=\u001b[39m \u001b[43mparallel_sum\u001b[49m\u001b[43m(\u001b[49m\u001b[43mn\u001b[49m\u001b[43m,\u001b[49m\u001b[43m \u001b[49m\u001b[43mnum_processes\u001b[49m\u001b[43m)\u001b[49m\n\u001b[0;32m     31\u001b[0m \u001b[38;5;28mprint\u001b[39m(\u001b[38;5;124mf\u001b[39m\u001b[38;5;124m\"\u001b[39m\u001b[38;5;124mSoma dos primeiros \u001b[39m\u001b[38;5;132;01m{\u001b[39;00mn\u001b[38;5;132;01m}\u001b[39;00m\u001b[38;5;124m números inteiros: \u001b[39m\u001b[38;5;132;01m{\u001b[39;00mtotal_sum\u001b[38;5;132;01m}\u001b[39;00m\u001b[38;5;124m\"\u001b[39m)\n",
      "Cell \u001b[1;32mIn[10], line 19\u001b[0m, in \u001b[0;36mparallel_sum\u001b[1;34m(n, num_processes)\u001b[0m\n\u001b[0;32m     17\u001b[0m     process \u001b[38;5;241m=\u001b[39m multiprocessing\u001b[38;5;241m.\u001b[39mProcess(target\u001b[38;5;241m=\u001b[39m\u001b[38;5;28;01mlambda\u001b[39;00m r, s, e: r\u001b[38;5;241m.\u001b[39mappend(calculate_partial_sum(s, e)), args\u001b[38;5;241m=\u001b[39m(results, start, end))\n\u001b[0;32m     18\u001b[0m     processes\u001b[38;5;241m.\u001b[39mappend(process)\n\u001b[1;32m---> 19\u001b[0m     \u001b[43mprocess\u001b[49m\u001b[38;5;241;43m.\u001b[39;49m\u001b[43mstart\u001b[49m\u001b[43m(\u001b[49m\u001b[43m)\u001b[49m\n\u001b[0;32m     21\u001b[0m \u001b[38;5;28;01mfor\u001b[39;00m process \u001b[38;5;129;01min\u001b[39;00m processes:\n\u001b[0;32m     22\u001b[0m     process\u001b[38;5;241m.\u001b[39mjoin()\n",
      "File \u001b[1;32mc:\\users\\luiz_\\appdata\\local\\programs\\python\\python39\\lib\\multiprocessing\\process.py:121\u001b[0m, in \u001b[0;36mBaseProcess.start\u001b[1;34m(self)\u001b[0m\n\u001b[0;32m    118\u001b[0m \u001b[38;5;28;01massert\u001b[39;00m \u001b[38;5;129;01mnot\u001b[39;00m _current_process\u001b[38;5;241m.\u001b[39m_config\u001b[38;5;241m.\u001b[39mget(\u001b[38;5;124m'\u001b[39m\u001b[38;5;124mdaemon\u001b[39m\u001b[38;5;124m'\u001b[39m), \\\n\u001b[0;32m    119\u001b[0m        \u001b[38;5;124m'\u001b[39m\u001b[38;5;124mdaemonic processes are not allowed to have children\u001b[39m\u001b[38;5;124m'\u001b[39m\n\u001b[0;32m    120\u001b[0m _cleanup()\n\u001b[1;32m--> 121\u001b[0m \u001b[38;5;28mself\u001b[39m\u001b[38;5;241m.\u001b[39m_popen \u001b[38;5;241m=\u001b[39m \u001b[38;5;28;43mself\u001b[39;49m\u001b[38;5;241;43m.\u001b[39;49m\u001b[43m_Popen\u001b[49m\u001b[43m(\u001b[49m\u001b[38;5;28;43mself\u001b[39;49m\u001b[43m)\u001b[49m\n\u001b[0;32m    122\u001b[0m \u001b[38;5;28mself\u001b[39m\u001b[38;5;241m.\u001b[39m_sentinel \u001b[38;5;241m=\u001b[39m \u001b[38;5;28mself\u001b[39m\u001b[38;5;241m.\u001b[39m_popen\u001b[38;5;241m.\u001b[39msentinel\n\u001b[0;32m    123\u001b[0m \u001b[38;5;66;03m# Avoid a refcycle if the target function holds an indirect\u001b[39;00m\n\u001b[0;32m    124\u001b[0m \u001b[38;5;66;03m# reference to the process object (see bpo-30775)\u001b[39;00m\n",
      "File \u001b[1;32mc:\\users\\luiz_\\appdata\\local\\programs\\python\\python39\\lib\\multiprocessing\\context.py:224\u001b[0m, in \u001b[0;36mProcess._Popen\u001b[1;34m(process_obj)\u001b[0m\n\u001b[0;32m    222\u001b[0m \u001b[38;5;129m@staticmethod\u001b[39m\n\u001b[0;32m    223\u001b[0m \u001b[38;5;28;01mdef\u001b[39;00m \u001b[38;5;21m_Popen\u001b[39m(process_obj):\n\u001b[1;32m--> 224\u001b[0m     \u001b[38;5;28;01mreturn\u001b[39;00m \u001b[43m_default_context\u001b[49m\u001b[38;5;241;43m.\u001b[39;49m\u001b[43mget_context\u001b[49m\u001b[43m(\u001b[49m\u001b[43m)\u001b[49m\u001b[38;5;241;43m.\u001b[39;49m\u001b[43mProcess\u001b[49m\u001b[38;5;241;43m.\u001b[39;49m\u001b[43m_Popen\u001b[49m\u001b[43m(\u001b[49m\u001b[43mprocess_obj\u001b[49m\u001b[43m)\u001b[49m\n",
      "File \u001b[1;32mc:\\users\\luiz_\\appdata\\local\\programs\\python\\python39\\lib\\multiprocessing\\context.py:327\u001b[0m, in \u001b[0;36mSpawnProcess._Popen\u001b[1;34m(process_obj)\u001b[0m\n\u001b[0;32m    324\u001b[0m \u001b[38;5;129m@staticmethod\u001b[39m\n\u001b[0;32m    325\u001b[0m \u001b[38;5;28;01mdef\u001b[39;00m \u001b[38;5;21m_Popen\u001b[39m(process_obj):\n\u001b[0;32m    326\u001b[0m     \u001b[38;5;28;01mfrom\u001b[39;00m \u001b[38;5;21;01m.\u001b[39;00m\u001b[38;5;21;01mpopen_spawn_win32\u001b[39;00m \u001b[38;5;28;01mimport\u001b[39;00m Popen\n\u001b[1;32m--> 327\u001b[0m     \u001b[38;5;28;01mreturn\u001b[39;00m \u001b[43mPopen\u001b[49m\u001b[43m(\u001b[49m\u001b[43mprocess_obj\u001b[49m\u001b[43m)\u001b[49m\n",
      "File \u001b[1;32mc:\\users\\luiz_\\appdata\\local\\programs\\python\\python39\\lib\\multiprocessing\\popen_spawn_win32.py:93\u001b[0m, in \u001b[0;36mPopen.__init__\u001b[1;34m(self, process_obj)\u001b[0m\n\u001b[0;32m     91\u001b[0m \u001b[38;5;28;01mtry\u001b[39;00m:\n\u001b[0;32m     92\u001b[0m     reduction\u001b[38;5;241m.\u001b[39mdump(prep_data, to_child)\n\u001b[1;32m---> 93\u001b[0m     \u001b[43mreduction\u001b[49m\u001b[38;5;241;43m.\u001b[39;49m\u001b[43mdump\u001b[49m\u001b[43m(\u001b[49m\u001b[43mprocess_obj\u001b[49m\u001b[43m,\u001b[49m\u001b[43m \u001b[49m\u001b[43mto_child\u001b[49m\u001b[43m)\u001b[49m\n\u001b[0;32m     94\u001b[0m \u001b[38;5;28;01mfinally\u001b[39;00m:\n\u001b[0;32m     95\u001b[0m     set_spawning_popen(\u001b[38;5;28;01mNone\u001b[39;00m)\n",
      "File \u001b[1;32mc:\\users\\luiz_\\appdata\\local\\programs\\python\\python39\\lib\\multiprocessing\\reduction.py:60\u001b[0m, in \u001b[0;36mdump\u001b[1;34m(obj, file, protocol)\u001b[0m\n\u001b[0;32m     58\u001b[0m \u001b[38;5;28;01mdef\u001b[39;00m \u001b[38;5;21mdump\u001b[39m(obj, file, protocol\u001b[38;5;241m=\u001b[39m\u001b[38;5;28;01mNone\u001b[39;00m):\n\u001b[0;32m     59\u001b[0m \u001b[38;5;250m    \u001b[39m\u001b[38;5;124;03m'''Replacement for pickle.dump() using ForkingPickler.'''\u001b[39;00m\n\u001b[1;32m---> 60\u001b[0m     \u001b[43mForkingPickler\u001b[49m\u001b[43m(\u001b[49m\u001b[43mfile\u001b[49m\u001b[43m,\u001b[49m\u001b[43m \u001b[49m\u001b[43mprotocol\u001b[49m\u001b[43m)\u001b[49m\u001b[38;5;241;43m.\u001b[39;49m\u001b[43mdump\u001b[49m\u001b[43m(\u001b[49m\u001b[43mobj\u001b[49m\u001b[43m)\u001b[49m\n",
      "\u001b[1;31mAttributeError\u001b[0m: Can't pickle local object 'parallel_sum.<locals>.<lambda>'"
     ]
    }
   ],
   "source": [
    "import multiprocessing\n",
    "\n",
    "def calculate_partial_sum(start, end):\n",
    "    partial_sum = 0\n",
    "    for i in range(start, end + 1):\n",
    "        partial_sum += i\n",
    "    return partial_sum\n",
    "\n",
    "def parallel_sum(n, num_processes):\n",
    "    chunk_size = n // num_processes\n",
    "    processes = []\n",
    "    results = []\n",
    "\n",
    "    for i in range(num_processes):\n",
    "        start = i * chunk_size + 1\n",
    "        end = (i + 1) * chunk_size if i != num_processes - 1 else n\n",
    "        process = multiprocessing.Process(target=lambda r, s, e: r.append(calculate_partial_sum(s, e)), args=(results, start, end))\n",
    "        processes.append(process)\n",
    "        process.start()\n",
    "\n",
    "    for process in processes:\n",
    "        process.join()\n",
    "\n",
    "    total_sum = sum(results)\n",
    "    return total_sum\n",
    "\n",
    "n = 1000  # Número de inteiros a serem somados\n",
    "num_processes = 4  # Número de processos a serem usados\n",
    "\n",
    "total_sum = parallel_sum(n, num_processes)\n",
    "print(f\"Soma dos primeiros {n} números inteiros: {total_sum}\")"
   ]
  },
  {
   "cell_type": "markdown",
   "id": "67449ac0-7545-4968-b961-8d9db4bc877d",
   "metadata": {
    "tags": []
   },
   "source": [
    "##### Implemente um programa que use processos para encontrar os números primos em um intervalo específico."
   ]
  },
  {
   "cell_type": "code",
   "execution_count": null,
   "id": "e216f074-e84b-446c-8235-5206372639e7",
   "metadata": {},
   "outputs": [],
   "source": []
  },
  {
   "cell_type": "markdown",
   "id": "db3686f9-1242-4d2c-954e-8644b3370853",
   "metadata": {
    "tags": []
   },
   "source": [
    "##### Desenvolva um programa que divida um grande arquivo de texto em várias partes menores usando processos."
   ]
  },
  {
   "cell_type": "code",
   "execution_count": null,
   "id": "6663ccfd-d432-417e-8545-05a6e8c6b540",
   "metadata": {},
   "outputs": [],
   "source": []
  },
  {
   "cell_type": "markdown",
   "id": "2ae64bff-19ae-451e-b4c3-fe750aa692ff",
   "metadata": {
    "tags": []
   },
   "source": [
    "##### Crie um programa que processe uma lista grande de números e calcule a média deles usando processos."
   ]
  },
  {
   "cell_type": "code",
   "execution_count": null,
   "id": "97f535bf-44fd-4319-b8b3-8e179d808b9b",
   "metadata": {},
   "outputs": [],
   "source": []
  },
  {
   "cell_type": "markdown",
   "id": "3c7bc598-3c39-4243-ac33-67e0fd1c8954",
   "metadata": {
    "tags": []
   },
   "source": [
    "##### Implemente um programa que faça o download de várias imagens da web em paralelo usando multiprocessing."
   ]
  },
  {
   "cell_type": "code",
   "execution_count": null,
   "id": "595d8956-f3e7-4016-8216-65e5e101e359",
   "metadata": {},
   "outputs": [],
   "source": []
  },
  {
   "cell_type": "markdown",
   "id": "5dfb3258-8b53-4e01-91c5-a56909b5d2d8",
   "metadata": {
    "tags": []
   },
   "source": [
    "##### Desenvolva um programa que leia e processe vários arquivos CSV em paralelo usando processos"
   ]
  },
  {
   "cell_type": "code",
   "execution_count": null,
   "id": "65781871-f27d-4f6d-9dee-42aaae22e851",
   "metadata": {},
   "outputs": [],
   "source": []
  },
  {
   "cell_type": "markdown",
   "id": "ade11081-cebd-46b1-ac8c-976771e7f76a",
   "metadata": {
    "tags": []
   },
   "source": [
    "##### Crie um programa que use o multiprocessing para resolver um problema de busca em um grande conjunto de dados."
   ]
  },
  {
   "cell_type": "code",
   "execution_count": null,
   "id": "2cddcafa-f404-4c90-b72a-01037a570c18",
   "metadata": {},
   "outputs": [],
   "source": []
  },
  {
   "cell_type": "markdown",
   "id": "7f50ce0e-f0ff-4226-b40f-a337452d248e",
   "metadata": {
    "tags": []
   },
   "source": [
    "##### Implemente um programa que calcule o fatorial de vários números em paralelo usando processos."
   ]
  },
  {
   "cell_type": "code",
   "execution_count": null,
   "id": "9c70d8ec-f4fa-4111-b874-366f59ae8aab",
   "metadata": {},
   "outputs": [],
   "source": []
  },
  {
   "cell_type": "markdown",
   "id": "1341991a-6fc9-4806-9e80-1c3c57b408fd",
   "metadata": {
    "tags": []
   },
   "source": [
    "##### Desenvolva um programa que utilize processos para realizar a conversão de formatos de áudio ou vídeo em um diretório."
   ]
  },
  {
   "cell_type": "code",
   "execution_count": null,
   "id": "c2720413-581c-49ef-bc0d-0551bb9183ec",
   "metadata": {},
   "outputs": [],
   "source": []
  },
  {
   "cell_type": "markdown",
   "id": "d5c61fb9-2bc7-4bbf-a9e5-159e2c83e879",
   "metadata": {
    "tags": []
   },
   "source": [
    "##### Crie um programa que simule uma corrida entre vários carros, onde cada carro é um processo separado."
   ]
  },
  {
   "cell_type": "code",
   "execution_count": null,
   "id": "60ee37e3-d3fc-4b31-8b4b-9e04cea82e47",
   "metadata": {},
   "outputs": [],
   "source": []
  }
 ],
 "metadata": {
  "kernelspec": {
   "display_name": "Python 3 (ipykernel)",
   "language": "python",
   "name": "python3"
  },
  "language_info": {
   "codemirror_mode": {
    "name": "ipython",
    "version": 3
   },
   "file_extension": ".py",
   "mimetype": "text/x-python",
   "name": "python",
   "nbconvert_exporter": "python",
   "pygments_lexer": "ipython3",
   "version": "3.8.2"
  }
 },
 "nbformat": 4,
 "nbformat_minor": 5
}
