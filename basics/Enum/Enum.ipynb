{
 "cells": [
  {
   "cell_type": "code",
   "execution_count": 1,
   "id": "04cff070-ab9e-4a08-b77c-245a7757ff65",
   "metadata": {
    "tags": []
   },
   "outputs": [],
   "source": [
    "from enum import Enum"
   ]
  },
  {
   "cell_type": "markdown",
   "id": "fe55051d-916b-406f-b5c6-20bbda4b32b8",
   "metadata": {},
   "source": [
    "O `Enum` (enumeração) é um recurso em Python que permite definir um conjunto nomeado de valores constantes. Ele é útil quando você tem um conjunto fixo de valores que deseja usar para representar estados, opções, tipos ou categorias específicas em seu programa. Aqui estão algumas situações em que o Enum pode ser usado:\n",
    "\n",
    "*Melhor Legibilidade*: Usar Enum pode tornar o código mais legível, pois os valores têm nomes descritivos e semânticos, em vez de números mágicos ou strings.\n",
    "\n",
    "*Evitar Erros*: Ao usar Enum, você evita erros de digitação de strings ou números mágicos. O Python garantirá que você esteja usando um valor válido da enumeração.\n",
    "\n",
    "*Mapeamento de Categorias*: Você pode usar Enum para criar mapeamentos de categorias. Por exemplo, estados de um pedido, opções de configuração ou tipos de dados.\n",
    "\n",
    "*Documentação Clara*: O uso de Enum ajuda a documentar e comunicar claramente a intenção do código. O significado de cada valor é autoexplicativo.\n",
    "\n",
    "*Autocompletar*: IDEs podem fornecer recursos de autocompletar para os valores da enumeração, facilitando a escrita de código.\n",
    "\n",
    "Exemplo de uso do Enum:"
   ]
  },
  {
   "cell_type": "code",
   "execution_count": 15,
   "id": "66722c64-73ce-4ad2-a512-0fc3e44d1d96",
   "metadata": {
    "tags": []
   },
   "outputs": [
    {
     "name": "stdout",
     "output_type": "stream",
     "text": [
      "It's the weekend!\n"
     ]
    }
   ],
   "source": [
    "from enum import Enum\n",
    "\n",
    "class Weekday(Enum):\n",
    "    MONDAY = 1\n",
    "    TUESDAY = 2\n",
    "    WEDNESDAY = 3\n",
    "    THURSDAY = 4\n",
    "    FRIDAY = 5\n",
    "    SATURDAY = 6\n",
    "    SUNDAY = 7\n",
    "\n",
    "# Uso\n",
    "today = Weekday.FRIDAY\n",
    "if today == Weekday.FRIDAY or today == Weekday.SATURDAY:\n",
    "    print(\"It's the weekend!\")"
   ]
  },
  {
   "cell_type": "markdown",
   "id": "eae5d011-2a88-4197-a1fe-8c9b92528858",
   "metadata": {},
   "source": [
    "# Exercicios"
   ]
  },
  {
   "cell_type": "markdown",
   "id": "8685916c-2f02-47d5-a395-775d94fc6040",
   "metadata": {},
   "source": [
    "##### Escreva um programa Python para criar um objeto Enum e exibir um nome e valor de membro.\n",
    "Dados de exemplo:  \n",
    "Nome do membro: Albânia  \n",
    "Valor do membro: 355  "
   ]
  },
  {
   "cell_type": "code",
   "execution_count": 2,
   "id": "f39d8b07-8f62-482a-b7e1-8a78d9598068",
   "metadata": {},
   "outputs": [],
   "source": [
    "class Paises(Enum):\n",
    "    Brasil = 10\n",
    "    Argtentina = 11\n",
    "    Chile = 12\n",
    "    Bolivia = 13\n",
    "    Uruguai = 14"
   ]
  },
  {
   "cell_type": "code",
   "execution_count": 6,
   "id": "27ad6df4-93e4-4507-a910-65cd60e4ee2f",
   "metadata": {
    "tags": []
   },
   "outputs": [
    {
     "data": {
      "text/plain": [
       "'Brasil'"
      ]
     },
     "execution_count": 6,
     "metadata": {},
     "output_type": "execute_result"
    }
   ],
   "source": [
    "Paises.Brasil.name"
   ]
  },
  {
   "cell_type": "code",
   "execution_count": 5,
   "id": "ad6a160a-8420-4dd3-8199-00de664a1b28",
   "metadata": {
    "tags": []
   },
   "outputs": [
    {
     "data": {
      "text/plain": [
       "13"
      ]
     },
     "execution_count": 5,
     "metadata": {},
     "output_type": "execute_result"
    }
   ],
   "source": [
    "Paises.Brasil.value"
   ]
  },
  {
   "cell_type": "markdown",
   "id": "3c40af5a-f540-4439-a41c-20bf3629cba5",
   "metadata": {},
   "source": [
    "##### Escreva um programa Python que itere em uma classe enum e exiba cada membro e seu valor.\n",
    "Resultado esperado:  \n",
    "Afeganistão = 93  \n",
    "Albânia = 355  \n",
    "Argélia = 213  \n",
    "Andorra = 376  \n",
    "Angola = 244  \n",
    "Antártida = 672  "
   ]
  },
  {
   "cell_type": "code",
   "execution_count": 8,
   "id": "bea2440e-5e0a-41c4-b7ef-c323a373b031",
   "metadata": {},
   "outputs": [
    {
     "name": "stdout",
     "output_type": "stream",
     "text": [
      "pais: Afeganistão | valor: 93\n",
      "pais: Albânia | valor: 355\n",
      "pais: Argélia | valor: 213\n",
      "pais: Andorra | valor: 376\n",
      "pais: Angola | valor: 244\n",
      "pais: Antártida | valor: 672\n"
     ]
    }
   ],
   "source": [
    "class PaisesOM(Enum):\n",
    "    Afeganistão = 93\n",
    "    Albânia = 355\n",
    "    Argélia = 213\n",
    "    Andorra = 376\n",
    "    Angola = 244\n",
    "    Antártida = 672\n",
    "    \n",
    "for pais in PaisesOM:\n",
    "    print(f'pais: {pais.name} | valor: {pais.value}')"
   ]
  },
  {
   "cell_type": "markdown",
   "id": "136f317e-30ec-4a86-bc2f-79316e8ff4b8",
   "metadata": {},
   "source": [
    "##### Escreva um programa Python para obter todos os valores de uma classe enum.\n",
    "Saída esperada:  \n",
    "[93, 355, 213, 376, 244, 672]  "
   ]
  },
  {
   "cell_type": "code",
   "execution_count": 2,
   "id": "615bcc86-67de-4db3-8f17-31e630c32ca9",
   "metadata": {},
   "outputs": [],
   "source": [
    "class Numeros(Enum):\n",
    "    nove_tres = 93\n",
    "    tres_cinco_cinco = 355\n",
    "    dois_um_tres = 213\n",
    "    tres_sete_meia = 376\n",
    "    dois_quatro_quatro = 244\n",
    "    seis_sete_dois = 672"
   ]
  },
  {
   "cell_type": "code",
   "execution_count": 8,
   "id": "6ca2a65b-346b-437d-a1ae-da6327a52439",
   "metadata": {
    "tags": []
   },
   "outputs": [
    {
     "data": {
      "text/plain": [
       "dict_keys(['nove_tres', 'tres_cinco_cinco', 'dois_um_tres', 'tres_sete_meia', 'dois_quatro_quatro', 'seis_sete_dois'])"
      ]
     },
     "execution_count": 8,
     "metadata": {},
     "output_type": "execute_result"
    }
   ],
   "source": [
    "Numeros.__members__.keys()"
   ]
  },
  {
   "cell_type": "code",
   "execution_count": 9,
   "id": "c1d645ea-7b78-4055-8381-3cb8349c3187",
   "metadata": {
    "tags": []
   },
   "outputs": [
    {
     "data": {
      "text/plain": [
       "dict_values([<Numeros.nove_tres: 93>, <Numeros.tres_cinco_cinco: 355>, <Numeros.dois_um_tres: 213>, <Numeros.tres_sete_meia: 376>, <Numeros.dois_quatro_quatro: 244>, <Numeros.seis_sete_dois: 672>])"
      ]
     },
     "execution_count": 9,
     "metadata": {},
     "output_type": "execute_result"
    }
   ],
   "source": [
    "Numeros.__members__.values()"
   ]
  },
  {
   "cell_type": "markdown",
   "id": "0e729b69-d476-4e37-be7f-1450ffbf44e1",
   "metadata": {},
   "source": [
    "##### Escreva um programa Python para obter valores de enumeração exclusivos.\n",
    "Resultado esperado:  \n",
    "Afeganistão = 93  \n",
    "Albânia = 355  \n",
    "Argélia = 213  \n",
    "Andorra = 376  \n",
    "Angola = 244  "
   ]
  },
  {
   "cell_type": "code",
   "execution_count": 11,
   "id": "0d7dc233-9e9b-4eb8-9106-8c54a1b2d9be",
   "metadata": {},
   "outputs": [],
   "source": [
    "class Pais(Enum):\n",
    "    Afeganistao = 93\n",
    "    Albania = 355\n",
    "    Argelia = 213\n",
    "    Andorra = 376\n",
    "    Angola = 244"
   ]
  },
  {
   "cell_type": "code",
   "execution_count": 14,
   "id": "04241f97-a8a0-41f0-bc87-79625be7aa02",
   "metadata": {
    "tags": []
   },
   "outputs": [
    {
     "data": {
      "text/plain": [
       "93"
      ]
     },
     "execution_count": 14,
     "metadata": {},
     "output_type": "execute_result"
    }
   ],
   "source": [
    "Pais.Afeganistao.value"
   ]
  },
  {
   "cell_type": "code",
   "execution_count": null,
   "id": "b7544dfa-af3f-4773-85f5-02071304d9fd",
   "metadata": {},
   "outputs": [],
   "source": []
  }
 ],
 "metadata": {
  "kernelspec": {
   "display_name": "Python 3 (ipykernel)",
   "language": "python",
   "name": "python3"
  },
  "language_info": {
   "codemirror_mode": {
    "name": "ipython",
    "version": 3
   },
   "file_extension": ".py",
   "mimetype": "text/x-python",
   "name": "python",
   "nbconvert_exporter": "python",
   "pygments_lexer": "ipython3",
   "version": "3.9.0"
  }
 },
 "nbformat": 4,
 "nbformat_minor": 5
}
